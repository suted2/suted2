{
  "nbformat": 4,
  "nbformat_minor": 0,
  "metadata": {
    "colab": {
      "provenance": [],
      "toc_visible": true
    },
    "kernelspec": {
      "name": "python3",
      "display_name": "Python 3"
    },
    "language_info": {
      "name": "python"
    }
  },
  "cells": [
    {
      "cell_type": "code",
      "execution_count": 1,
      "metadata": {
        "colab": {
          "base_uri": "https://localhost:8080/"
        },
        "id": "661ktLCSYPBT",
        "outputId": "b5e297e2-d686-4a37-f0d2-963e143a449b"
      },
      "outputs": [
        {
          "output_type": "stream",
          "name": "stdout",
          "text": [
            "/usr/local/lib/python3.8/dist-packages/gdown/cli.py:127: FutureWarning: Option `--id` was deprecated in version 4.3.1 and will be removed in 5.0. You don't need to pass it anymore to use a file ID.\n",
            "  warnings.warn(\n",
            "Downloading...\n",
            "From: https://drive.google.com/uc?id=1pQUWRkx9QPB_BpPN2BiJ3dSy2OEmDjbq\n",
            "To: /content/spaceship-titanic.zip\n",
            "100% 306k/306k [00:00<00:00, 47.0MB/s]\n"
          ]
        }
      ],
      "source": [
        "!gdown --id 1pQUWRkx9QPB_BpPN2BiJ3dSy2OEmDjbq  #데이터 다운 "
      ]
    },
    {
      "cell_type": "code",
      "source": [
        "!unzip ./spaceship-titanic.zip"
      ],
      "metadata": {
        "colab": {
          "base_uri": "https://localhost:8080/"
        },
        "id": "4jzpdQdLYS0A",
        "outputId": "ae2b5ebd-a623-4681-9ffa-9c0825d8eab9"
      },
      "execution_count": 2,
      "outputs": [
        {
          "output_type": "stream",
          "name": "stdout",
          "text": [
            "Archive:  ./spaceship-titanic.zip\n",
            "  inflating: sample_submission.csv   \n",
            "  inflating: test.csv                \n",
            "  inflating: train.csv               \n"
          ]
        }
      ]
    },
    {
      "cell_type": "markdown",
      "source": [
        "> ## 데이터 확인 "
      ],
      "metadata": {
        "id": "ZwIv_zCpUbAw"
      }
    },
    {
      "cell_type": "code",
      "source": [
        "import pandas as pd\n",
        "import seaborn as sns\n",
        "import matplotlib.pyplot as plt\n"
      ],
      "metadata": {
        "id": "pUUiEGlLYuz1"
      },
      "execution_count": 184,
      "outputs": []
    },
    {
      "cell_type": "code",
      "source": [
        "#데이터 프레임으로 저장 \n",
        "train = pd.read_csv(\"train.csv\")\n",
        "test = pd.read_csv(\"test.csv\")\n"
      ],
      "metadata": {
        "id": "YL2mw_yEYxE5"
      },
      "execution_count": 185,
      "outputs": []
    },
    {
      "cell_type": "code",
      "source": [
        "train.head(10)"
      ],
      "metadata": {
        "colab": {
          "base_uri": "https://localhost:8080/",
          "height": 600
        },
        "id": "kuvRn8EIY0RX",
        "outputId": "cbd44090-56da-4fcf-98f4-f2ce7aeac485"
      },
      "execution_count": null,
      "outputs": [
        {
          "output_type": "execute_result",
          "data": {
            "text/plain": [
              "  PassengerId HomePlanet CryoSleep  Cabin    Destination   Age    VIP  \\\n",
              "0     0001_01     Europa     False  B/0/P    TRAPPIST-1e  39.0  False   \n",
              "1     0002_01      Earth     False  F/0/S    TRAPPIST-1e  24.0  False   \n",
              "2     0003_01     Europa     False  A/0/S    TRAPPIST-1e  58.0   True   \n",
              "3     0003_02     Europa     False  A/0/S    TRAPPIST-1e  33.0  False   \n",
              "4     0004_01      Earth     False  F/1/S    TRAPPIST-1e  16.0  False   \n",
              "5     0005_01      Earth     False  F/0/P  PSO J318.5-22  44.0  False   \n",
              "6     0006_01      Earth     False  F/2/S    TRAPPIST-1e  26.0  False   \n",
              "7     0006_02      Earth      True  G/0/S    TRAPPIST-1e  28.0  False   \n",
              "8     0007_01      Earth     False  F/3/S    TRAPPIST-1e  35.0  False   \n",
              "9     0008_01     Europa      True  B/1/P    55 Cancri e  14.0  False   \n",
              "\n",
              "   RoomService  FoodCourt  ShoppingMall     Spa  VRDeck                Name  \\\n",
              "0          0.0        0.0           0.0     0.0     0.0     Maham Ofracculy   \n",
              "1        109.0        9.0          25.0   549.0    44.0        Juanna Vines   \n",
              "2         43.0     3576.0           0.0  6715.0    49.0       Altark Susent   \n",
              "3          0.0     1283.0         371.0  3329.0   193.0        Solam Susent   \n",
              "4        303.0       70.0         151.0   565.0     2.0   Willy Santantines   \n",
              "5          0.0      483.0           0.0   291.0     0.0   Sandie Hinetthews   \n",
              "6         42.0     1539.0           3.0     0.0     0.0  Billex Jacostaffey   \n",
              "7          0.0        0.0           0.0     0.0     NaN  Candra Jacostaffey   \n",
              "8          0.0      785.0          17.0   216.0     0.0       Andona Beston   \n",
              "9          0.0        0.0           0.0     0.0     0.0      Erraiam Flatic   \n",
              "\n",
              "   Transported  \n",
              "0        False  \n",
              "1         True  \n",
              "2        False  \n",
              "3        False  \n",
              "4         True  \n",
              "5         True  \n",
              "6         True  \n",
              "7         True  \n",
              "8         True  \n",
              "9         True  "
            ],
            "text/html": [
              "\n",
              "  <div id=\"df-69115595-e3ea-4c19-b346-ffc66c14f3c6\">\n",
              "    <div class=\"colab-df-container\">\n",
              "      <div>\n",
              "<style scoped>\n",
              "    .dataframe tbody tr th:only-of-type {\n",
              "        vertical-align: middle;\n",
              "    }\n",
              "\n",
              "    .dataframe tbody tr th {\n",
              "        vertical-align: top;\n",
              "    }\n",
              "\n",
              "    .dataframe thead th {\n",
              "        text-align: right;\n",
              "    }\n",
              "</style>\n",
              "<table border=\"1\" class=\"dataframe\">\n",
              "  <thead>\n",
              "    <tr style=\"text-align: right;\">\n",
              "      <th></th>\n",
              "      <th>PassengerId</th>\n",
              "      <th>HomePlanet</th>\n",
              "      <th>CryoSleep</th>\n",
              "      <th>Cabin</th>\n",
              "      <th>Destination</th>\n",
              "      <th>Age</th>\n",
              "      <th>VIP</th>\n",
              "      <th>RoomService</th>\n",
              "      <th>FoodCourt</th>\n",
              "      <th>ShoppingMall</th>\n",
              "      <th>Spa</th>\n",
              "      <th>VRDeck</th>\n",
              "      <th>Name</th>\n",
              "      <th>Transported</th>\n",
              "    </tr>\n",
              "  </thead>\n",
              "  <tbody>\n",
              "    <tr>\n",
              "      <th>0</th>\n",
              "      <td>0001_01</td>\n",
              "      <td>Europa</td>\n",
              "      <td>False</td>\n",
              "      <td>B/0/P</td>\n",
              "      <td>TRAPPIST-1e</td>\n",
              "      <td>39.0</td>\n",
              "      <td>False</td>\n",
              "      <td>0.0</td>\n",
              "      <td>0.0</td>\n",
              "      <td>0.0</td>\n",
              "      <td>0.0</td>\n",
              "      <td>0.0</td>\n",
              "      <td>Maham Ofracculy</td>\n",
              "      <td>False</td>\n",
              "    </tr>\n",
              "    <tr>\n",
              "      <th>1</th>\n",
              "      <td>0002_01</td>\n",
              "      <td>Earth</td>\n",
              "      <td>False</td>\n",
              "      <td>F/0/S</td>\n",
              "      <td>TRAPPIST-1e</td>\n",
              "      <td>24.0</td>\n",
              "      <td>False</td>\n",
              "      <td>109.0</td>\n",
              "      <td>9.0</td>\n",
              "      <td>25.0</td>\n",
              "      <td>549.0</td>\n",
              "      <td>44.0</td>\n",
              "      <td>Juanna Vines</td>\n",
              "      <td>True</td>\n",
              "    </tr>\n",
              "    <tr>\n",
              "      <th>2</th>\n",
              "      <td>0003_01</td>\n",
              "      <td>Europa</td>\n",
              "      <td>False</td>\n",
              "      <td>A/0/S</td>\n",
              "      <td>TRAPPIST-1e</td>\n",
              "      <td>58.0</td>\n",
              "      <td>True</td>\n",
              "      <td>43.0</td>\n",
              "      <td>3576.0</td>\n",
              "      <td>0.0</td>\n",
              "      <td>6715.0</td>\n",
              "      <td>49.0</td>\n",
              "      <td>Altark Susent</td>\n",
              "      <td>False</td>\n",
              "    </tr>\n",
              "    <tr>\n",
              "      <th>3</th>\n",
              "      <td>0003_02</td>\n",
              "      <td>Europa</td>\n",
              "      <td>False</td>\n",
              "      <td>A/0/S</td>\n",
              "      <td>TRAPPIST-1e</td>\n",
              "      <td>33.0</td>\n",
              "      <td>False</td>\n",
              "      <td>0.0</td>\n",
              "      <td>1283.0</td>\n",
              "      <td>371.0</td>\n",
              "      <td>3329.0</td>\n",
              "      <td>193.0</td>\n",
              "      <td>Solam Susent</td>\n",
              "      <td>False</td>\n",
              "    </tr>\n",
              "    <tr>\n",
              "      <th>4</th>\n",
              "      <td>0004_01</td>\n",
              "      <td>Earth</td>\n",
              "      <td>False</td>\n",
              "      <td>F/1/S</td>\n",
              "      <td>TRAPPIST-1e</td>\n",
              "      <td>16.0</td>\n",
              "      <td>False</td>\n",
              "      <td>303.0</td>\n",
              "      <td>70.0</td>\n",
              "      <td>151.0</td>\n",
              "      <td>565.0</td>\n",
              "      <td>2.0</td>\n",
              "      <td>Willy Santantines</td>\n",
              "      <td>True</td>\n",
              "    </tr>\n",
              "    <tr>\n",
              "      <th>5</th>\n",
              "      <td>0005_01</td>\n",
              "      <td>Earth</td>\n",
              "      <td>False</td>\n",
              "      <td>F/0/P</td>\n",
              "      <td>PSO J318.5-22</td>\n",
              "      <td>44.0</td>\n",
              "      <td>False</td>\n",
              "      <td>0.0</td>\n",
              "      <td>483.0</td>\n",
              "      <td>0.0</td>\n",
              "      <td>291.0</td>\n",
              "      <td>0.0</td>\n",
              "      <td>Sandie Hinetthews</td>\n",
              "      <td>True</td>\n",
              "    </tr>\n",
              "    <tr>\n",
              "      <th>6</th>\n",
              "      <td>0006_01</td>\n",
              "      <td>Earth</td>\n",
              "      <td>False</td>\n",
              "      <td>F/2/S</td>\n",
              "      <td>TRAPPIST-1e</td>\n",
              "      <td>26.0</td>\n",
              "      <td>False</td>\n",
              "      <td>42.0</td>\n",
              "      <td>1539.0</td>\n",
              "      <td>3.0</td>\n",
              "      <td>0.0</td>\n",
              "      <td>0.0</td>\n",
              "      <td>Billex Jacostaffey</td>\n",
              "      <td>True</td>\n",
              "    </tr>\n",
              "    <tr>\n",
              "      <th>7</th>\n",
              "      <td>0006_02</td>\n",
              "      <td>Earth</td>\n",
              "      <td>True</td>\n",
              "      <td>G/0/S</td>\n",
              "      <td>TRAPPIST-1e</td>\n",
              "      <td>28.0</td>\n",
              "      <td>False</td>\n",
              "      <td>0.0</td>\n",
              "      <td>0.0</td>\n",
              "      <td>0.0</td>\n",
              "      <td>0.0</td>\n",
              "      <td>NaN</td>\n",
              "      <td>Candra Jacostaffey</td>\n",
              "      <td>True</td>\n",
              "    </tr>\n",
              "    <tr>\n",
              "      <th>8</th>\n",
              "      <td>0007_01</td>\n",
              "      <td>Earth</td>\n",
              "      <td>False</td>\n",
              "      <td>F/3/S</td>\n",
              "      <td>TRAPPIST-1e</td>\n",
              "      <td>35.0</td>\n",
              "      <td>False</td>\n",
              "      <td>0.0</td>\n",
              "      <td>785.0</td>\n",
              "      <td>17.0</td>\n",
              "      <td>216.0</td>\n",
              "      <td>0.0</td>\n",
              "      <td>Andona Beston</td>\n",
              "      <td>True</td>\n",
              "    </tr>\n",
              "    <tr>\n",
              "      <th>9</th>\n",
              "      <td>0008_01</td>\n",
              "      <td>Europa</td>\n",
              "      <td>True</td>\n",
              "      <td>B/1/P</td>\n",
              "      <td>55 Cancri e</td>\n",
              "      <td>14.0</td>\n",
              "      <td>False</td>\n",
              "      <td>0.0</td>\n",
              "      <td>0.0</td>\n",
              "      <td>0.0</td>\n",
              "      <td>0.0</td>\n",
              "      <td>0.0</td>\n",
              "      <td>Erraiam Flatic</td>\n",
              "      <td>True</td>\n",
              "    </tr>\n",
              "  </tbody>\n",
              "</table>\n",
              "</div>\n",
              "      <button class=\"colab-df-convert\" onclick=\"convertToInteractive('df-69115595-e3ea-4c19-b346-ffc66c14f3c6')\"\n",
              "              title=\"Convert this dataframe to an interactive table.\"\n",
              "              style=\"display:none;\">\n",
              "        \n",
              "  <svg xmlns=\"http://www.w3.org/2000/svg\" height=\"24px\"viewBox=\"0 0 24 24\"\n",
              "       width=\"24px\">\n",
              "    <path d=\"M0 0h24v24H0V0z\" fill=\"none\"/>\n",
              "    <path d=\"M18.56 5.44l.94 2.06.94-2.06 2.06-.94-2.06-.94-.94-2.06-.94 2.06-2.06.94zm-11 1L8.5 8.5l.94-2.06 2.06-.94-2.06-.94L8.5 2.5l-.94 2.06-2.06.94zm10 10l.94 2.06.94-2.06 2.06-.94-2.06-.94-.94-2.06-.94 2.06-2.06.94z\"/><path d=\"M17.41 7.96l-1.37-1.37c-.4-.4-.92-.59-1.43-.59-.52 0-1.04.2-1.43.59L10.3 9.45l-7.72 7.72c-.78.78-.78 2.05 0 2.83L4 21.41c.39.39.9.59 1.41.59.51 0 1.02-.2 1.41-.59l7.78-7.78 2.81-2.81c.8-.78.8-2.07 0-2.86zM5.41 20L4 18.59l7.72-7.72 1.47 1.35L5.41 20z\"/>\n",
              "  </svg>\n",
              "      </button>\n",
              "      \n",
              "  <style>\n",
              "    .colab-df-container {\n",
              "      display:flex;\n",
              "      flex-wrap:wrap;\n",
              "      gap: 12px;\n",
              "    }\n",
              "\n",
              "    .colab-df-convert {\n",
              "      background-color: #E8F0FE;\n",
              "      border: none;\n",
              "      border-radius: 50%;\n",
              "      cursor: pointer;\n",
              "      display: none;\n",
              "      fill: #1967D2;\n",
              "      height: 32px;\n",
              "      padding: 0 0 0 0;\n",
              "      width: 32px;\n",
              "    }\n",
              "\n",
              "    .colab-df-convert:hover {\n",
              "      background-color: #E2EBFA;\n",
              "      box-shadow: 0px 1px 2px rgba(60, 64, 67, 0.3), 0px 1px 3px 1px rgba(60, 64, 67, 0.15);\n",
              "      fill: #174EA6;\n",
              "    }\n",
              "\n",
              "    [theme=dark] .colab-df-convert {\n",
              "      background-color: #3B4455;\n",
              "      fill: #D2E3FC;\n",
              "    }\n",
              "\n",
              "    [theme=dark] .colab-df-convert:hover {\n",
              "      background-color: #434B5C;\n",
              "      box-shadow: 0px 1px 3px 1px rgba(0, 0, 0, 0.15);\n",
              "      filter: drop-shadow(0px 1px 2px rgba(0, 0, 0, 0.3));\n",
              "      fill: #FFFFFF;\n",
              "    }\n",
              "  </style>\n",
              "\n",
              "      <script>\n",
              "        const buttonEl =\n",
              "          document.querySelector('#df-69115595-e3ea-4c19-b346-ffc66c14f3c6 button.colab-df-convert');\n",
              "        buttonEl.style.display =\n",
              "          google.colab.kernel.accessAllowed ? 'block' : 'none';\n",
              "\n",
              "        async function convertToInteractive(key) {\n",
              "          const element = document.querySelector('#df-69115595-e3ea-4c19-b346-ffc66c14f3c6');\n",
              "          const dataTable =\n",
              "            await google.colab.kernel.invokeFunction('convertToInteractive',\n",
              "                                                     [key], {});\n",
              "          if (!dataTable) return;\n",
              "\n",
              "          const docLinkHtml = 'Like what you see? Visit the ' +\n",
              "            '<a target=\"_blank\" href=https://colab.research.google.com/notebooks/data_table.ipynb>data table notebook</a>'\n",
              "            + ' to learn more about interactive tables.';\n",
              "          element.innerHTML = '';\n",
              "          dataTable['output_type'] = 'display_data';\n",
              "          await google.colab.output.renderOutput(dataTable, element);\n",
              "          const docLink = document.createElement('div');\n",
              "          docLink.innerHTML = docLinkHtml;\n",
              "          element.appendChild(docLink);\n",
              "        }\n",
              "      </script>\n",
              "    </div>\n",
              "  </div>\n",
              "  "
            ]
          },
          "metadata": {},
          "execution_count": 5
        }
      ]
    },
    {
      "cell_type": "code",
      "source": [
        "test.head(10)"
      ],
      "metadata": {
        "id": "GydpZxSJZMvH",
        "colab": {
          "base_uri": "https://localhost:8080/",
          "height": 600
        },
        "outputId": "b3813965-819a-42a4-db20-302a8c2f48ab"
      },
      "execution_count": null,
      "outputs": [
        {
          "output_type": "execute_result",
          "data": {
            "text/plain": [
              "  PassengerId HomePlanet CryoSleep  Cabin  Destination   Age    VIP  \\\n",
              "0     0013_01      Earth      True  G/3/S  TRAPPIST-1e  27.0  False   \n",
              "1     0018_01      Earth     False  F/4/S  TRAPPIST-1e  19.0  False   \n",
              "2     0019_01     Europa      True  C/0/S  55 Cancri e  31.0  False   \n",
              "3     0021_01     Europa     False  C/1/S  TRAPPIST-1e  38.0  False   \n",
              "4     0023_01      Earth     False  F/5/S  TRAPPIST-1e  20.0  False   \n",
              "5     0027_01      Earth     False  F/7/P  TRAPPIST-1e  31.0  False   \n",
              "6     0029_01     Europa      True  B/2/P  55 Cancri e  21.0  False   \n",
              "7     0032_01     Europa      True  D/0/S  TRAPPIST-1e  20.0  False   \n",
              "8     0032_02     Europa      True  D/0/S  55 Cancri e  23.0  False   \n",
              "9     0033_01      Earth     False  F/7/S  55 Cancri e  24.0  False   \n",
              "\n",
              "   RoomService  FoodCourt  ShoppingMall     Spa  VRDeck               Name  \n",
              "0          0.0        0.0           0.0     0.0     0.0    Nelly Carsoning  \n",
              "1          0.0        9.0           0.0  2823.0     0.0     Lerome Peckers  \n",
              "2          0.0        0.0           0.0     0.0     0.0    Sabih Unhearfus  \n",
              "3          0.0     6652.0           0.0   181.0   585.0   Meratz Caltilter  \n",
              "4         10.0        0.0         635.0     0.0     0.0    Brence Harperez  \n",
              "5          0.0     1615.0         263.0   113.0    60.0       Karlen Ricks  \n",
              "6          0.0        NaN           0.0     0.0     0.0    Aldah Ainserfle  \n",
              "7          0.0        0.0           0.0     0.0     0.0     Acrabi Pringry  \n",
              "8          0.0        0.0           0.0     0.0     0.0      Dhena Pringry  \n",
              "9          0.0      639.0           0.0     0.0     0.0  Eliana Delazarson  "
            ],
            "text/html": [
              "\n",
              "  <div id=\"df-a9777362-7764-4285-bbff-4ca43fc3be61\">\n",
              "    <div class=\"colab-df-container\">\n",
              "      <div>\n",
              "<style scoped>\n",
              "    .dataframe tbody tr th:only-of-type {\n",
              "        vertical-align: middle;\n",
              "    }\n",
              "\n",
              "    .dataframe tbody tr th {\n",
              "        vertical-align: top;\n",
              "    }\n",
              "\n",
              "    .dataframe thead th {\n",
              "        text-align: right;\n",
              "    }\n",
              "</style>\n",
              "<table border=\"1\" class=\"dataframe\">\n",
              "  <thead>\n",
              "    <tr style=\"text-align: right;\">\n",
              "      <th></th>\n",
              "      <th>PassengerId</th>\n",
              "      <th>HomePlanet</th>\n",
              "      <th>CryoSleep</th>\n",
              "      <th>Cabin</th>\n",
              "      <th>Destination</th>\n",
              "      <th>Age</th>\n",
              "      <th>VIP</th>\n",
              "      <th>RoomService</th>\n",
              "      <th>FoodCourt</th>\n",
              "      <th>ShoppingMall</th>\n",
              "      <th>Spa</th>\n",
              "      <th>VRDeck</th>\n",
              "      <th>Name</th>\n",
              "    </tr>\n",
              "  </thead>\n",
              "  <tbody>\n",
              "    <tr>\n",
              "      <th>0</th>\n",
              "      <td>0013_01</td>\n",
              "      <td>Earth</td>\n",
              "      <td>True</td>\n",
              "      <td>G/3/S</td>\n",
              "      <td>TRAPPIST-1e</td>\n",
              "      <td>27.0</td>\n",
              "      <td>False</td>\n",
              "      <td>0.0</td>\n",
              "      <td>0.0</td>\n",
              "      <td>0.0</td>\n",
              "      <td>0.0</td>\n",
              "      <td>0.0</td>\n",
              "      <td>Nelly Carsoning</td>\n",
              "    </tr>\n",
              "    <tr>\n",
              "      <th>1</th>\n",
              "      <td>0018_01</td>\n",
              "      <td>Earth</td>\n",
              "      <td>False</td>\n",
              "      <td>F/4/S</td>\n",
              "      <td>TRAPPIST-1e</td>\n",
              "      <td>19.0</td>\n",
              "      <td>False</td>\n",
              "      <td>0.0</td>\n",
              "      <td>9.0</td>\n",
              "      <td>0.0</td>\n",
              "      <td>2823.0</td>\n",
              "      <td>0.0</td>\n",
              "      <td>Lerome Peckers</td>\n",
              "    </tr>\n",
              "    <tr>\n",
              "      <th>2</th>\n",
              "      <td>0019_01</td>\n",
              "      <td>Europa</td>\n",
              "      <td>True</td>\n",
              "      <td>C/0/S</td>\n",
              "      <td>55 Cancri e</td>\n",
              "      <td>31.0</td>\n",
              "      <td>False</td>\n",
              "      <td>0.0</td>\n",
              "      <td>0.0</td>\n",
              "      <td>0.0</td>\n",
              "      <td>0.0</td>\n",
              "      <td>0.0</td>\n",
              "      <td>Sabih Unhearfus</td>\n",
              "    </tr>\n",
              "    <tr>\n",
              "      <th>3</th>\n",
              "      <td>0021_01</td>\n",
              "      <td>Europa</td>\n",
              "      <td>False</td>\n",
              "      <td>C/1/S</td>\n",
              "      <td>TRAPPIST-1e</td>\n",
              "      <td>38.0</td>\n",
              "      <td>False</td>\n",
              "      <td>0.0</td>\n",
              "      <td>6652.0</td>\n",
              "      <td>0.0</td>\n",
              "      <td>181.0</td>\n",
              "      <td>585.0</td>\n",
              "      <td>Meratz Caltilter</td>\n",
              "    </tr>\n",
              "    <tr>\n",
              "      <th>4</th>\n",
              "      <td>0023_01</td>\n",
              "      <td>Earth</td>\n",
              "      <td>False</td>\n",
              "      <td>F/5/S</td>\n",
              "      <td>TRAPPIST-1e</td>\n",
              "      <td>20.0</td>\n",
              "      <td>False</td>\n",
              "      <td>10.0</td>\n",
              "      <td>0.0</td>\n",
              "      <td>635.0</td>\n",
              "      <td>0.0</td>\n",
              "      <td>0.0</td>\n",
              "      <td>Brence Harperez</td>\n",
              "    </tr>\n",
              "    <tr>\n",
              "      <th>5</th>\n",
              "      <td>0027_01</td>\n",
              "      <td>Earth</td>\n",
              "      <td>False</td>\n",
              "      <td>F/7/P</td>\n",
              "      <td>TRAPPIST-1e</td>\n",
              "      <td>31.0</td>\n",
              "      <td>False</td>\n",
              "      <td>0.0</td>\n",
              "      <td>1615.0</td>\n",
              "      <td>263.0</td>\n",
              "      <td>113.0</td>\n",
              "      <td>60.0</td>\n",
              "      <td>Karlen Ricks</td>\n",
              "    </tr>\n",
              "    <tr>\n",
              "      <th>6</th>\n",
              "      <td>0029_01</td>\n",
              "      <td>Europa</td>\n",
              "      <td>True</td>\n",
              "      <td>B/2/P</td>\n",
              "      <td>55 Cancri e</td>\n",
              "      <td>21.0</td>\n",
              "      <td>False</td>\n",
              "      <td>0.0</td>\n",
              "      <td>NaN</td>\n",
              "      <td>0.0</td>\n",
              "      <td>0.0</td>\n",
              "      <td>0.0</td>\n",
              "      <td>Aldah Ainserfle</td>\n",
              "    </tr>\n",
              "    <tr>\n",
              "      <th>7</th>\n",
              "      <td>0032_01</td>\n",
              "      <td>Europa</td>\n",
              "      <td>True</td>\n",
              "      <td>D/0/S</td>\n",
              "      <td>TRAPPIST-1e</td>\n",
              "      <td>20.0</td>\n",
              "      <td>False</td>\n",
              "      <td>0.0</td>\n",
              "      <td>0.0</td>\n",
              "      <td>0.0</td>\n",
              "      <td>0.0</td>\n",
              "      <td>0.0</td>\n",
              "      <td>Acrabi Pringry</td>\n",
              "    </tr>\n",
              "    <tr>\n",
              "      <th>8</th>\n",
              "      <td>0032_02</td>\n",
              "      <td>Europa</td>\n",
              "      <td>True</td>\n",
              "      <td>D/0/S</td>\n",
              "      <td>55 Cancri e</td>\n",
              "      <td>23.0</td>\n",
              "      <td>False</td>\n",
              "      <td>0.0</td>\n",
              "      <td>0.0</td>\n",
              "      <td>0.0</td>\n",
              "      <td>0.0</td>\n",
              "      <td>0.0</td>\n",
              "      <td>Dhena Pringry</td>\n",
              "    </tr>\n",
              "    <tr>\n",
              "      <th>9</th>\n",
              "      <td>0033_01</td>\n",
              "      <td>Earth</td>\n",
              "      <td>False</td>\n",
              "      <td>F/7/S</td>\n",
              "      <td>55 Cancri e</td>\n",
              "      <td>24.0</td>\n",
              "      <td>False</td>\n",
              "      <td>0.0</td>\n",
              "      <td>639.0</td>\n",
              "      <td>0.0</td>\n",
              "      <td>0.0</td>\n",
              "      <td>0.0</td>\n",
              "      <td>Eliana Delazarson</td>\n",
              "    </tr>\n",
              "  </tbody>\n",
              "</table>\n",
              "</div>\n",
              "      <button class=\"colab-df-convert\" onclick=\"convertToInteractive('df-a9777362-7764-4285-bbff-4ca43fc3be61')\"\n",
              "              title=\"Convert this dataframe to an interactive table.\"\n",
              "              style=\"display:none;\">\n",
              "        \n",
              "  <svg xmlns=\"http://www.w3.org/2000/svg\" height=\"24px\"viewBox=\"0 0 24 24\"\n",
              "       width=\"24px\">\n",
              "    <path d=\"M0 0h24v24H0V0z\" fill=\"none\"/>\n",
              "    <path d=\"M18.56 5.44l.94 2.06.94-2.06 2.06-.94-2.06-.94-.94-2.06-.94 2.06-2.06.94zm-11 1L8.5 8.5l.94-2.06 2.06-.94-2.06-.94L8.5 2.5l-.94 2.06-2.06.94zm10 10l.94 2.06.94-2.06 2.06-.94-2.06-.94-.94-2.06-.94 2.06-2.06.94z\"/><path d=\"M17.41 7.96l-1.37-1.37c-.4-.4-.92-.59-1.43-.59-.52 0-1.04.2-1.43.59L10.3 9.45l-7.72 7.72c-.78.78-.78 2.05 0 2.83L4 21.41c.39.39.9.59 1.41.59.51 0 1.02-.2 1.41-.59l7.78-7.78 2.81-2.81c.8-.78.8-2.07 0-2.86zM5.41 20L4 18.59l7.72-7.72 1.47 1.35L5.41 20z\"/>\n",
              "  </svg>\n",
              "      </button>\n",
              "      \n",
              "  <style>\n",
              "    .colab-df-container {\n",
              "      display:flex;\n",
              "      flex-wrap:wrap;\n",
              "      gap: 12px;\n",
              "    }\n",
              "\n",
              "    .colab-df-convert {\n",
              "      background-color: #E8F0FE;\n",
              "      border: none;\n",
              "      border-radius: 50%;\n",
              "      cursor: pointer;\n",
              "      display: none;\n",
              "      fill: #1967D2;\n",
              "      height: 32px;\n",
              "      padding: 0 0 0 0;\n",
              "      width: 32px;\n",
              "    }\n",
              "\n",
              "    .colab-df-convert:hover {\n",
              "      background-color: #E2EBFA;\n",
              "      box-shadow: 0px 1px 2px rgba(60, 64, 67, 0.3), 0px 1px 3px 1px rgba(60, 64, 67, 0.15);\n",
              "      fill: #174EA6;\n",
              "    }\n",
              "\n",
              "    [theme=dark] .colab-df-convert {\n",
              "      background-color: #3B4455;\n",
              "      fill: #D2E3FC;\n",
              "    }\n",
              "\n",
              "    [theme=dark] .colab-df-convert:hover {\n",
              "      background-color: #434B5C;\n",
              "      box-shadow: 0px 1px 3px 1px rgba(0, 0, 0, 0.15);\n",
              "      filter: drop-shadow(0px 1px 2px rgba(0, 0, 0, 0.3));\n",
              "      fill: #FFFFFF;\n",
              "    }\n",
              "  </style>\n",
              "\n",
              "      <script>\n",
              "        const buttonEl =\n",
              "          document.querySelector('#df-a9777362-7764-4285-bbff-4ca43fc3be61 button.colab-df-convert');\n",
              "        buttonEl.style.display =\n",
              "          google.colab.kernel.accessAllowed ? 'block' : 'none';\n",
              "\n",
              "        async function convertToInteractive(key) {\n",
              "          const element = document.querySelector('#df-a9777362-7764-4285-bbff-4ca43fc3be61');\n",
              "          const dataTable =\n",
              "            await google.colab.kernel.invokeFunction('convertToInteractive',\n",
              "                                                     [key], {});\n",
              "          if (!dataTable) return;\n",
              "\n",
              "          const docLinkHtml = 'Like what you see? Visit the ' +\n",
              "            '<a target=\"_blank\" href=https://colab.research.google.com/notebooks/data_table.ipynb>data table notebook</a>'\n",
              "            + ' to learn more about interactive tables.';\n",
              "          element.innerHTML = '';\n",
              "          dataTable['output_type'] = 'display_data';\n",
              "          await google.colab.output.renderOutput(dataTable, element);\n",
              "          const docLink = document.createElement('div');\n",
              "          docLink.innerHTML = docLinkHtml;\n",
              "          element.appendChild(docLink);\n",
              "        }\n",
              "      </script>\n",
              "    </div>\n",
              "  </div>\n",
              "  "
            ]
          },
          "metadata": {},
          "execution_count": 6
        }
      ]
    },
    {
      "cell_type": "code",
      "source": [
        "#데이터 전처리 \n",
        "#1. 결측치 확인 \n",
        "\n",
        "train.info(), train.isnull().sum()"
      ],
      "metadata": {
        "colab": {
          "base_uri": "https://localhost:8080/"
        },
        "id": "L9f9XCu0W_WR",
        "outputId": "7901d8ce-bca4-40de-f976-37a796914543"
      },
      "execution_count": null,
      "outputs": [
        {
          "output_type": "stream",
          "name": "stdout",
          "text": [
            "<class 'pandas.core.frame.DataFrame'>\n",
            "RangeIndex: 8693 entries, 0 to 8692\n",
            "Data columns (total 14 columns):\n",
            " #   Column        Non-Null Count  Dtype  \n",
            "---  ------        --------------  -----  \n",
            " 0   PassengerId   8693 non-null   object \n",
            " 1   HomePlanet    8492 non-null   object \n",
            " 2   CryoSleep     8476 non-null   object \n",
            " 3   Cabin         8494 non-null   object \n",
            " 4   Destination   8511 non-null   object \n",
            " 5   Age           8514 non-null   float64\n",
            " 6   VIP           8490 non-null   object \n",
            " 7   RoomService   8512 non-null   float64\n",
            " 8   FoodCourt     8510 non-null   float64\n",
            " 9   ShoppingMall  8485 non-null   float64\n",
            " 10  Spa           8510 non-null   float64\n",
            " 11  VRDeck        8505 non-null   float64\n",
            " 12  Name          8493 non-null   object \n",
            " 13  Transported   8693 non-null   bool   \n",
            "dtypes: bool(1), float64(6), object(7)\n",
            "memory usage: 891.5+ KB\n"
          ]
        },
        {
          "output_type": "execute_result",
          "data": {
            "text/plain": [
              "(None, PassengerId       0\n",
              " HomePlanet      201\n",
              " CryoSleep       217\n",
              " Cabin           199\n",
              " Destination     182\n",
              " Age             179\n",
              " VIP             203\n",
              " RoomService     181\n",
              " FoodCourt       183\n",
              " ShoppingMall    208\n",
              " Spa             183\n",
              " VRDeck          188\n",
              " Name            200\n",
              " Transported       0\n",
              " dtype: int64)"
            ]
          },
          "metadata": {},
          "execution_count": 7
        }
      ]
    },
    {
      "cell_type": "code",
      "source": [
        "test.info(), test.isnull().sum()"
      ],
      "metadata": {
        "colab": {
          "base_uri": "https://localhost:8080/"
        },
        "id": "w3Sjb2HjXo60",
        "outputId": "62f02b19-59df-42a9-ed29-f4aad1b47712"
      },
      "execution_count": null,
      "outputs": [
        {
          "output_type": "stream",
          "name": "stdout",
          "text": [
            "<class 'pandas.core.frame.DataFrame'>\n",
            "RangeIndex: 4277 entries, 0 to 4276\n",
            "Data columns (total 13 columns):\n",
            " #   Column        Non-Null Count  Dtype  \n",
            "---  ------        --------------  -----  \n",
            " 0   PassengerId   4277 non-null   object \n",
            " 1   HomePlanet    4190 non-null   object \n",
            " 2   CryoSleep     4184 non-null   object \n",
            " 3   Cabin         4177 non-null   object \n",
            " 4   Destination   4185 non-null   object \n",
            " 5   Age           4186 non-null   float64\n",
            " 6   VIP           4184 non-null   object \n",
            " 7   RoomService   4195 non-null   float64\n",
            " 8   FoodCourt     4171 non-null   float64\n",
            " 9   ShoppingMall  4179 non-null   float64\n",
            " 10  Spa           4176 non-null   float64\n",
            " 11  VRDeck        4197 non-null   float64\n",
            " 12  Name          4183 non-null   object \n",
            "dtypes: float64(6), object(7)\n",
            "memory usage: 434.5+ KB\n"
          ]
        },
        {
          "output_type": "execute_result",
          "data": {
            "text/plain": [
              "(None, PassengerId       0\n",
              " HomePlanet       87\n",
              " CryoSleep        93\n",
              " Cabin           100\n",
              " Destination      92\n",
              " Age              91\n",
              " VIP              93\n",
              " RoomService      82\n",
              " FoodCourt       106\n",
              " ShoppingMall     98\n",
              " Spa             101\n",
              " VRDeck           80\n",
              " Name             94\n",
              " dtype: int64)"
            ]
          },
          "metadata": {},
          "execution_count": 8
        }
      ]
    },
    {
      "cell_type": "code",
      "source": [
        "#데이터 타입과 종류 확인 \n",
        "\n",
        "train.dtypes"
      ],
      "metadata": {
        "colab": {
          "base_uri": "https://localhost:8080/"
        },
        "id": "obaSJRQlXxsc",
        "outputId": "4251b248-47a9-430b-fd39-1e622ccb45aa"
      },
      "execution_count": null,
      "outputs": [
        {
          "output_type": "execute_result",
          "data": {
            "text/plain": [
              "PassengerId      object\n",
              "HomePlanet       object\n",
              "CryoSleep        object\n",
              "Cabin            object\n",
              "Destination      object\n",
              "Age             float64\n",
              "VIP              object\n",
              "RoomService     float64\n",
              "FoodCourt       float64\n",
              "ShoppingMall    float64\n",
              "Spa             float64\n",
              "VRDeck          float64\n",
              "Name             object\n",
              "Transported        bool\n",
              "dtype: object"
            ]
          },
          "metadata": {},
          "execution_count": 9
        }
      ]
    },
    {
      "cell_type": "code",
      "source": [
        "train.nunique()"
      ],
      "metadata": {
        "colab": {
          "base_uri": "https://localhost:8080/"
        },
        "id": "yoY5d603YAuM",
        "outputId": "930b7f10-0e6f-49cc-b519-869457460033"
      },
      "execution_count": null,
      "outputs": [
        {
          "output_type": "execute_result",
          "data": {
            "text/plain": [
              "PassengerId     8693\n",
              "HomePlanet         3\n",
              "CryoSleep          2\n",
              "Cabin           6560\n",
              "Destination        3\n",
              "Age               80\n",
              "VIP                2\n",
              "RoomService     1273\n",
              "FoodCourt       1507\n",
              "ShoppingMall    1115\n",
              "Spa             1327\n",
              "VRDeck          1306\n",
              "Name            8473\n",
              "Transported        2\n",
              "dtype: int64"
            ]
          },
          "metadata": {},
          "execution_count": 10
        }
      ]
    },
    {
      "cell_type": "markdown",
      "source": [
        "> ## EDA 진행"
      ],
      "metadata": {
        "id": "BOPgtaDHUghH"
      }
    },
    {
      "cell_type": "code",
      "source": [
        "#EDA 진행\n",
        "\n",
        "train['Transported'].value_counts().plot.pie()"
      ],
      "metadata": {
        "colab": {
          "base_uri": "https://localhost:8080/",
          "height": 266
        },
        "id": "Em7IKWqLYGSZ",
        "outputId": "9e7d8e62-2aa9-4e70-ceab-045ca4ed45e4"
      },
      "execution_count": null,
      "outputs": [
        {
          "output_type": "execute_result",
          "data": {
            "text/plain": [
              "<matplotlib.axes._subplots.AxesSubplot at 0x7fdfd400b220>"
            ]
          },
          "metadata": {},
          "execution_count": 11
        },
        {
          "output_type": "display_data",
          "data": {
            "text/plain": [
              "<Figure size 432x288 with 1 Axes>"
            ],
            "image/png": "[encoded data removed]"
          },
          "metadata": {}
        }
      ]
    },
    {
      "cell_type": "code",
      "source": [
        "sns.style = 'darkgrid' "
      ],
      "metadata": {
        "id": "0_BhyKIqYaln"
      },
      "execution_count": null,
      "outputs": []
    },
    {
      "cell_type": "code",
      "source": [
        "# 이후에 먼저 수치형 데이터들에 대한 분석을 진행한다. \n",
        "num_cols = train.select_dtypes(exclude = 'object')\n",
        "num_cols.columns"
      ],
      "metadata": {
        "colab": {
          "base_uri": "https://localhost:8080/"
        },
        "id": "wW1eRX3RZNaM",
        "outputId": "fe83e42a-c031-4d73-980e-7bc2447f3203"
      },
      "execution_count": null,
      "outputs": [
        {
          "output_type": "execute_result",
          "data": {
            "text/plain": [
              "Index(['Age', 'RoomService', 'FoodCourt', 'ShoppingMall', 'Spa', 'VRDeck',\n",
              "       'Transported'],\n",
              "      dtype='object')"
            ]
          },
          "metadata": {},
          "execution_count": 13
        }
      ]
    },
    {
      "cell_type": "code",
      "source": [
        "#나이와 이동의 관계 파악 \n",
        "sns.histplot(train, x = 'Age', hue = 'Transported', kde = True)\n",
        "\n",
        "# 1. 나이가 10대 중반까지는 살 확률이 높음\n",
        "# 2. 나이가 10대 후반 ~ 20대 후반까지는 살 확률이 낮음\n",
        "# 3. 나머지는 비슷비슷함. "
      ],
      "metadata": {
        "colab": {
          "base_uri": "https://localhost:8080/",
          "height": 297
        },
        "id": "X28GSvkNZeoH",
        "outputId": "c8449a64-1a34-4eab-f98d-7db8317e3692"
      },
      "execution_count": null,
      "outputs": [
        {
          "output_type": "execute_result",
          "data": {
            "text/plain": [
              "<matplotlib.axes._subplots.AxesSubplot at 0x7fdfd3f74f40>"
            ]
          },
          "metadata": {},
          "execution_count": 14
        },
        {
          "output_type": "display_data",
          "data": {
            "text/plain": [
              "<Figure size 432x288 with 1 Axes>"
            ],
            "image/png": "[encoded data removed]"
          },
          "metadata": {
            "needs_background": "light"
          }
        }
      ]
    },
    {
      "cell_type": "code",
      "source": [
        "num_cols.columns\n",
        "#나머지 파악하기. \n",
        "#진행한 Age 랑 target인 transported 제거 \n",
        "del num_cols['Age']\n",
        "del num_cols['Transported']"
      ],
      "metadata": {
        "id": "XspRGSTgZmMo"
      },
      "execution_count": null,
      "outputs": []
    },
    {
      "cell_type": "code",
      "source": [
        "num_cols.columns\n"
      ],
      "metadata": {
        "colab": {
          "base_uri": "https://localhost:8080/"
        },
        "id": "a3Bd6NKebJBz",
        "outputId": "b2c41481-a6a7-4019-ab5e-6052d8dea166"
      },
      "execution_count": null,
      "outputs": [
        {
          "output_type": "execute_result",
          "data": {
            "text/plain": [
              "Index(['RoomService', 'FoodCourt', 'ShoppingMall', 'Spa', 'VRDeck'], dtype='object')"
            ]
          },
          "metadata": {},
          "execution_count": 16
        }
      ]
    },
    {
      "cell_type": "code",
      "source": [
        "#나머지 그래프 한번에 보기 \n",
        "fig = plt.figure(figsize = (10,20))\n",
        "for i in range(len(num_cols.columns)):\n",
        "    fig.add_subplot(len(num_cols.columns),1,i+1)\n",
        "    sns.histplot(train, x = num_cols.columns[i], bins = 40,  hue = \"Transported\")\n",
        "\n",
        "plt.show()\n",
        "#1. A그룹(roomservice, spa, vrDeck 의 분포가 비슷하고 ) B그룹(foodCourt, shoppingmall 의 분포가 비슷하다.)\n",
        "#2  돈을 쓴사람이 이동이 덜됨 . . \n",
        "#3. 돈을 안쓴사람이 대부분이다. ( 숙면자 ? )"
      ],
      "metadata": {
        "colab": {
          "base_uri": "https://localhost:8080/",
          "height": 1000
        },
        "id": "UYPL51unbUeo",
        "outputId": "f9dd9bd3-bfa7-4556-c1a8-9aec89bc57c2"
      },
      "execution_count": null,
      "outputs": [
        {
          "output_type": "display_data",
          "data": {
            "text/plain": [
              "<Figure size 720x1440 with 5 Axes>"
            ],
            "image/png": "[encoded data removed]"
          },
          "metadata": {
            "needs_background": "light"
          }
        }
      ]
    },
    {
      "cell_type": "code",
      "source": [
        "#나머지 그래프 한번에 보기 \n",
        "fig = plt.figure(figsize = (10,20))\n",
        "for i in range(len(num_cols.columns)):\n",
        "    fig.add_subplot(len(num_cols.columns),1,i+1)\n",
        "    sns.histplot(train, x = num_cols.columns[i], bins = 40,  hue = \"VIP\")\n",
        "    plt.ylim([0,200])\n",
        "plt.show()\n",
        "#1. VIP기준으로 봤을때도 비슷한 결과 "
      ],
      "metadata": {
        "colab": {
          "base_uri": "https://localhost:8080/",
          "height": 1000
        },
        "id": "-f3lqNJ7cCSF",
        "outputId": "eec11680-2bd6-4277-b5b4-08df0a7fe069"
      },
      "execution_count": null,
      "outputs": [
        {
          "output_type": "display_data",
          "data": {
            "text/plain": [
              "<Figure size 720x1440 with 5 Axes>"
            ],
            "image/png": "[encoded data removed]"
          },
          "metadata": {
            "needs_background": "light"
          }
        }
      ]
    },
    {
      "cell_type": "code",
      "source": [
        "#나머지 그래프 한번에 보기 \n",
        "fig = plt.figure(figsize = (10,20))\n",
        "for i in range(len(num_cols.columns)):\n",
        "    fig.add_subplot(len(num_cols.columns),1,i+1)\n",
        "    sns.histplot(train, x = num_cols.columns[i], bins = 40,  hue = \"CryoSleep\")\n",
        "    plt.ylim([0,200])\n",
        "plt.show()\n",
        "#1. 냉동수면면기준으로 봤을때 당연하겠지만 자는 사람은 소비를 하지 않았다 "
      ],
      "metadata": {
        "colab": {
          "base_uri": "https://localhost:8080/",
          "height": 1000
        },
        "id": "Y23rRJN3gsyt",
        "outputId": "df8d7794-db01-4237-b443-805bd3022c52"
      },
      "execution_count": null,
      "outputs": [
        {
          "output_type": "display_data",
          "data": {
            "text/plain": [
              "<Figure size 720x1440 with 5 Axes>"
            ],
            "image/png": "[encoded data removed]"
          },
          "metadata": {
            "needs_background": "light"
          }
        }
      ]
    },
    {
      "cell_type": "code",
      "source": [
        "#카테고리컬 변수 분석\n",
        "cat_cols = train.select_dtypes(include = 'object')\n",
        "cat_cols.columns"
      ],
      "metadata": {
        "colab": {
          "base_uri": "https://localhost:8080/"
        },
        "id": "tq6Tdv3qiPzP",
        "outputId": "d771d5ca-3db4-416e-b546-68a8559fbfbf"
      },
      "execution_count": null,
      "outputs": [
        {
          "output_type": "execute_result",
          "data": {
            "text/plain": [
              "Index(['PassengerId', 'HomePlanet', 'CryoSleep', 'Cabin', 'Destination', 'VIP',\n",
              "       'Name'],\n",
              "      dtype='object')"
            ]
          },
          "metadata": {},
          "execution_count": 20
        }
      ]
    },
    {
      "cell_type": "code",
      "source": [
        "#그 중 먼저 고향, 냉동 숙면, 목적지 vip에 대한 분석을 시행한다. \n",
        "\n",
        "cat_col_1 = ['HomePlanet', 'CryoSleep', 'Destination', 'VIP']\n",
        "\n",
        "\n",
        "fig= plt.figure(figsize=(10,16))\n",
        "for i, var_name in enumerate(cat_col_1):\n",
        "    fig.add_subplot(4,1,i+1)\n",
        "    sns.countplot(data=train, x=var_name, hue='Transported')\n",
        "\n",
        "fig.tight_layout() \n",
        "plt.show()\n",
        "\n",
        "#VIP 여부는 상관이 없다고 생각할 수 있다. \n",
        "#고향 행성에 따라 유로파일 경우 이동 확률 높음 Earth일경우 낮음, 화성은 비슷함\n",
        "# 냉동수면을 하고 있을경우 이동됨, 안하고 있을경우 실패함 \n",
        "# 목적지도 크게 의미는 없는데 처음 도착지 사람들이 많이 이동 실패함 . 이 부분 숙면여부랑 관련있는지 보기 "
      ],
      "metadata": {
        "colab": {
          "base_uri": "https://localhost:8080/",
          "height": 1000
        },
        "id": "8lHw_eVWiwSF",
        "outputId": "a7bd22f5-8296-4378-d986-eec52aeadb9d"
      },
      "execution_count": null,
      "outputs": [
        {
          "output_type": "display_data",
          "data": {
            "text/plain": [
              "<Figure size 720x1152 with 4 Axes>"
            ],
            "image/png": "[encoded data removed]"
          },
          "metadata": {
            "needs_background": "light"
          }
        }
      ]
    },
    {
      "cell_type": "code",
      "source": [
        "sns.countplot(data = train, x='Destination', hue = 'CryoSleep')\n",
        "\n",
        "# 첫번째 목적지 사람들이 냉동 수면을 취하고 있다. --->> 목적지랑 냉동 수면은 overfitting을 만들수도 있겠다는 점. "
      ],
      "metadata": {
        "colab": {
          "base_uri": "https://localhost:8080/",
          "height": 297
        },
        "id": "0SgXNnHTjNbX",
        "outputId": "4be14413-03ad-4c4a-8d37-b709d5a4b551"
      },
      "execution_count": null,
      "outputs": [
        {
          "output_type": "execute_result",
          "data": {
            "text/plain": [
              "<matplotlib.axes._subplots.AxesSubplot at 0x7fdfd198a850>"
            ]
          },
          "metadata": {},
          "execution_count": 22
        },
        {
          "output_type": "display_data",
          "data": {
            "text/plain": [
              "<Figure size 432x288 with 1 Axes>"
            ],
            "image/png": "[encoded data removed]"
          },
          "metadata": {
            "needs_background": "light"
          }
        }
      ]
    },
    {
      "cell_type": "code",
      "source": [
        "cat_cols_2 = ['PassengerId',\"Name\", \"Cabin\"]\n",
        "train[cat_cols_2]\n",
        "\n",
        "#passengerid _ 앞에는 한 가족 구성원이고 name 의 뒤는 같은 last_name을 가지고 있는 것을 볼수 있음. \n",
        "#가족은 같은 Cabin의 비슷한 위치에 좌석이 위치하는 것을 확인 할 수 있음. 그렇다면 셋다 비슷한 결과를 만들어 낼까 ? \n",
        "# 그중에 p/ s즉 좌현 우현은 어떤 차이가 있는지 확인해본다. "
      ],
      "metadata": {
        "colab": {
          "base_uri": "https://localhost:8080/",
          "height": 423
        },
        "id": "zE8tmunBlKWS",
        "outputId": "d2c0796b-4671-45b5-8f49-98d59b1a5977"
      },
      "execution_count": null,
      "outputs": [
        {
          "output_type": "execute_result",
          "data": {
            "text/plain": [
              "     PassengerId               Name     Cabin\n",
              "0        0001_01    Maham Ofracculy     B/0/P\n",
              "1        0002_01       Juanna Vines     F/0/S\n",
              "2        0003_01      Altark Susent     A/0/S\n",
              "3        0003_02       Solam Susent     A/0/S\n",
              "4        0004_01  Willy Santantines     F/1/S\n",
              "...          ...                ...       ...\n",
              "8688     9276_01  Gravior Noxnuther    A/98/P\n",
              "8689     9278_01    Kurta Mondalley  G/1499/S\n",
              "8690     9279_01       Fayey Connon  G/1500/S\n",
              "8691     9280_01   Celeon Hontichre   E/608/S\n",
              "8692     9280_02   Propsh Hontichre   E/608/S\n",
              "\n",
              "[8693 rows x 3 columns]"
            ],
            "text/html": [
              "\n",
              "  <div id=\"df-36d5d266-5137-49bf-8dae-d2c15dd0ab12\">\n",
              "    <div class=\"colab-df-container\">\n",
              "      <div>\n",
              "<style scoped>\n",
              "    .dataframe tbody tr th:only-of-type {\n",
              "        vertical-align: middle;\n",
              "    }\n",
              "\n",
              "    .dataframe tbody tr th {\n",
              "        vertical-align: top;\n",
              "    }\n",
              "\n",
              "    .dataframe thead th {\n",
              "        text-align: right;\n",
              "    }\n",
              "</style>\n",
              "<table border=\"1\" class=\"dataframe\">\n",
              "  <thead>\n",
              "    <tr style=\"text-align: right;\">\n",
              "      <th></th>\n",
              "      <th>PassengerId</th>\n",
              "      <th>Name</th>\n",
              "      <th>Cabin</th>\n",
              "    </tr>\n",
              "  </thead>\n",
              "  <tbody>\n",
              "    <tr>\n",
              "      <th>0</th>\n",
              "      <td>0001_01</td>\n",
              "      <td>Maham Ofracculy</td>\n",
              "      <td>B/0/P</td>\n",
              "    </tr>\n",
              "    <tr>\n",
              "      <th>1</th>\n",
              "      <td>0002_01</td>\n",
              "      <td>Juanna Vines</td>\n",
              "      <td>F/0/S</td>\n",
              "    </tr>\n",
              "    <tr>\n",
              "      <th>2</th>\n",
              "      <td>0003_01</td>\n",
              "      <td>Altark Susent</td>\n",
              "      <td>A/0/S</td>\n",
              "    </tr>\n",
              "    <tr>\n",
              "      <th>3</th>\n",
              "      <td>0003_02</td>\n",
              "      <td>Solam Susent</td>\n",
              "      <td>A/0/S</td>\n",
              "    </tr>\n",
              "    <tr>\n",
              "      <th>4</th>\n",
              "      <td>0004_01</td>\n",
              "      <td>Willy Santantines</td>\n",
              "      <td>F/1/S</td>\n",
              "    </tr>\n",
              "    <tr>\n",
              "      <th>...</th>\n",
              "      <td>...</td>\n",
              "      <td>...</td>\n",
              "      <td>...</td>\n",
              "    </tr>\n",
              "    <tr>\n",
              "      <th>8688</th>\n",
              "      <td>9276_01</td>\n",
              "      <td>Gravior Noxnuther</td>\n",
              "      <td>A/98/P</td>\n",
              "    </tr>\n",
              "    <tr>\n",
              "      <th>8689</th>\n",
              "      <td>9278_01</td>\n",
              "      <td>Kurta Mondalley</td>\n",
              "      <td>G/1499/S</td>\n",
              "    </tr>\n",
              "    <tr>\n",
              "      <th>8690</th>\n",
              "      <td>9279_01</td>\n",
              "      <td>Fayey Connon</td>\n",
              "      <td>G/1500/S</td>\n",
              "    </tr>\n",
              "    <tr>\n",
              "      <th>8691</th>\n",
              "      <td>9280_01</td>\n",
              "      <td>Celeon Hontichre</td>\n",
              "      <td>E/608/S</td>\n",
              "    </tr>\n",
              "    <tr>\n",
              "      <th>8692</th>\n",
              "      <td>9280_02</td>\n",
              "      <td>Propsh Hontichre</td>\n",
              "      <td>E/608/S</td>\n",
              "    </tr>\n",
              "  </tbody>\n",
              "</table>\n",
              "<p>8693 rows × 3 columns</p>\n",
              "</div>\n",
              "      <button class=\"colab-df-convert\" onclick=\"convertToInteractive('df-36d5d266-5137-49bf-8dae-d2c15dd0ab12')\"\n",
              "              title=\"Convert this dataframe to an interactive table.\"\n",
              "              style=\"display:none;\">\n",
              "        \n",
              "  <svg xmlns=\"http://www.w3.org/2000/svg\" height=\"24px\"viewBox=\"0 0 24 24\"\n",
              "       width=\"24px\">\n",
              "    <path d=\"M0 0h24v24H0V0z\" fill=\"none\"/>\n",
              "    <path d=\"M18.56 5.44l.94 2.06.94-2.06 2.06-.94-2.06-.94-.94-2.06-.94 2.06-2.06.94zm-11 1L8.5 8.5l.94-2.06 2.06-.94-2.06-.94L8.5 2.5l-.94 2.06-2.06.94zm10 10l.94 2.06.94-2.06 2.06-.94-2.06-.94-.94-2.06-.94 2.06-2.06.94z\"/><path d=\"M17.41 7.96l-1.37-1.37c-.4-.4-.92-.59-1.43-.59-.52 0-1.04.2-1.43.59L10.3 9.45l-7.72 7.72c-.78.78-.78 2.05 0 2.83L4 21.41c.39.39.9.59 1.41.59.51 0 1.02-.2 1.41-.59l7.78-7.78 2.81-2.81c.8-.78.8-2.07 0-2.86zM5.41 20L4 18.59l7.72-7.72 1.47 1.35L5.41 20z\"/>\n",
              "  </svg>\n",
              "      </button>\n",
              "      \n",
              "  <style>\n",
              "    .colab-df-container {\n",
              "      display:flex;\n",
              "      flex-wrap:wrap;\n",
              "      gap: 12px;\n",
              "    }\n",
              "\n",
              "    .colab-df-convert {\n",
              "      background-color: #E8F0FE;\n",
              "      border: none;\n",
              "      border-radius: 50%;\n",
              "      cursor: pointer;\n",
              "      display: none;\n",
              "      fill: #1967D2;\n",
              "      height: 32px;\n",
              "      padding: 0 0 0 0;\n",
              "      width: 32px;\n",
              "    }\n",
              "\n",
              "    .colab-df-convert:hover {\n",
              "      background-color: #E2EBFA;\n",
              "      box-shadow: 0px 1px 2px rgba(60, 64, 67, 0.3), 0px 1px 3px 1px rgba(60, 64, 67, 0.15);\n",
              "      fill: #174EA6;\n",
              "    }\n",
              "\n",
              "    [theme=dark] .colab-df-convert {\n",
              "      background-color: #3B4455;\n",
              "      fill: #D2E3FC;\n",
              "    }\n",
              "\n",
              "    [theme=dark] .colab-df-convert:hover {\n",
              "      background-color: #434B5C;\n",
              "      box-shadow: 0px 1px 3px 1px rgba(0, 0, 0, 0.15);\n",
              "      filter: drop-shadow(0px 1px 2px rgba(0, 0, 0, 0.3));\n",
              "      fill: #FFFFFF;\n",
              "    }\n",
              "  </style>\n",
              "\n",
              "      <script>\n",
              "        const buttonEl =\n",
              "          document.querySelector('#df-36d5d266-5137-49bf-8dae-d2c15dd0ab12 button.colab-df-convert');\n",
              "        buttonEl.style.display =\n",
              "          google.colab.kernel.accessAllowed ? 'block' : 'none';\n",
              "\n",
              "        async function convertToInteractive(key) {\n",
              "          const element = document.querySelector('#df-36d5d266-5137-49bf-8dae-d2c15dd0ab12');\n",
              "          const dataTable =\n",
              "            await google.colab.kernel.invokeFunction('convertToInteractive',\n",
              "                                                     [key], {});\n",
              "          if (!dataTable) return;\n",
              "\n",
              "          const docLinkHtml = 'Like what you see? Visit the ' +\n",
              "            '<a target=\"_blank\" href=https://colab.research.google.com/notebooks/data_table.ipynb>data table notebook</a>'\n",
              "            + ' to learn more about interactive tables.';\n",
              "          element.innerHTML = '';\n",
              "          dataTable['output_type'] = 'display_data';\n",
              "          await google.colab.output.renderOutput(dataTable, element);\n",
              "          const docLink = document.createElement('div');\n",
              "          docLink.innerHTML = docLinkHtml;\n",
              "          element.appendChild(docLink);\n",
              "        }\n",
              "      </script>\n",
              "    </div>\n",
              "  </div>\n",
              "  "
            ]
          },
          "metadata": {},
          "execution_count": 23
        }
      ]
    },
    {
      "cell_type": "code",
      "source": [
        "#passenger id에서 같은 구성원만 구한다. \n",
        "#결측치 없었으니까 바로 진행 \n",
        "#전처리 과정이 아닌 상관관계 볼 예정이기에 나머지 임의의 값넣음. \n",
        "train1 = pd.read_csv(\"train.csv\")\n",
        "\n",
        "for i in range(len(train1['PassengerId'])):\n",
        "    a, b = train1.loc[:, 'PassengerId'][i].split('_')\n",
        "    train1.loc[:, 'PassengerId'][i] = a"
      ],
      "metadata": {
        "colab": {
          "base_uri": "https://localhost:8080/"
        },
        "id": "pF6yHMqImlOM",
        "outputId": "400c6c8b-291a-455e-b698-280a19af12ab"
      },
      "execution_count": null,
      "outputs": [
        {
          "output_type": "stream",
          "name": "stderr",
          "text": [
            "<ipython-input-24-1ac01e6cc3a5>:8: SettingWithCopyWarning: \n",
            "A value is trying to be set on a copy of a slice from a DataFrame\n",
            "\n",
            "See the caveats in the documentation: https://pandas.pydata.org/pandas-docs/stable/user_guide/indexing.html#returning-a-view-versus-a-copy\n",
            "  train1.loc[:, 'PassengerId'][i] = a\n"
          ]
        }
      ]
    },
    {
      "cell_type": "code",
      "source": [
        "train1['PassengerId']"
      ],
      "metadata": {
        "colab": {
          "base_uri": "https://localhost:8080/"
        },
        "id": "EXX_xUFInkXQ",
        "outputId": "12f1bd07-6aa4-4276-bb57-b73527e54787"
      },
      "execution_count": null,
      "outputs": [
        {
          "output_type": "execute_result",
          "data": {
            "text/plain": [
              "0       0001\n",
              "1       0002\n",
              "2       0003\n",
              "3       0003\n",
              "4       0004\n",
              "        ... \n",
              "8688    9276\n",
              "8689    9278\n",
              "8690    9279\n",
              "8691    9280\n",
              "8692    9280\n",
              "Name: PassengerId, Length: 8693, dtype: object"
            ]
          },
          "metadata": {},
          "execution_count": 25
        }
      ]
    },
    {
      "cell_type": "code",
      "source": [
        "#전처리 과정이 아닌 상관관계 볼 예정이기에 나머지 임의의 값넣음. \n",
        "#추후에 진행하는 과정에서는 가족 관계에 따라 넣으면 좋을듯. \n",
        "#만약 lastname = passenger id 라면 결측치 있는 행을 날릴 수 있음. \n",
        "\n",
        "for i in range(len(train1['Name'])):\n",
        "    try:\n",
        "        a, b = train1.loc[:, 'Name'][i].split(' ')\n",
        "        train1.loc[:, 'Name'][i] = a\n",
        "    except:\n",
        "        train1.loc[:, 'Name'][i] = 'missing'"
      ],
      "metadata": {
        "colab": {
          "base_uri": "https://localhost:8080/"
        },
        "id": "F_2SaG0In3lb",
        "outputId": "ced23610-680d-4bc5-84ad-6a71841982bd"
      },
      "execution_count": null,
      "outputs": [
        {
          "output_type": "stream",
          "name": "stderr",
          "text": [
            "<ipython-input-26-d5726cd540bc>:8: SettingWithCopyWarning: \n",
            "A value is trying to be set on a copy of a slice from a DataFrame\n",
            "\n",
            "See the caveats in the documentation: https://pandas.pydata.org/pandas-docs/stable/user_guide/indexing.html#returning-a-view-versus-a-copy\n",
            "  train1.loc[:, 'Name'][i] = a\n",
            "<ipython-input-26-d5726cd540bc>:10: SettingWithCopyWarning: \n",
            "A value is trying to be set on a copy of a slice from a DataFrame\n",
            "\n",
            "See the caveats in the documentation: https://pandas.pydata.org/pandas-docs/stable/user_guide/indexing.html#returning-a-view-versus-a-copy\n",
            "  train1.loc[:, 'Name'][i] = 'missing'\n"
          ]
        }
      ]
    },
    {
      "cell_type": "code",
      "source": [
        "train1['Name']"
      ],
      "metadata": {
        "colab": {
          "base_uri": "https://localhost:8080/"
        },
        "id": "9ld4tb3MpC0t",
        "outputId": "541c4835-d930-48b3-95aa-d2437d268443"
      },
      "execution_count": null,
      "outputs": [
        {
          "output_type": "execute_result",
          "data": {
            "text/plain": [
              "0         Maham\n",
              "1        Juanna\n",
              "2        Altark\n",
              "3         Solam\n",
              "4         Willy\n",
              "         ...   \n",
              "8688    Gravior\n",
              "8689      Kurta\n",
              "8690      Fayey\n",
              "8691     Celeon\n",
              "8692     Propsh\n",
              "Name: Name, Length: 8693, dtype: object"
            ]
          },
          "metadata": {},
          "execution_count": 27
        }
      ]
    },
    {
      "cell_type": "code",
      "source": [
        "#가운데 번호 날림, Desc번호 남기고 좌현 우현 살리고 차이 볼예정 \n",
        "import numpy as np \n",
        "temp = [] \n",
        "temp2 = [] \n",
        "for i in range(8693):\n",
        "    temp.append('0')\n",
        "    temp2.append('0')\n",
        "train1['Side'] = temp \n",
        "for i in range(len(train1['Cabin'])):\n",
        "    try:\n",
        "        a, b, c = train1.loc[:, 'Cabin'][i].split('/')\n",
        "        train1.loc[:, 'Cabin'][i] = a\n",
        "        train1.loc[:, 'Side'][i] = c\n",
        "    except:\n",
        "        train1.loc[:, 'Cabin'][i] = 'no'\n",
        "        train1.loc[:, 'Side'][i] = 'no'\n"
      ],
      "metadata": {
        "colab": {
          "base_uri": "https://localhost:8080/"
        },
        "id": "-2IuszUIpcys",
        "outputId": "bacab40a-6ffe-4d0a-e77e-e74ab46c8b22"
      },
      "execution_count": null,
      "outputs": [
        {
          "output_type": "stream",
          "name": "stderr",
          "text": [
            "<ipython-input-28-fb09e657ca0d>:12: SettingWithCopyWarning: \n",
            "A value is trying to be set on a copy of a slice from a DataFrame\n",
            "\n",
            "See the caveats in the documentation: https://pandas.pydata.org/pandas-docs/stable/user_guide/indexing.html#returning-a-view-versus-a-copy\n",
            "  train1.loc[:, 'Cabin'][i] = a\n",
            "<ipython-input-28-fb09e657ca0d>:13: SettingWithCopyWarning: \n",
            "A value is trying to be set on a copy of a slice from a DataFrame\n",
            "\n",
            "See the caveats in the documentation: https://pandas.pydata.org/pandas-docs/stable/user_guide/indexing.html#returning-a-view-versus-a-copy\n",
            "  train1.loc[:, 'Side'][i] = c\n",
            "<ipython-input-28-fb09e657ca0d>:15: SettingWithCopyWarning: \n",
            "A value is trying to be set on a copy of a slice from a DataFrame\n",
            "\n",
            "See the caveats in the documentation: https://pandas.pydata.org/pandas-docs/stable/user_guide/indexing.html#returning-a-view-versus-a-copy\n",
            "  train1.loc[:, 'Cabin'][i] = 'no'\n",
            "<ipython-input-28-fb09e657ca0d>:16: SettingWithCopyWarning: \n",
            "A value is trying to be set on a copy of a slice from a DataFrame\n",
            "\n",
            "See the caveats in the documentation: https://pandas.pydata.org/pandas-docs/stable/user_guide/indexing.html#returning-a-view-versus-a-copy\n",
            "  train1.loc[:, 'Side'][i] = 'no'\n"
          ]
        }
      ]
    },
    {
      "cell_type": "code",
      "source": [
        "train1['Side']"
      ],
      "metadata": {
        "colab": {
          "base_uri": "https://localhost:8080/"
        },
        "id": "A4SciGoNrkOh",
        "outputId": "77014844-2fb6-4a1f-f73e-f31282133147"
      },
      "execution_count": null,
      "outputs": [
        {
          "output_type": "execute_result",
          "data": {
            "text/plain": [
              "0       P\n",
              "1       S\n",
              "2       S\n",
              "3       S\n",
              "4       S\n",
              "       ..\n",
              "8688    P\n",
              "8689    S\n",
              "8690    S\n",
              "8691    S\n",
              "8692    S\n",
              "Name: Side, Length: 8693, dtype: object"
            ]
          },
          "metadata": {},
          "execution_count": 29
        }
      ]
    },
    {
      "cell_type": "code",
      "source": [
        "sns.countplot(data = train1, x= 'Cabin', hue = 'Transported')\n",
        "\n",
        "#가장 적은 T에 타는 인원은 전부 살지 못함\n",
        "# A는 생존에 차이가 없음 \n",
        "# 이동 실패 비율이 많은곳 , *F, *E, D\n",
        "# 이동한 비율이 많은곳 G, *B , *C "
      ],
      "metadata": {
        "colab": {
          "base_uri": "https://localhost:8080/",
          "height": 297
        },
        "id": "DZnhQCICtL2o",
        "outputId": "314c6346-d3a1-45a5-cd13-397696f7e01d"
      },
      "execution_count": null,
      "outputs": [
        {
          "output_type": "execute_result",
          "data": {
            "text/plain": [
              "<matplotlib.axes._subplots.AxesSubplot at 0x7fdfd0d748e0>"
            ]
          },
          "metadata": {},
          "execution_count": 30
        },
        {
          "output_type": "display_data",
          "data": {
            "text/plain": [
              "<Figure size 432x288 with 1 Axes>"
            ],
            "image/png": "[encoded data removed]"
          },
          "metadata": {
            "needs_background": "light"
          }
        }
      ]
    },
    {
      "cell_type": "code",
      "source": [
        "sns.countplot(data = train1, x= 'Side', hue = 'Transported')\n",
        "# starboard쪽이 많이 성공하고 p쪽이 많이 실패함"
      ],
      "metadata": {
        "colab": {
          "base_uri": "https://localhost:8080/",
          "height": 297
        },
        "id": "Pkp1f22TtQKh",
        "outputId": "2ed7e20e-08e6-4785-dff3-4605d2a16e1f"
      },
      "execution_count": null,
      "outputs": [
        {
          "output_type": "execute_result",
          "data": {
            "text/plain": [
              "<matplotlib.axes._subplots.AxesSubplot at 0x7fdfd186c6d0>"
            ]
          },
          "metadata": {},
          "execution_count": 31
        },
        {
          "output_type": "display_data",
          "data": {
            "text/plain": [
              "<Figure size 432x288 with 1 Axes>"
            ],
            "image/png": "[encoded data removed]"
          },
          "metadata": {
            "needs_background": "light"
          }
        }
      ]
    },
    {
      "cell_type": "code",
      "source": [
        "sns.histplot(data = train1 , x = 'Cabin', hue = 'Side')"
      ],
      "metadata": {
        "colab": {
          "base_uri": "https://localhost:8080/",
          "height": 297
        },
        "id": "XtBpOdeJtR9u",
        "outputId": "2bdfbaeb-f8ac-48cb-c37e-4eebcf225d21"
      },
      "execution_count": null,
      "outputs": [
        {
          "output_type": "execute_result",
          "data": {
            "text/plain": [
              "<matplotlib.axes._subplots.AxesSubplot at 0x7fdfd14adb80>"
            ]
          },
          "metadata": {},
          "execution_count": 32
        },
        {
          "output_type": "display_data",
          "data": {
            "text/plain": [
              "<Figure size 432x288 with 1 Axes>"
            ],
            "image/png": "[encoded data removed]"
          },
          "metadata": {
            "needs_background": "light"
          }
        }
      ]
    },
    {
      "cell_type": "code",
      "source": [
        "sns.countplot(data = train1 , x = 'Cabin', hue = 'Side')\n",
        "\n",
        "#전체적으로 봤을떄 결국 케빈의 위치보다는 좌우 위치가 중요하다고 생각된다. \n",
        "#따라서 좌우의 위치를 구해 진행한다. "
      ],
      "metadata": {
        "colab": {
          "base_uri": "https://localhost:8080/",
          "height": 297
        },
        "id": "XBNhnBIRuj2Q",
        "outputId": "5a128904-1c1c-4dd5-c2bb-cd34a71e27bd"
      },
      "execution_count": null,
      "outputs": [
        {
          "output_type": "execute_result",
          "data": {
            "text/plain": [
              "<matplotlib.axes._subplots.AxesSubplot at 0x7fdfd18d0eb0>"
            ]
          },
          "metadata": {},
          "execution_count": 33
        },
        {
          "output_type": "display_data",
          "data": {
            "text/plain": [
              "<Figure size 432x288 with 1 Axes>"
            ],
            "image/png": "[encoded data removed]"
          },
          "metadata": {
            "needs_background": "light"
          }
        }
      ]
    },
    {
      "cell_type": "markdown",
      "source": [
        "> ## 데이터 전처리 "
      ],
      "metadata": {
        "id": "HXwMZUCTUnp3"
      }
    },
    {
      "cell_type": "code",
      "source": [
        "import numpy as np\n",
        "#EDA를 통해 결정된것. \n",
        "#1. 나이를 그룹화해서 진행한다. \n",
        "#2. 숫자 소비에는 두가지 분포가 있으므로 나눠서 진행한다. \n",
        "#3. 네임은 지운다. \n",
        "#4. 케빈 동은 놔두고 좌현 우현 따로 빼고 가운데 숫자는 지운다. \n",
        "#5. VIP는 의미 없어보이는 지수로 삭제한다. \n",
        "#6. 현재 중요하게 생각되는거 동면 여부, 좌현 우현, \n",
        "#7. 첫번째 도착지와 동면 여부는 상관관계가 있는 것처럼 보인다. == 도착지도 좋은 선택지 일듯 하다."
      ],
      "metadata": {
        "id": "VHbr74hExYGH"
      },
      "execution_count": 134,
      "outputs": []
    },
    {
      "cell_type": "code",
      "source": [
        "#1. 나이를 그룹화해서 진행하기 # 0 ~ 15 하나로 이후부터는 7살 차이로 진행  50세 이상은 하나로 \n",
        "#그룹화, \n",
        "train['Age_group'] = np.nan #새로운 행 생성 \n",
        "train.loc[train['Age']<=17,'Age_group']='A'\n",
        "train.loc[(train['Age']>17) & (train['Age']<23),'Age_group']='B'\n",
        "train.loc[(train['Age']>=23) & (train['Age']<=27),'Age_group']='C'\n",
        "train.loc[(train['Age']>27) & (train['Age']<=40),'Age_group']='D'\n",
        "train.loc[(train['Age']>40) & (train['Age']<=50),'Age_group']='E'\n",
        "train.loc[train['Age']>50,'Age_group']='F'\n",
        "\n",
        "test['Age_group'] = np.nan #새로운 행 생성 \n",
        "test.loc[test['Age']<=17,'Age_group']='A'\n",
        "test.loc[(test['Age']>17) & (test['Age']<23),'Age_group']='B'\n",
        "test.loc[(test['Age']>=23) & (test['Age']<=27),'Age_group']='C'\n",
        "test.loc[(test['Age']>27) & (test['Age']<=40),'Age_group']='D'\n",
        "test.loc[(test['Age']>40) & (test['Age']<=50),'Age_group']='E'\n",
        "test.loc[test['Age']>50,'Age_group']='F'"
      ],
      "metadata": {
        "id": "2JFGT1Akyck3"
      },
      "execution_count": 186,
      "outputs": []
    },
    {
      "cell_type": "code",
      "source": [
        "sns.countplot(data=train, x='Age_group', hue='Transported', order=['A','B','C','D','E','F'])"
      ],
      "metadata": {
        "colab": {
          "base_uri": "https://localhost:8080/",
          "height": 298
        },
        "id": "QmtIG9hFyctG",
        "outputId": "c61d4f12-5411-47d3-a13f-3910a8667bcd"
      },
      "execution_count": 7,
      "outputs": [
        {
          "output_type": "execute_result",
          "data": {
            "text/plain": [
              "<matplotlib.axes._subplots.AxesSubplot at 0x7f66a82864f0>"
            ]
          },
          "metadata": {},
          "execution_count": 7
        },
        {
          "output_type": "display_data",
          "data": {
            "text/plain": [
              "<Figure size 432x288 with 1 Axes>"
            ],
            "image/png": "[encoded data removed]"
          },
          "metadata": {
            "needs_background": "light"
          }
        }
      ]
    },
    {
      "cell_type": "code",
      "source": [
        "del train['Age']"
      ],
      "metadata": {
        "id": "7AuGsArg09p9"
      },
      "execution_count": 187,
      "outputs": []
    },
    {
      "cell_type": "code",
      "source": [
        "del test['Age']\n",
        "# 완료된것 삭제  . "
      ],
      "metadata": {
        "id": "rUhy95FW1lkx"
      },
      "execution_count": 188,
      "outputs": []
    },
    {
      "cell_type": "code",
      "source": [
        "# 2. 숫자 소비에는 두가지 분포가 있으므로 나눠서 진행한다. \n",
        "# A그룹(roomservice, spa, vrDeck 의 분포가 비슷하고 ) B그룹(foodCourt, shoppingmall 의 분포가 비슷하다.)\n",
        "# 숙면자는 돈을 소비하지 않는것도 알기에 3가지로 카테고리컬로 만든다. A그룹 소비가 제일 큰사람 \n",
        "\n",
        "# train['Expenditure']=train[exp_feats].sum(axis=1)\n",
        "num_cols = train.select_dtypes(exclude = 'object')\n",
        "del num_cols['Transported']\n",
        "temp = num_cols.columns\n",
        "\n",
        "temp\n",
        "\n",
        "A = ['RoomService', 'Spa', \"VRDeck\"]\n",
        "B = ['FoodCourt', 'ShoppingMall']\n",
        "train['Rich_spender']=train[A].sum(axis=1)\n",
        "train['Normal_spender']=train[B].sum(axis =1)\n"
      ],
      "metadata": {
        "id": "99LOkvow1mhr"
      },
      "execution_count": 189,
      "outputs": []
    },
    {
      "cell_type": "code",
      "source": [
        "train['No_spending'] = (train['Rich_spender'] + train['Normal_spender']==0).astype(int)"
      ],
      "metadata": {
        "id": "2tT5z8Ik2Onu"
      },
      "execution_count": 190,
      "outputs": []
    },
    {
      "cell_type": "code",
      "source": [
        "test['Rich_spender']=test[A].sum(axis=1)\n",
        "test['Normal_spender']=test[B].sum(axis =1)\n",
        "test['No_spending'] = (test['Rich_spender'] + test['Normal_spender']==0).astype(int)"
      ],
      "metadata": {
        "id": "SZRG7KNYRH1J"
      },
      "execution_count": 191,
      "outputs": []
    },
    {
      "cell_type": "code",
      "source": [
        "del_col = ['RoomService', 'Spa', \"VRDeck\", 'FoodCourt', 'ShoppingMall']\n",
        "for i in del_col:\n",
        "    del train[i]\n",
        "    del test[i]"
      ],
      "metadata": {
        "id": "z9psr6WIR2Y3"
      },
      "execution_count": 192,
      "outputs": []
    },
    {
      "cell_type": "code",
      "source": [
        "sns.countplot(data = train, x = 'CryoSleep', hue ='Transported')"
      ],
      "metadata": {
        "colab": {
          "base_uri": "https://localhost:8080/",
          "height": 297
        },
        "id": "0PL2fNVOnI9_",
        "outputId": "10fd1a86-cc49-4da8-fd1d-8923e17e2f2c"
      },
      "execution_count": null,
      "outputs": [
        {
          "output_type": "execute_result",
          "data": {
            "text/plain": [
              "<matplotlib.axes._subplots.AxesSubplot at 0x7f6754052730>"
            ]
          },
          "metadata": {},
          "execution_count": 13
        },
        {
          "output_type": "display_data",
          "data": {
            "text/plain": [
              "<Figure size 432x288 with 1 Axes>"
            ],
            "image/png": "[encoded data removed]"
          },
          "metadata": {
            "needs_background": "light"
          }
        }
      ]
    },
    {
      "cell_type": "code",
      "source": [
        "sns.countplot(data = train, x = 'No_spending', hue ='Transported')"
      ],
      "metadata": {
        "colab": {
          "base_uri": "https://localhost:8080/",
          "height": 298
        },
        "id": "5fk266KpmZGS",
        "outputId": "3f61bcf3-f854-49e1-9b9e-8634dbc0d140"
      },
      "execution_count": null,
      "outputs": [
        {
          "output_type": "execute_result",
          "data": {
            "text/plain": [
              "<matplotlib.axes._subplots.AxesSubplot at 0x7fdfb6a21970>"
            ]
          },
          "metadata": {},
          "execution_count": 151
        },
        {
          "output_type": "display_data",
          "data": {
            "text/plain": [
              "<Figure size 432x288 with 1 Axes>"
            ],
            "image/png": "[encoded data removed]"
          },
          "metadata": {
            "needs_background": "light"
          }
        }
      ]
    },
    {
      "cell_type": "code",
      "source": [
        "#3. 네임은 지운다. \n",
        "del train['Name']\n",
        "del test['Name']"
      ],
      "metadata": {
        "id": "4MB2vaUUSVnb"
      },
      "execution_count": 193,
      "outputs": []
    },
    {
      "cell_type": "code",
      "source": [
        "#5.-1  VIP는 의미 없어보이는 지수로 삭제한다. \n",
        "\n",
        "del test['VIP']"
      ],
      "metadata": {
        "id": "m6cTfhqkS2tl"
      },
      "execution_count": 194,
      "outputs": []
    },
    {
      "cell_type": "code",
      "source": [
        "del train['VIP']"
      ],
      "metadata": {
        "id": "tVEwGeai2mxN"
      },
      "execution_count": 195,
      "outputs": []
    },
    {
      "cell_type": "code",
      "source": [
        "#5-2 VIP를 살리는 방식으로도 진행해 본다. \n",
        "# temp = train[train['VIP'].isnull()].index\n",
        "\n",
        "# for i in temp:\n",
        "#     train.loc[i, \"VIP\"] = False\n",
        "\n",
        "# train['VIP'].isnull().sum()\n",
        "# 확실히 점수가 떨어지는 것을 발견 "
      ],
      "metadata": {
        "colab": {
          "base_uri": "https://localhost:8080/"
        },
        "id": "WMlIF1qblml2",
        "outputId": "0cb447ef-dbe6-460c-fa51-da7524eed001"
      },
      "execution_count": 143,
      "outputs": [
        {
          "output_type": "execute_result",
          "data": {
            "text/plain": [
              "0"
            ]
          },
          "metadata": {},
          "execution_count": 143
        }
      ]
    },
    {
      "cell_type": "code",
      "source": [
        "# temp = test[test['VIP'].isnull()].index\n",
        "\n",
        "# for i in temp:\n",
        "#     test.loc[i, \"VIP\"] = False\n"
      ],
      "metadata": {
        "id": "ExLoXLHXo6kM"
      },
      "execution_count": 144,
      "outputs": []
    },
    {
      "cell_type": "code",
      "source": [
        "# train['VIP'].isnull().sum()"
      ],
      "metadata": {
        "colab": {
          "base_uri": "https://localhost:8080/"
        },
        "id": "52YMOuxTlmnA",
        "outputId": "d2005622-e2c2-4afd-d2cb-388c0c0ec9c0"
      },
      "execution_count": 30,
      "outputs": [
        {
          "output_type": "execute_result",
          "data": {
            "text/plain": [
              "203"
            ]
          },
          "metadata": {},
          "execution_count": 30
        }
      ]
    },
    {
      "cell_type": "code",
      "source": [
        "#4. 케빈 동은 놔두고 좌현 우현 따로 빼고 가운데 숫자는 지운다. \n",
        "import numpy as np \n",
        "temp = [] \n",
        "temp2 = [] \n",
        "for i in range(8693):\n",
        "    temp.append('0')\n",
        "    temp2.append('0')\n",
        "train['Side'] = temp \n",
        "for i in range(len(train['Cabin'])):\n",
        "    try:\n",
        "        a, b, c = train.loc[:, 'Cabin'][i].split('/')\n",
        "        train.loc[:, 'Cabin'][i] = a\n",
        "        train.loc[:, 'Side'][i] = c\n",
        "    except:\n",
        "        train.loc[:, 'Cabin'][i] = 'no'\n",
        "        train.loc[:, 'Side'][i] = 'no'"
      ],
      "metadata": {
        "colab": {
          "base_uri": "https://localhost:8080/"
        },
        "id": "_8JbZDdVTBma",
        "outputId": "f2042caa-75e6-4a4f-83e8-877fed45f73f"
      },
      "execution_count": 196,
      "outputs": [
        {
          "output_type": "stream",
          "name": "stderr",
          "text": [
            "<ipython-input-196-77ed6844165a>:12: SettingWithCopyWarning: \n",
            "A value is trying to be set on a copy of a slice from a DataFrame\n",
            "\n",
            "See the caveats in the documentation: https://pandas.pydata.org/pandas-docs/stable/user_guide/indexing.html#returning-a-view-versus-a-copy\n",
            "  train.loc[:, 'Cabin'][i] = a\n",
            "<ipython-input-196-77ed6844165a>:13: SettingWithCopyWarning: \n",
            "A value is trying to be set on a copy of a slice from a DataFrame\n",
            "\n",
            "See the caveats in the documentation: https://pandas.pydata.org/pandas-docs/stable/user_guide/indexing.html#returning-a-view-versus-a-copy\n",
            "  train.loc[:, 'Side'][i] = c\n",
            "<ipython-input-196-77ed6844165a>:15: SettingWithCopyWarning: \n",
            "A value is trying to be set on a copy of a slice from a DataFrame\n",
            "\n",
            "See the caveats in the documentation: https://pandas.pydata.org/pandas-docs/stable/user_guide/indexing.html#returning-a-view-versus-a-copy\n",
            "  train.loc[:, 'Cabin'][i] = 'no'\n",
            "<ipython-input-196-77ed6844165a>:16: SettingWithCopyWarning: \n",
            "A value is trying to be set on a copy of a slice from a DataFrame\n",
            "\n",
            "See the caveats in the documentation: https://pandas.pydata.org/pandas-docs/stable/user_guide/indexing.html#returning-a-view-versus-a-copy\n",
            "  train.loc[:, 'Side'][i] = 'no'\n"
          ]
        }
      ]
    },
    {
      "cell_type": "code",
      "source": [
        "temp = [] \n",
        "temp2 = [] \n",
        "for i in range(4277):\n",
        "    temp.append('0')\n",
        "    temp2.append('0')\n",
        "test['Side'] = temp \n",
        "for i in range(len(test['Cabin'])):\n",
        "    try:\n",
        "        a, b, c = test.loc[:, 'Cabin'][i].split('/')\n",
        "        test.loc[:, 'Cabin'][i] = a\n",
        "        test.loc[:, 'Side'][i] = c\n",
        "    except:\n",
        "        test.loc[:, 'Cabin'][i] = 'no'\n",
        "        test.loc[:, 'Side'][i] = 'no'"
      ],
      "metadata": {
        "colab": {
          "base_uri": "https://localhost:8080/"
        },
        "id": "Z-hTjaSlTFck",
        "outputId": "01c7a109-ee68-4621-c911-9342ce3bc866"
      },
      "execution_count": 197,
      "outputs": [
        {
          "output_type": "stream",
          "name": "stderr",
          "text": [
            "<ipython-input-197-0261e7c09927>:10: SettingWithCopyWarning: \n",
            "A value is trying to be set on a copy of a slice from a DataFrame\n",
            "\n",
            "See the caveats in the documentation: https://pandas.pydata.org/pandas-docs/stable/user_guide/indexing.html#returning-a-view-versus-a-copy\n",
            "  test.loc[:, 'Cabin'][i] = a\n",
            "<ipython-input-197-0261e7c09927>:11: SettingWithCopyWarning: \n",
            "A value is trying to be set on a copy of a slice from a DataFrame\n",
            "\n",
            "See the caveats in the documentation: https://pandas.pydata.org/pandas-docs/stable/user_guide/indexing.html#returning-a-view-versus-a-copy\n",
            "  test.loc[:, 'Side'][i] = c\n",
            "<ipython-input-197-0261e7c09927>:13: SettingWithCopyWarning: \n",
            "A value is trying to be set on a copy of a slice from a DataFrame\n",
            "\n",
            "See the caveats in the documentation: https://pandas.pydata.org/pandas-docs/stable/user_guide/indexing.html#returning-a-view-versus-a-copy\n",
            "  test.loc[:, 'Cabin'][i] = 'no'\n",
            "<ipython-input-197-0261e7c09927>:14: SettingWithCopyWarning: \n",
            "A value is trying to be set on a copy of a slice from a DataFrame\n",
            "\n",
            "See the caveats in the documentation: https://pandas.pydata.org/pandas-docs/stable/user_guide/indexing.html#returning-a-view-versus-a-copy\n",
            "  test.loc[:, 'Side'][i] = 'no'\n"
          ]
        }
      ]
    },
    {
      "cell_type": "code",
      "source": [
        "train"
      ],
      "metadata": {
        "colab": {
          "base_uri": "https://localhost:8080/",
          "height": 505
        },
        "id": "riFIjNIjry5J",
        "outputId": "518dccbb-5ca1-47b0-f768-4d4cca56a9da"
      },
      "execution_count": null,
      "outputs": [
        {
          "output_type": "execute_result",
          "data": {
            "text/plain": [
              "     PassengerId HomePlanet CryoSleep Cabin    Destination  Transported  \\\n",
              "0        0001_01     Europa     False     B    TRAPPIST-1e        False   \n",
              "1        0002_01      Earth     False     F    TRAPPIST-1e         True   \n",
              "2        0003_01     Europa     False     A    TRAPPIST-1e        False   \n",
              "3        0003_02     Europa     False     A    TRAPPIST-1e        False   \n",
              "4        0004_01      Earth     False     F    TRAPPIST-1e         True   \n",
              "...          ...        ...       ...   ...            ...          ...   \n",
              "8688     9276_01     Europa     False     A    55 Cancri e        False   \n",
              "8689     9278_01      Earth      True     G  PSO J318.5-22        False   \n",
              "8690     9279_01      Earth     False     G    TRAPPIST-1e         True   \n",
              "8691     9280_01     Europa     False     E    55 Cancri e        False   \n",
              "8692     9280_02     Europa     False     E    TRAPPIST-1e         True   \n",
              "\n",
              "     Age_group  Rich_spender  Normal_spender  No_spending Side  \n",
              "0            D           0.0             0.0            1    P  \n",
              "1            C         702.0            34.0            0    S  \n",
              "2            F        6807.0          3576.0            0    S  \n",
              "3            D        3522.0          1654.0            0    S  \n",
              "4            A         870.0           221.0            0    S  \n",
              "...        ...           ...             ...          ...  ...  \n",
              "8688         E        1717.0          6819.0            0    P  \n",
              "8689         B           0.0             0.0            1    S  \n",
              "8690         C           1.0          1872.0            0    S  \n",
              "8691         D        3588.0          1049.0            0    S  \n",
              "8692         E         138.0          4688.0            0    S  \n",
              "\n",
              "[8693 rows x 11 columns]"
            ],
            "text/html": [
              "\n",
              "  <div id=\"df-5d8a1f58-13a8-4f3f-b2c4-63249513c5c5\">\n",
              "    <div class=\"colab-df-container\">\n",
              "      <div>\n",
              "<style scoped>\n",
              "    .dataframe tbody tr th:only-of-type {\n",
              "        vertical-align: middle;\n",
              "    }\n",
              "\n",
              "    .dataframe tbody tr th {\n",
              "        vertical-align: top;\n",
              "    }\n",
              "\n",
              "    .dataframe thead th {\n",
              "        text-align: right;\n",
              "    }\n",
              "</style>\n",
              "<table border=\"1\" class=\"dataframe\">\n",
              "  <thead>\n",
              "    <tr style=\"text-align: right;\">\n",
              "      <th></th>\n",
              "      <th>PassengerId</th>\n",
              "      <th>HomePlanet</th>\n",
              "      <th>CryoSleep</th>\n",
              "      <th>Cabin</th>\n",
              "      <th>Destination</th>\n",
              "      <th>Transported</th>\n",
              "      <th>Age_group</th>\n",
              "      <th>Rich_spender</th>\n",
              "      <th>Normal_spender</th>\n",
              "      <th>No_spending</th>\n",
              "      <th>Side</th>\n",
              "    </tr>\n",
              "  </thead>\n",
              "  <tbody>\n",
              "    <tr>\n",
              "      <th>0</th>\n",
              "      <td>0001_01</td>\n",
              "      <td>Europa</td>\n",
              "      <td>False</td>\n",
              "      <td>B</td>\n",
              "      <td>TRAPPIST-1e</td>\n",
              "      <td>False</td>\n",
              "      <td>D</td>\n",
              "      <td>0.0</td>\n",
              "      <td>0.0</td>\n",
              "      <td>1</td>\n",
              "      <td>P</td>\n",
              "    </tr>\n",
              "    <tr>\n",
              "      <th>1</th>\n",
              "      <td>0002_01</td>\n",
              "      <td>Earth</td>\n",
              "      <td>False</td>\n",
              "      <td>F</td>\n",
              "      <td>TRAPPIST-1e</td>\n",
              "      <td>True</td>\n",
              "      <td>C</td>\n",
              "      <td>702.0</td>\n",
              "      <td>34.0</td>\n",
              "      <td>0</td>\n",
              "      <td>S</td>\n",
              "    </tr>\n",
              "    <tr>\n",
              "      <th>2</th>\n",
              "      <td>0003_01</td>\n",
              "      <td>Europa</td>\n",
              "      <td>False</td>\n",
              "      <td>A</td>\n",
              "      <td>TRAPPIST-1e</td>\n",
              "      <td>False</td>\n",
              "      <td>F</td>\n",
              "      <td>6807.0</td>\n",
              "      <td>3576.0</td>\n",
              "      <td>0</td>\n",
              "      <td>S</td>\n",
              "    </tr>\n",
              "    <tr>\n",
              "      <th>3</th>\n",
              "      <td>0003_02</td>\n",
              "      <td>Europa</td>\n",
              "      <td>False</td>\n",
              "      <td>A</td>\n",
              "      <td>TRAPPIST-1e</td>\n",
              "      <td>False</td>\n",
              "      <td>D</td>\n",
              "      <td>3522.0</td>\n",
              "      <td>1654.0</td>\n",
              "      <td>0</td>\n",
              "      <td>S</td>\n",
              "    </tr>\n",
              "    <tr>\n",
              "      <th>4</th>\n",
              "      <td>0004_01</td>\n",
              "      <td>Earth</td>\n",
              "      <td>False</td>\n",
              "      <td>F</td>\n",
              "      <td>TRAPPIST-1e</td>\n",
              "      <td>True</td>\n",
              "      <td>A</td>\n",
              "      <td>870.0</td>\n",
              "      <td>221.0</td>\n",
              "      <td>0</td>\n",
              "      <td>S</td>\n",
              "    </tr>\n",
              "    <tr>\n",
              "      <th>...</th>\n",
              "      <td>...</td>\n",
              "      <td>...</td>\n",
              "      <td>...</td>\n",
              "      <td>...</td>\n",
              "      <td>...</td>\n",
              "      <td>...</td>\n",
              "      <td>...</td>\n",
              "      <td>...</td>\n",
              "      <td>...</td>\n",
              "      <td>...</td>\n",
              "      <td>...</td>\n",
              "    </tr>\n",
              "    <tr>\n",
              "      <th>8688</th>\n",
              "      <td>9276_01</td>\n",
              "      <td>Europa</td>\n",
              "      <td>False</td>\n",
              "      <td>A</td>\n",
              "      <td>55 Cancri e</td>\n",
              "      <td>False</td>\n",
              "      <td>E</td>\n",
              "      <td>1717.0</td>\n",
              "      <td>6819.0</td>\n",
              "      <td>0</td>\n",
              "      <td>P</td>\n",
              "    </tr>\n",
              "    <tr>\n",
              "      <th>8689</th>\n",
              "      <td>9278_01</td>\n",
              "      <td>Earth</td>\n",
              "      <td>True</td>\n",
              "      <td>G</td>\n",
              "      <td>PSO J318.5-22</td>\n",
              "      <td>False</td>\n",
              "      <td>B</td>\n",
              "      <td>0.0</td>\n",
              "      <td>0.0</td>\n",
              "      <td>1</td>\n",
              "      <td>S</td>\n",
              "    </tr>\n",
              "    <tr>\n",
              "      <th>8690</th>\n",
              "      <td>9279_01</td>\n",
              "      <td>Earth</td>\n",
              "      <td>False</td>\n",
              "      <td>G</td>\n",
              "      <td>TRAPPIST-1e</td>\n",
              "      <td>True</td>\n",
              "      <td>C</td>\n",
              "      <td>1.0</td>\n",
              "      <td>1872.0</td>\n",
              "      <td>0</td>\n",
              "      <td>S</td>\n",
              "    </tr>\n",
              "    <tr>\n",
              "      <th>8691</th>\n",
              "      <td>9280_01</td>\n",
              "      <td>Europa</td>\n",
              "      <td>False</td>\n",
              "      <td>E</td>\n",
              "      <td>55 Cancri e</td>\n",
              "      <td>False</td>\n",
              "      <td>D</td>\n",
              "      <td>3588.0</td>\n",
              "      <td>1049.0</td>\n",
              "      <td>0</td>\n",
              "      <td>S</td>\n",
              "    </tr>\n",
              "    <tr>\n",
              "      <th>8692</th>\n",
              "      <td>9280_02</td>\n",
              "      <td>Europa</td>\n",
              "      <td>False</td>\n",
              "      <td>E</td>\n",
              "      <td>TRAPPIST-1e</td>\n",
              "      <td>True</td>\n",
              "      <td>E</td>\n",
              "      <td>138.0</td>\n",
              "      <td>4688.0</td>\n",
              "      <td>0</td>\n",
              "      <td>S</td>\n",
              "    </tr>\n",
              "  </tbody>\n",
              "</table>\n",
              "<p>8693 rows × 11 columns</p>\n",
              "</div>\n",
              "      <button class=\"colab-df-convert\" onclick=\"convertToInteractive('df-5d8a1f58-13a8-4f3f-b2c4-63249513c5c5')\"\n",
              "              title=\"Convert this dataframe to an interactive table.\"\n",
              "              style=\"display:none;\">\n",
              "        \n",
              "  <svg xmlns=\"http://www.w3.org/2000/svg\" height=\"24px\"viewBox=\"0 0 24 24\"\n",
              "       width=\"24px\">\n",
              "    <path d=\"M0 0h24v24H0V0z\" fill=\"none\"/>\n",
              "    <path d=\"M18.56 5.44l.94 2.06.94-2.06 2.06-.94-2.06-.94-.94-2.06-.94 2.06-2.06.94zm-11 1L8.5 8.5l.94-2.06 2.06-.94-2.06-.94L8.5 2.5l-.94 2.06-2.06.94zm10 10l.94 2.06.94-2.06 2.06-.94-2.06-.94-.94-2.06-.94 2.06-2.06.94z\"/><path d=\"M17.41 7.96l-1.37-1.37c-.4-.4-.92-.59-1.43-.59-.52 0-1.04.2-1.43.59L10.3 9.45l-7.72 7.72c-.78.78-.78 2.05 0 2.83L4 21.41c.39.39.9.59 1.41.59.51 0 1.02-.2 1.41-.59l7.78-7.78 2.81-2.81c.8-.78.8-2.07 0-2.86zM5.41 20L4 18.59l7.72-7.72 1.47 1.35L5.41 20z\"/>\n",
              "  </svg>\n",
              "      </button>\n",
              "      \n",
              "  <style>\n",
              "    .colab-df-container {\n",
              "      display:flex;\n",
              "      flex-wrap:wrap;\n",
              "      gap: 12px;\n",
              "    }\n",
              "\n",
              "    .colab-df-convert {\n",
              "      background-color: #E8F0FE;\n",
              "      border: none;\n",
              "      border-radius: 50%;\n",
              "      cursor: pointer;\n",
              "      display: none;\n",
              "      fill: #1967D2;\n",
              "      height: 32px;\n",
              "      padding: 0 0 0 0;\n",
              "      width: 32px;\n",
              "    }\n",
              "\n",
              "    .colab-df-convert:hover {\n",
              "      background-color: #E2EBFA;\n",
              "      box-shadow: 0px 1px 2px rgba(60, 64, 67, 0.3), 0px 1px 3px 1px rgba(60, 64, 67, 0.15);\n",
              "      fill: #174EA6;\n",
              "    }\n",
              "\n",
              "    [theme=dark] .colab-df-convert {\n",
              "      background-color: #3B4455;\n",
              "      fill: #D2E3FC;\n",
              "    }\n",
              "\n",
              "    [theme=dark] .colab-df-convert:hover {\n",
              "      background-color: #434B5C;\n",
              "      box-shadow: 0px 1px 3px 1px rgba(0, 0, 0, 0.15);\n",
              "      filter: drop-shadow(0px 1px 2px rgba(0, 0, 0, 0.3));\n",
              "      fill: #FFFFFF;\n",
              "    }\n",
              "  </style>\n",
              "\n",
              "      <script>\n",
              "        const buttonEl =\n",
              "          document.querySelector('#df-5d8a1f58-13a8-4f3f-b2c4-63249513c5c5 button.colab-df-convert');\n",
              "        buttonEl.style.display =\n",
              "          google.colab.kernel.accessAllowed ? 'block' : 'none';\n",
              "\n",
              "        async function convertToInteractive(key) {\n",
              "          const element = document.querySelector('#df-5d8a1f58-13a8-4f3f-b2c4-63249513c5c5');\n",
              "          const dataTable =\n",
              "            await google.colab.kernel.invokeFunction('convertToInteractive',\n",
              "                                                     [key], {});\n",
              "          if (!dataTable) return;\n",
              "\n",
              "          const docLinkHtml = 'Like what you see? Visit the ' +\n",
              "            '<a target=\"_blank\" href=https://colab.research.google.com/notebooks/data_table.ipynb>data table notebook</a>'\n",
              "            + ' to learn more about interactive tables.';\n",
              "          element.innerHTML = '';\n",
              "          dataTable['output_type'] = 'display_data';\n",
              "          await google.colab.output.renderOutput(dataTable, element);\n",
              "          const docLink = document.createElement('div');\n",
              "          docLink.innerHTML = docLinkHtml;\n",
              "          element.appendChild(docLink);\n",
              "        }\n",
              "      </script>\n",
              "    </div>\n",
              "  </div>\n",
              "  "
            ]
          },
          "metadata": {},
          "execution_count": 48
        }
      ]
    },
    {
      "cell_type": "code",
      "source": [
        "train['id_2'] = np.nan\n",
        "for i in range(len(train['PassengerId'])):\n",
        "    a, b = train.loc[:, 'PassengerId'][i].split('_')\n",
        "    train.loc[:, 'PassengerId'][i] = a\n",
        "    train.loc[i:i,'id_2'] = b"
      ],
      "metadata": {
        "colab": {
          "base_uri": "https://localhost:8080/"
        },
        "id": "aTDi7Oo3TyGt",
        "outputId": "9590d265-5eb7-4766-faaf-323751592680"
      },
      "execution_count": 198,
      "outputs": [
        {
          "output_type": "stream",
          "name": "stderr",
          "text": [
            "<ipython-input-198-3f3335b40860>:4: SettingWithCopyWarning: \n",
            "A value is trying to be set on a copy of a slice from a DataFrame\n",
            "\n",
            "See the caveats in the documentation: https://pandas.pydata.org/pandas-docs/stable/user_guide/indexing.html#returning-a-view-versus-a-copy\n",
            "  train.loc[:, 'PassengerId'][i] = a\n"
          ]
        }
      ]
    },
    {
      "cell_type": "code",
      "source": [
        "sns.histplot(data = train, x = 'id_2', hue = 'Transported')\n"
      ],
      "metadata": {
        "colab": {
          "base_uri": "https://localhost:8080/",
          "height": 298
        },
        "id": "GWDidfToejHh",
        "outputId": "fedc20ed-4663-4df4-b22e-1b94bfb59c31"
      },
      "execution_count": null,
      "outputs": [
        {
          "output_type": "execute_result",
          "data": {
            "text/plain": [
              "<matplotlib.axes._subplots.AxesSubplot at 0x7fdfd12f9880>"
            ]
          },
          "metadata": {},
          "execution_count": 50
        },
        {
          "output_type": "display_data",
          "data": {
            "text/plain": [
              "<Figure size 432x288 with 1 Axes>"
            ],
            "image/png": "[encoded data removed]"
          },
          "metadata": {
            "needs_background": "light"
          }
        }
      ]
    },
    {
      "cell_type": "code",
      "source": [
        "test['id_2'] = np.nan\n",
        "for i in range(len(test['PassengerId'])):\n",
        "    a, b = test.loc[:, 'PassengerId'][i].split('_')\n",
        "    test.loc[:, 'PassengerId'][i] = a\n",
        "    test.loc[i:i,'id_2'] = b"
      ],
      "metadata": {
        "colab": {
          "base_uri": "https://localhost:8080/"
        },
        "id": "2VeY9saOe7CN",
        "outputId": "81e055b5-be64-41ef-c5ad-b8448f7ab2d4"
      },
      "execution_count": 199,
      "outputs": [
        {
          "output_type": "stream",
          "name": "stderr",
          "text": [
            "<ipython-input-199-09d8f474ec60>:4: SettingWithCopyWarning: \n",
            "A value is trying to be set on a copy of a slice from a DataFrame\n",
            "\n",
            "See the caveats in the documentation: https://pandas.pydata.org/pandas-docs/stable/user_guide/indexing.html#returning-a-view-versus-a-copy\n",
            "  test.loc[:, 'PassengerId'][i] = a\n"
          ]
        }
      ]
    },
    {
      "cell_type": "code",
      "source": [
        "#모델에 사용할 x, y 데이터 구성 \n",
        "\n",
        "y = train['Transported']\n",
        "del train['Transported']\n",
        "X = train\n",
        "\n",
        "X\n"
      ],
      "metadata": {
        "colab": {
          "base_uri": "https://localhost:8080/",
          "height": 505
        },
        "id": "GQun4pE9hoXo",
        "outputId": "b40bd614-05c6-43d8-f90a-d500d24ee30a"
      },
      "execution_count": 200,
      "outputs": [
        {
          "output_type": "execute_result",
          "data": {
            "text/plain": [
              "     PassengerId HomePlanet CryoSleep Cabin    Destination Age_group  \\\n",
              "0           0001     Europa     False     B    TRAPPIST-1e         D   \n",
              "1           0002      Earth     False     F    TRAPPIST-1e         C   \n",
              "2           0003     Europa     False     A    TRAPPIST-1e         F   \n",
              "3           0003     Europa     False     A    TRAPPIST-1e         D   \n",
              "4           0004      Earth     False     F    TRAPPIST-1e         A   \n",
              "...          ...        ...       ...   ...            ...       ...   \n",
              "8688        9276     Europa     False     A    55 Cancri e         E   \n",
              "8689        9278      Earth      True     G  PSO J318.5-22         B   \n",
              "8690        9279      Earth     False     G    TRAPPIST-1e         C   \n",
              "8691        9280     Europa     False     E    55 Cancri e         D   \n",
              "8692        9280     Europa     False     E    TRAPPIST-1e         E   \n",
              "\n",
              "      Rich_spender  Normal_spender  No_spending Side id_2  \n",
              "0              0.0             0.0            1    P   01  \n",
              "1            702.0            34.0            0    S   01  \n",
              "2           6807.0          3576.0            0    S   01  \n",
              "3           3522.0          1654.0            0    S   02  \n",
              "4            870.0           221.0            0    S   01  \n",
              "...            ...             ...          ...  ...  ...  \n",
              "8688        1717.0          6819.0            0    P   01  \n",
              "8689           0.0             0.0            1    S   01  \n",
              "8690           1.0          1872.0            0    S   01  \n",
              "8691        3588.0          1049.0            0    S   01  \n",
              "8692         138.0          4688.0            0    S   02  \n",
              "\n",
              "[8693 rows x 11 columns]"
            ],
            "text/html": [
              "\n",
              "  <div id=\"df-35f1f102-b3f0-4c16-ac84-9c4aeb5f51ca\">\n",
              "    <div class=\"colab-df-container\">\n",
              "      <div>\n",
              "<style scoped>\n",
              "    .dataframe tbody tr th:only-of-type {\n",
              "        vertical-align: middle;\n",
              "    }\n",
              "\n",
              "    .dataframe tbody tr th {\n",
              "        vertical-align: top;\n",
              "    }\n",
              "\n",
              "    .dataframe thead th {\n",
              "        text-align: right;\n",
              "    }\n",
              "</style>\n",
              "<table border=\"1\" class=\"dataframe\">\n",
              "  <thead>\n",
              "    <tr style=\"text-align: right;\">\n",
              "      <th></th>\n",
              "      <th>PassengerId</th>\n",
              "      <th>HomePlanet</th>\n",
              "      <th>CryoSleep</th>\n",
              "      <th>Cabin</th>\n",
              "      <th>Destination</th>\n",
              "      <th>Age_group</th>\n",
              "      <th>Rich_spender</th>\n",
              "      <th>Normal_spender</th>\n",
              "      <th>No_spending</th>\n",
              "      <th>Side</th>\n",
              "      <th>id_2</th>\n",
              "    </tr>\n",
              "  </thead>\n",
              "  <tbody>\n",
              "    <tr>\n",
              "      <th>0</th>\n",
              "      <td>0001</td>\n",
              "      <td>Europa</td>\n",
              "      <td>False</td>\n",
              "      <td>B</td>\n",
              "      <td>TRAPPIST-1e</td>\n",
              "      <td>D</td>\n",
              "      <td>0.0</td>\n",
              "      <td>0.0</td>\n",
              "      <td>1</td>\n",
              "      <td>P</td>\n",
              "      <td>01</td>\n",
              "    </tr>\n",
              "    <tr>\n",
              "      <th>1</th>\n",
              "      <td>0002</td>\n",
              "      <td>Earth</td>\n",
              "      <td>False</td>\n",
              "      <td>F</td>\n",
              "      <td>TRAPPIST-1e</td>\n",
              "      <td>C</td>\n",
              "      <td>702.0</td>\n",
              "      <td>34.0</td>\n",
              "      <td>0</td>\n",
              "      <td>S</td>\n",
              "      <td>01</td>\n",
              "    </tr>\n",
              "    <tr>\n",
              "      <th>2</th>\n",
              "      <td>0003</td>\n",
              "      <td>Europa</td>\n",
              "      <td>False</td>\n",
              "      <td>A</td>\n",
              "      <td>TRAPPIST-1e</td>\n",
              "      <td>F</td>\n",
              "      <td>6807.0</td>\n",
              "      <td>3576.0</td>\n",
              "      <td>0</td>\n",
              "      <td>S</td>\n",
              "      <td>01</td>\n",
              "    </tr>\n",
              "    <tr>\n",
              "      <th>3</th>\n",
              "      <td>0003</td>\n",
              "      <td>Europa</td>\n",
              "      <td>False</td>\n",
              "      <td>A</td>\n",
              "      <td>TRAPPIST-1e</td>\n",
              "      <td>D</td>\n",
              "      <td>3522.0</td>\n",
              "      <td>1654.0</td>\n",
              "      <td>0</td>\n",
              "      <td>S</td>\n",
              "      <td>02</td>\n",
              "    </tr>\n",
              "    <tr>\n",
              "      <th>4</th>\n",
              "      <td>0004</td>\n",
              "      <td>Earth</td>\n",
              "      <td>False</td>\n",
              "      <td>F</td>\n",
              "      <td>TRAPPIST-1e</td>\n",
              "      <td>A</td>\n",
              "      <td>870.0</td>\n",
              "      <td>221.0</td>\n",
              "      <td>0</td>\n",
              "      <td>S</td>\n",
              "      <td>01</td>\n",
              "    </tr>\n",
              "    <tr>\n",
              "      <th>...</th>\n",
              "      <td>...</td>\n",
              "      <td>...</td>\n",
              "      <td>...</td>\n",
              "      <td>...</td>\n",
              "      <td>...</td>\n",
              "      <td>...</td>\n",
              "      <td>...</td>\n",
              "      <td>...</td>\n",
              "      <td>...</td>\n",
              "      <td>...</td>\n",
              "      <td>...</td>\n",
              "    </tr>\n",
              "    <tr>\n",
              "      <th>8688</th>\n",
              "      <td>9276</td>\n",
              "      <td>Europa</td>\n",
              "      <td>False</td>\n",
              "      <td>A</td>\n",
              "      <td>55 Cancri e</td>\n",
              "      <td>E</td>\n",
              "      <td>1717.0</td>\n",
              "      <td>6819.0</td>\n",
              "      <td>0</td>\n",
              "      <td>P</td>\n",
              "      <td>01</td>\n",
              "    </tr>\n",
              "    <tr>\n",
              "      <th>8689</th>\n",
              "      <td>9278</td>\n",
              "      <td>Earth</td>\n",
              "      <td>True</td>\n",
              "      <td>G</td>\n",
              "      <td>PSO J318.5-22</td>\n",
              "      <td>B</td>\n",
              "      <td>0.0</td>\n",
              "      <td>0.0</td>\n",
              "      <td>1</td>\n",
              "      <td>S</td>\n",
              "      <td>01</td>\n",
              "    </tr>\n",
              "    <tr>\n",
              "      <th>8690</th>\n",
              "      <td>9279</td>\n",
              "      <td>Earth</td>\n",
              "      <td>False</td>\n",
              "      <td>G</td>\n",
              "      <td>TRAPPIST-1e</td>\n",
              "      <td>C</td>\n",
              "      <td>1.0</td>\n",
              "      <td>1872.0</td>\n",
              "      <td>0</td>\n",
              "      <td>S</td>\n",
              "      <td>01</td>\n",
              "    </tr>\n",
              "    <tr>\n",
              "      <th>8691</th>\n",
              "      <td>9280</td>\n",
              "      <td>Europa</td>\n",
              "      <td>False</td>\n",
              "      <td>E</td>\n",
              "      <td>55 Cancri e</td>\n",
              "      <td>D</td>\n",
              "      <td>3588.0</td>\n",
              "      <td>1049.0</td>\n",
              "      <td>0</td>\n",
              "      <td>S</td>\n",
              "      <td>01</td>\n",
              "    </tr>\n",
              "    <tr>\n",
              "      <th>8692</th>\n",
              "      <td>9280</td>\n",
              "      <td>Europa</td>\n",
              "      <td>False</td>\n",
              "      <td>E</td>\n",
              "      <td>TRAPPIST-1e</td>\n",
              "      <td>E</td>\n",
              "      <td>138.0</td>\n",
              "      <td>4688.0</td>\n",
              "      <td>0</td>\n",
              "      <td>S</td>\n",
              "      <td>02</td>\n",
              "    </tr>\n",
              "  </tbody>\n",
              "</table>\n",
              "<p>8693 rows × 11 columns</p>\n",
              "</div>\n",
              "      <button class=\"colab-df-convert\" onclick=\"convertToInteractive('df-35f1f102-b3f0-4c16-ac84-9c4aeb5f51ca')\"\n",
              "              title=\"Convert this dataframe to an interactive table.\"\n",
              "              style=\"display:none;\">\n",
              "        \n",
              "  <svg xmlns=\"http://www.w3.org/2000/svg\" height=\"24px\"viewBox=\"0 0 24 24\"\n",
              "       width=\"24px\">\n",
              "    <path d=\"M0 0h24v24H0V0z\" fill=\"none\"/>\n",
              "    <path d=\"M18.56 5.44l.94 2.06.94-2.06 2.06-.94-2.06-.94-.94-2.06-.94 2.06-2.06.94zm-11 1L8.5 8.5l.94-2.06 2.06-.94-2.06-.94L8.5 2.5l-.94 2.06-2.06.94zm10 10l.94 2.06.94-2.06 2.06-.94-2.06-.94-.94-2.06-.94 2.06-2.06.94z\"/><path d=\"M17.41 7.96l-1.37-1.37c-.4-.4-.92-.59-1.43-.59-.52 0-1.04.2-1.43.59L10.3 9.45l-7.72 7.72c-.78.78-.78 2.05 0 2.83L4 21.41c.39.39.9.59 1.41.59.51 0 1.02-.2 1.41-.59l7.78-7.78 2.81-2.81c.8-.78.8-2.07 0-2.86zM5.41 20L4 18.59l7.72-7.72 1.47 1.35L5.41 20z\"/>\n",
              "  </svg>\n",
              "      </button>\n",
              "      \n",
              "  <style>\n",
              "    .colab-df-container {\n",
              "      display:flex;\n",
              "      flex-wrap:wrap;\n",
              "      gap: 12px;\n",
              "    }\n",
              "\n",
              "    .colab-df-convert {\n",
              "      background-color: #E8F0FE;\n",
              "      border: none;\n",
              "      border-radius: 50%;\n",
              "      cursor: pointer;\n",
              "      display: none;\n",
              "      fill: #1967D2;\n",
              "      height: 32px;\n",
              "      padding: 0 0 0 0;\n",
              "      width: 32px;\n",
              "    }\n",
              "\n",
              "    .colab-df-convert:hover {\n",
              "      background-color: #E2EBFA;\n",
              "      box-shadow: 0px 1px 2px rgba(60, 64, 67, 0.3), 0px 1px 3px 1px rgba(60, 64, 67, 0.15);\n",
              "      fill: #174EA6;\n",
              "    }\n",
              "\n",
              "    [theme=dark] .colab-df-convert {\n",
              "      background-color: #3B4455;\n",
              "      fill: #D2E3FC;\n",
              "    }\n",
              "\n",
              "    [theme=dark] .colab-df-convert:hover {\n",
              "      background-color: #434B5C;\n",
              "      box-shadow: 0px 1px 3px 1px rgba(0, 0, 0, 0.15);\n",
              "      filter: drop-shadow(0px 1px 2px rgba(0, 0, 0, 0.3));\n",
              "      fill: #FFFFFF;\n",
              "    }\n",
              "  </style>\n",
              "\n",
              "      <script>\n",
              "        const buttonEl =\n",
              "          document.querySelector('#df-35f1f102-b3f0-4c16-ac84-9c4aeb5f51ca button.colab-df-convert');\n",
              "        buttonEl.style.display =\n",
              "          google.colab.kernel.accessAllowed ? 'block' : 'none';\n",
              "\n",
              "        async function convertToInteractive(key) {\n",
              "          const element = document.querySelector('#df-35f1f102-b3f0-4c16-ac84-9c4aeb5f51ca');\n",
              "          const dataTable =\n",
              "            await google.colab.kernel.invokeFunction('convertToInteractive',\n",
              "                                                     [key], {});\n",
              "          if (!dataTable) return;\n",
              "\n",
              "          const docLinkHtml = 'Like what you see? Visit the ' +\n",
              "            '<a target=\"_blank\" href=https://colab.research.google.com/notebooks/data_table.ipynb>data table notebook</a>'\n",
              "            + ' to learn more about interactive tables.';\n",
              "          element.innerHTML = '';\n",
              "          dataTable['output_type'] = 'display_data';\n",
              "          await google.colab.output.renderOutput(dataTable, element);\n",
              "          const docLink = document.createElement('div');\n",
              "          docLink.innerHTML = docLinkHtml;\n",
              "          element.appendChild(docLink);\n",
              "        }\n",
              "      </script>\n",
              "    </div>\n",
              "  </div>\n",
              "  "
            ]
          },
          "metadata": {},
          "execution_count": 200
        }
      ]
    },
    {
      "cell_type": "code",
      "source": [
        "train.info()"
      ],
      "metadata": {
        "colab": {
          "base_uri": "https://localhost:8080/"
        },
        "id": "FjBeVlK1hhkP",
        "outputId": "07d44a91-8b13-4ca2-db9b-f812b74ea2bc"
      },
      "execution_count": null,
      "outputs": [
        {
          "output_type": "stream",
          "name": "stdout",
          "text": [
            "<class 'pandas.core.frame.DataFrame'>\n",
            "RangeIndex: 8693 entries, 0 to 8692\n",
            "Data columns (total 11 columns):\n",
            " #   Column          Non-Null Count  Dtype  \n",
            "---  ------          --------------  -----  \n",
            " 0   PassengerId     8693 non-null   object \n",
            " 1   HomePlanet      8492 non-null   object \n",
            " 2   CryoSleep       8476 non-null   object \n",
            " 3   Cabin           8693 non-null   object \n",
            " 4   Destination     8511 non-null   object \n",
            " 5   Age_group       8514 non-null   object \n",
            " 6   Rich_spender    8693 non-null   float64\n",
            " 7   Normal_spender  8693 non-null   float64\n",
            " 8   No_spending     8693 non-null   int64  \n",
            " 9   Side            8693 non-null   object \n",
            " 10  id_2            8693 non-null   object \n",
            "dtypes: float64(2), int64(1), object(8)\n",
            "memory usage: 747.2+ KB\n"
          ]
        }
      ]
    },
    {
      "cell_type": "markdown",
      "source": [
        "> ## 결측치 채우기 "
      ],
      "metadata": {
        "id": "fBKGID56UwOV"
      }
    },
    {
      "cell_type": "code",
      "source": [
        "#결측치 채우기 \n",
        "# 현재 Cabin , side, id_2에는 'no'라는 단어로 채워놨다 . \n",
        "X.isnull().sum()"
      ],
      "metadata": {
        "colab": {
          "base_uri": "https://localhost:8080/"
        },
        "id": "fTmlWEtnflTM",
        "outputId": "2b8e7e86-80d6-4d48-feb3-277759ad595a"
      },
      "execution_count": null,
      "outputs": [
        {
          "output_type": "execute_result",
          "data": {
            "text/plain": [
              "PassengerId         0\n",
              "HomePlanet        201\n",
              "CryoSleep         217\n",
              "Cabin               0\n",
              "Destination       182\n",
              "Age_group         179\n",
              "Rich_spender        0\n",
              "Normal_spender      0\n",
              "No_spending         0\n",
              "Side                0\n",
              "id_2                0\n",
              "dtype: int64"
            ]
          },
          "metadata": {},
          "execution_count": 54
        }
      ]
    },
    {
      "cell_type": "code",
      "source": [
        "#앞뒤로 passenger Id가 같으면 같은 가족이라고 판단을 하고  같은 고향을 배정해 준다. \n",
        "temp_home = X[X['HomePlanet'].isnull()].index\n",
        "\n",
        "\n",
        "for i in temp_home:\n",
        "    if X.loc[i-1,'PassengerId'] == X.loc[i,'PassengerId']:\n",
        "        X.loc[i,'HomePlanet'] = X.loc[i-1, 'HomePlanet']\n",
        "    elif X.loc[i+1,'PassengerId'] == X.loc[i,'PassengerId']:\n",
        "        X.loc[i, 'HomePlanet'] = X.loc[i,'HomePlanet']"
      ],
      "metadata": {
        "id": "7VNPpgPAf1g3"
      },
      "execution_count": 201,
      "outputs": []
    },
    {
      "cell_type": "code",
      "source": [
        "X.loc[:, 'HomePlanet'].isnull().sum()\n",
        "\n",
        "# 같이 온 가족이 없는 경우 도 여전히 존재한다 이경우 최빈값인 Earth를 준다. \n",
        "\n",
        "temp_home = X[X['HomePlanet'].isnull()].index\n"
      ],
      "metadata": {
        "id": "OYbGYzs1hNnB"
      },
      "execution_count": 202,
      "outputs": []
    },
    {
      "cell_type": "code",
      "source": [
        "for i in temp_home:\n",
        "    X.loc[i,'HomePlanet'] = 'Earth'"
      ],
      "metadata": {
        "id": "b6soYDBLkHFO"
      },
      "execution_count": 203,
      "outputs": []
    },
    {
      "cell_type": "code",
      "source": [
        "temp_home = test[test['HomePlanet'].isnull()].index\n",
        "\n",
        "for i in temp_home:\n",
        "    if test.loc[i-1,'PassengerId'] == test.loc[i,'PassengerId']:\n",
        "        test.loc[i,'HomePlanet'] = test.loc[i-1, 'HomePlanet']\n",
        "    elif test.loc[i+1,'PassengerId'] == test.loc[i,'PassengerId']:\n",
        "        test.loc[i, 'HomePlanet'] = test.loc[i,'HomePlanet']"
      ],
      "metadata": {
        "id": "kV_Cgwt6pZ0B"
      },
      "execution_count": 204,
      "outputs": []
    },
    {
      "cell_type": "code",
      "source": [
        "test.loc[:, 'HomePlanet'].isnull().sum()\n",
        "\n",
        "# 같이 온 가족이 없는 경우 도 여전히 존재한다 이경우 최빈값인 Earth를 준다. \n",
        "\n",
        "temp_home = test[test['HomePlanet'].isnull()].index\n",
        "for i in temp_home:\n",
        "    test.loc[i,'HomePlanet'] = 'Earth'"
      ],
      "metadata": {
        "id": "75AqB-IKpeEA"
      },
      "execution_count": 205,
      "outputs": []
    },
    {
      "cell_type": "code",
      "source": [
        "X.loc[:, 'HomePlanet'].isnull().sum()\n"
      ],
      "metadata": {
        "colab": {
          "base_uri": "https://localhost:8080/"
        },
        "id": "mddrTO9ZkVZi",
        "outputId": "b6fa17e5-829f-4061-f292-34560d6d7b28"
      },
      "execution_count": 206,
      "outputs": [
        {
          "output_type": "execute_result",
          "data": {
            "text/plain": [
              "0"
            ]
          },
          "metadata": {},
          "execution_count": 206
        }
      ]
    },
    {
      "cell_type": "code",
      "source": [
        "test.loc[:, 'HomePlanet'].isnull().sum()\n"
      ],
      "metadata": {
        "colab": {
          "base_uri": "https://localhost:8080/"
        },
        "id": "hNy6Y130rc43",
        "outputId": "7a114f38-7c82-4f90-8643-26459eae016c"
      },
      "execution_count": 207,
      "outputs": [
        {
          "output_type": "execute_result",
          "data": {
            "text/plain": [
              "0"
            ]
          },
          "metadata": {},
          "execution_count": 207
        }
      ]
    },
    {
      "cell_type": "code",
      "source": [
        "#cryosleep 채우기 \n",
        "X.loc[:, 'CryoSleep'].isnull().sum()\n"
      ],
      "metadata": {
        "colab": {
          "base_uri": "https://localhost:8080/"
        },
        "id": "DfJZHKEAlFcJ",
        "outputId": "8ba93fa1-13b6-4caa-de38-8ebdd96d70d9"
      },
      "execution_count": 208,
      "outputs": [
        {
          "output_type": "execute_result",
          "data": {
            "text/plain": [
              "217"
            ]
          },
          "metadata": {},
          "execution_count": 208
        }
      ]
    },
    {
      "cell_type": "code",
      "source": [
        "temp_sleep = X[X.loc[:, 'CryoSleep'].isnull()].index\n",
        "for i in temp_sleep:\n",
        "    if X.loc[i,'No_spending'] == 0:\n",
        "        X.loc[i, 'CryoSleep'] = True\n",
        "    else:\n",
        "        X.loc[i, 'CryoSleep'] = False"
      ],
      "metadata": {
        "id": "0oK5ZCDVlUPS"
      },
      "execution_count": 209,
      "outputs": []
    },
    {
      "cell_type": "code",
      "source": [
        "temp_sleep = test[test.loc[:, 'CryoSleep'].isnull()].index\n",
        "for i in temp_sleep:\n",
        "    if test.loc[i,'No_spending'] == 0:\n",
        "        test.loc[i, 'CryoSleep'] = True\n",
        "    else:\n",
        "        test.loc[i, 'CryoSleep'] = False"
      ],
      "metadata": {
        "id": "DpLh3Qqypmoa"
      },
      "execution_count": 210,
      "outputs": []
    },
    {
      "cell_type": "code",
      "source": [
        "X.loc[:, 'CryoSleep'].isnull().sum()\n"
      ],
      "metadata": {
        "colab": {
          "base_uri": "https://localhost:8080/"
        },
        "id": "bI-Gy01blv3D",
        "outputId": "08ea67fb-ba03-4860-c39d-7d77d8d57ab3"
      },
      "execution_count": 211,
      "outputs": [
        {
          "output_type": "execute_result",
          "data": {
            "text/plain": [
              "0"
            ]
          },
          "metadata": {},
          "execution_count": 211
        }
      ]
    },
    {
      "cell_type": "code",
      "source": [
        "test.loc[:, 'CryoSleep'].isnull().sum()\n"
      ],
      "metadata": {
        "colab": {
          "base_uri": "https://localhost:8080/"
        },
        "id": "v8ippqH6sg4J",
        "outputId": "b5615bad-5c98-4b44-eac4-94b84785b132"
      },
      "execution_count": 212,
      "outputs": [
        {
          "output_type": "execute_result",
          "data": {
            "text/plain": [
              "0"
            ]
          },
          "metadata": {},
          "execution_count": 212
        }
      ]
    },
    {
      "cell_type": "code",
      "source": [
        "X[X.loc[:, 'Destination'].isnull()]"
      ],
      "metadata": {
        "colab": {
          "base_uri": "https://localhost:8080/",
          "height": 487
        },
        "id": "iAUAawgPnHJ-",
        "outputId": "a43331bc-f015-4289-c062-293d4a59de9e"
      },
      "execution_count": 162,
      "outputs": [
        {
          "output_type": "execute_result",
          "data": {
            "text/plain": [
              "     PassengerId HomePlanet CryoSleep Cabin Destination    VIP Age_group  \\\n",
              "47          0045       Mars      True     F         NaN  False         B   \n",
              "128         0138      Earth     False     E         NaN  False         D   \n",
              "139         0152      Earth     False     F         NaN  False         E   \n",
              "347         0382      Earth     False     G         NaN  False         C   \n",
              "430         0462      Earth      True     G         NaN  False         E   \n",
              "...          ...        ...       ...   ...         ...    ...       ...   \n",
              "8372        8956      Earth      True     G         NaN  False         B   \n",
              "8551        9130       Mars      True     F         NaN  False         E   \n",
              "8616        9195       Mars      True     F         NaN  False         D   \n",
              "8621        9197     Europa     False     C         NaN   True         E   \n",
              "8646        9226      Earth     False     F         NaN  False         B   \n",
              "\n",
              "      Rich_spender  Normal_spender  No_spending Side id_2  \n",
              "47             0.0             0.0            1    P   02  \n",
              "128          771.0            22.0            0    P   02  \n",
              "139          607.0             0.0            0    P   01  \n",
              "347          720.0             0.0            0    P   01  \n",
              "430            0.0             0.0            1    S   01  \n",
              "...            ...             ...          ...  ...  ...  \n",
              "8372           0.0             0.0            1    P   02  \n",
              "8551           0.0             0.0            1    S   01  \n",
              "8616           0.0             0.0            1    S   02  \n",
              "8621        9077.0          7964.0            0    P   02  \n",
              "8646         688.0            13.0            0    S   01  \n",
              "\n",
              "[182 rows x 12 columns]"
            ],
            "text/html": [
              "\n",
              "  <div id=\"df-1d0764a6-7c94-4e09-be76-c96f000a738b\">\n",
              "    <div class=\"colab-df-container\">\n",
              "      <div>\n",
              "<style scoped>\n",
              "    .dataframe tbody tr th:only-of-type {\n",
              "        vertical-align: middle;\n",
              "    }\n",
              "\n",
              "    .dataframe tbody tr th {\n",
              "        vertical-align: top;\n",
              "    }\n",
              "\n",
              "    .dataframe thead th {\n",
              "        text-align: right;\n",
              "    }\n",
              "</style>\n",
              "<table border=\"1\" class=\"dataframe\">\n",
              "  <thead>\n",
              "    <tr style=\"text-align: right;\">\n",
              "      <th></th>\n",
              "      <th>PassengerId</th>\n",
              "      <th>HomePlanet</th>\n",
              "      <th>CryoSleep</th>\n",
              "      <th>Cabin</th>\n",
              "      <th>Destination</th>\n",
              "      <th>VIP</th>\n",
              "      <th>Age_group</th>\n",
              "      <th>Rich_spender</th>\n",
              "      <th>Normal_spender</th>\n",
              "      <th>No_spending</th>\n",
              "      <th>Side</th>\n",
              "      <th>id_2</th>\n",
              "    </tr>\n",
              "  </thead>\n",
              "  <tbody>\n",
              "    <tr>\n",
              "      <th>47</th>\n",
              "      <td>0045</td>\n",
              "      <td>Mars</td>\n",
              "      <td>True</td>\n",
              "      <td>F</td>\n",
              "      <td>NaN</td>\n",
              "      <td>False</td>\n",
              "      <td>B</td>\n",
              "      <td>0.0</td>\n",
              "      <td>0.0</td>\n",
              "      <td>1</td>\n",
              "      <td>P</td>\n",
              "      <td>02</td>\n",
              "    </tr>\n",
              "    <tr>\n",
              "      <th>128</th>\n",
              "      <td>0138</td>\n",
              "      <td>Earth</td>\n",
              "      <td>False</td>\n",
              "      <td>E</td>\n",
              "      <td>NaN</td>\n",
              "      <td>False</td>\n",
              "      <td>D</td>\n",
              "      <td>771.0</td>\n",
              "      <td>22.0</td>\n",
              "      <td>0</td>\n",
              "      <td>P</td>\n",
              "      <td>02</td>\n",
              "    </tr>\n",
              "    <tr>\n",
              "      <th>139</th>\n",
              "      <td>0152</td>\n",
              "      <td>Earth</td>\n",
              "      <td>False</td>\n",
              "      <td>F</td>\n",
              "      <td>NaN</td>\n",
              "      <td>False</td>\n",
              "      <td>E</td>\n",
              "      <td>607.0</td>\n",
              "      <td>0.0</td>\n",
              "      <td>0</td>\n",
              "      <td>P</td>\n",
              "      <td>01</td>\n",
              "    </tr>\n",
              "    <tr>\n",
              "      <th>347</th>\n",
              "      <td>0382</td>\n",
              "      <td>Earth</td>\n",
              "      <td>False</td>\n",
              "      <td>G</td>\n",
              "      <td>NaN</td>\n",
              "      <td>False</td>\n",
              "      <td>C</td>\n",
              "      <td>720.0</td>\n",
              "      <td>0.0</td>\n",
              "      <td>0</td>\n",
              "      <td>P</td>\n",
              "      <td>01</td>\n",
              "    </tr>\n",
              "    <tr>\n",
              "      <th>430</th>\n",
              "      <td>0462</td>\n",
              "      <td>Earth</td>\n",
              "      <td>True</td>\n",
              "      <td>G</td>\n",
              "      <td>NaN</td>\n",
              "      <td>False</td>\n",
              "      <td>E</td>\n",
              "      <td>0.0</td>\n",
              "      <td>0.0</td>\n",
              "      <td>1</td>\n",
              "      <td>S</td>\n",
              "      <td>01</td>\n",
              "    </tr>\n",
              "    <tr>\n",
              "      <th>...</th>\n",
              "      <td>...</td>\n",
              "      <td>...</td>\n",
              "      <td>...</td>\n",
              "      <td>...</td>\n",
              "      <td>...</td>\n",
              "      <td>...</td>\n",
              "      <td>...</td>\n",
              "      <td>...</td>\n",
              "      <td>...</td>\n",
              "      <td>...</td>\n",
              "      <td>...</td>\n",
              "      <td>...</td>\n",
              "    </tr>\n",
              "    <tr>\n",
              "      <th>8372</th>\n",
              "      <td>8956</td>\n",
              "      <td>Earth</td>\n",
              "      <td>True</td>\n",
              "      <td>G</td>\n",
              "      <td>NaN</td>\n",
              "      <td>False</td>\n",
              "      <td>B</td>\n",
              "      <td>0.0</td>\n",
              "      <td>0.0</td>\n",
              "      <td>1</td>\n",
              "      <td>P</td>\n",
              "      <td>02</td>\n",
              "    </tr>\n",
              "    <tr>\n",
              "      <th>8551</th>\n",
              "      <td>9130</td>\n",
              "      <td>Mars</td>\n",
              "      <td>True</td>\n",
              "      <td>F</td>\n",
              "      <td>NaN</td>\n",
              "      <td>False</td>\n",
              "      <td>E</td>\n",
              "      <td>0.0</td>\n",
              "      <td>0.0</td>\n",
              "      <td>1</td>\n",
              "      <td>S</td>\n",
              "      <td>01</td>\n",
              "    </tr>\n",
              "    <tr>\n",
              "      <th>8616</th>\n",
              "      <td>9195</td>\n",
              "      <td>Mars</td>\n",
              "      <td>True</td>\n",
              "      <td>F</td>\n",
              "      <td>NaN</td>\n",
              "      <td>False</td>\n",
              "      <td>D</td>\n",
              "      <td>0.0</td>\n",
              "      <td>0.0</td>\n",
              "      <td>1</td>\n",
              "      <td>S</td>\n",
              "      <td>02</td>\n",
              "    </tr>\n",
              "    <tr>\n",
              "      <th>8621</th>\n",
              "      <td>9197</td>\n",
              "      <td>Europa</td>\n",
              "      <td>False</td>\n",
              "      <td>C</td>\n",
              "      <td>NaN</td>\n",
              "      <td>True</td>\n",
              "      <td>E</td>\n",
              "      <td>9077.0</td>\n",
              "      <td>7964.0</td>\n",
              "      <td>0</td>\n",
              "      <td>P</td>\n",
              "      <td>02</td>\n",
              "    </tr>\n",
              "    <tr>\n",
              "      <th>8646</th>\n",
              "      <td>9226</td>\n",
              "      <td>Earth</td>\n",
              "      <td>False</td>\n",
              "      <td>F</td>\n",
              "      <td>NaN</td>\n",
              "      <td>False</td>\n",
              "      <td>B</td>\n",
              "      <td>688.0</td>\n",
              "      <td>13.0</td>\n",
              "      <td>0</td>\n",
              "      <td>S</td>\n",
              "      <td>01</td>\n",
              "    </tr>\n",
              "  </tbody>\n",
              "</table>\n",
              "<p>182 rows × 12 columns</p>\n",
              "</div>\n",
              "      <button class=\"colab-df-convert\" onclick=\"convertToInteractive('df-1d0764a6-7c94-4e09-be76-c96f000a738b')\"\n",
              "              title=\"Convert this dataframe to an interactive table.\"\n",
              "              style=\"display:none;\">\n",
              "        \n",
              "  <svg xmlns=\"http://www.w3.org/2000/svg\" height=\"24px\"viewBox=\"0 0 24 24\"\n",
              "       width=\"24px\">\n",
              "    <path d=\"M0 0h24v24H0V0z\" fill=\"none\"/>\n",
              "    <path d=\"M18.56 5.44l.94 2.06.94-2.06 2.06-.94-2.06-.94-.94-2.06-.94 2.06-2.06.94zm-11 1L8.5 8.5l.94-2.06 2.06-.94-2.06-.94L8.5 2.5l-.94 2.06-2.06.94zm10 10l.94 2.06.94-2.06 2.06-.94-2.06-.94-.94-2.06-.94 2.06-2.06.94z\"/><path d=\"M17.41 7.96l-1.37-1.37c-.4-.4-.92-.59-1.43-.59-.52 0-1.04.2-1.43.59L10.3 9.45l-7.72 7.72c-.78.78-.78 2.05 0 2.83L4 21.41c.39.39.9.59 1.41.59.51 0 1.02-.2 1.41-.59l7.78-7.78 2.81-2.81c.8-.78.8-2.07 0-2.86zM5.41 20L4 18.59l7.72-7.72 1.47 1.35L5.41 20z\"/>\n",
              "  </svg>\n",
              "      </button>\n",
              "      \n",
              "  <style>\n",
              "    .colab-df-container {\n",
              "      display:flex;\n",
              "      flex-wrap:wrap;\n",
              "      gap: 12px;\n",
              "    }\n",
              "\n",
              "    .colab-df-convert {\n",
              "      background-color: #E8F0FE;\n",
              "      border: none;\n",
              "      border-radius: 50%;\n",
              "      cursor: pointer;\n",
              "      display: none;\n",
              "      fill: #1967D2;\n",
              "      height: 32px;\n",
              "      padding: 0 0 0 0;\n",
              "      width: 32px;\n",
              "    }\n",
              "\n",
              "    .colab-df-convert:hover {\n",
              "      background-color: #E2EBFA;\n",
              "      box-shadow: 0px 1px 2px rgba(60, 64, 67, 0.3), 0px 1px 3px 1px rgba(60, 64, 67, 0.15);\n",
              "      fill: #174EA6;\n",
              "    }\n",
              "\n",
              "    [theme=dark] .colab-df-convert {\n",
              "      background-color: #3B4455;\n",
              "      fill: #D2E3FC;\n",
              "    }\n",
              "\n",
              "    [theme=dark] .colab-df-convert:hover {\n",
              "      background-color: #434B5C;\n",
              "      box-shadow: 0px 1px 3px 1px rgba(0, 0, 0, 0.15);\n",
              "      filter: drop-shadow(0px 1px 2px rgba(0, 0, 0, 0.3));\n",
              "      fill: #FFFFFF;\n",
              "    }\n",
              "  </style>\n",
              "\n",
              "      <script>\n",
              "        const buttonEl =\n",
              "          document.querySelector('#df-1d0764a6-7c94-4e09-be76-c96f000a738b button.colab-df-convert');\n",
              "        buttonEl.style.display =\n",
              "          google.colab.kernel.accessAllowed ? 'block' : 'none';\n",
              "\n",
              "        async function convertToInteractive(key) {\n",
              "          const element = document.querySelector('#df-1d0764a6-7c94-4e09-be76-c96f000a738b');\n",
              "          const dataTable =\n",
              "            await google.colab.kernel.invokeFunction('convertToInteractive',\n",
              "                                                     [key], {});\n",
              "          if (!dataTable) return;\n",
              "\n",
              "          const docLinkHtml = 'Like what you see? Visit the ' +\n",
              "            '<a target=\"_blank\" href=https://colab.research.google.com/notebooks/data_table.ipynb>data table notebook</a>'\n",
              "            + ' to learn more about interactive tables.';\n",
              "          element.innerHTML = '';\n",
              "          dataTable['output_type'] = 'display_data';\n",
              "          await google.colab.output.renderOutput(dataTable, element);\n",
              "          const docLink = document.createElement('div');\n",
              "          docLink.innerHTML = docLinkHtml;\n",
              "          element.appendChild(docLink);\n",
              "        }\n",
              "      </script>\n",
              "    </div>\n",
              "  </div>\n",
              "  "
            ]
          },
          "metadata": {},
          "execution_count": 162
        }
      ]
    },
    {
      "cell_type": "code",
      "source": [
        "sns.countplot(data = X, x = 'Destination', hue = 'HomePlanet')\n",
        "\n",
        "#각 출신 행성에 따라 배정한다. ?"
      ],
      "metadata": {
        "colab": {
          "base_uri": "https://localhost:8080/",
          "height": 297
        },
        "id": "8rJLPh3rnUfC",
        "outputId": "1a2f69f8-114f-41f1-a82a-34df303b627e"
      },
      "execution_count": 116,
      "outputs": [
        {
          "output_type": "execute_result",
          "data": {
            "text/plain": [
              "<matplotlib.axes._subplots.AxesSubplot at 0x7f66997e0df0>"
            ]
          },
          "metadata": {},
          "execution_count": 116
        },
        {
          "output_type": "display_data",
          "data": {
            "text/plain": [
              "<Figure size 432x288 with 1 Axes>"
            ],
            "image/png": "[encoded data removed]"
          },
          "metadata": {
            "needs_background": "light"
          }
        }
      ]
    },
    {
      "cell_type": "code",
      "source": [
        "#전체적으로 목적지가 처음에 집중되어있다는 점을 확인 \n",
        "\n",
        "temp_Dest = X[X.loc[:, 'Destination'].isnull()].index"
      ],
      "metadata": {
        "id": "ENqVgSEcnrXb"
      },
      "execution_count": 213,
      "outputs": []
    },
    {
      "cell_type": "code",
      "source": [
        "for i in temp_Dest:\n",
        "    X.loc[i,'Destination']  = 'TRAPPIST-1e'\n"
      ],
      "metadata": {
        "id": "FDIp4noqoB0z"
      },
      "execution_count": 214,
      "outputs": []
    },
    {
      "cell_type": "code",
      "source": [
        "temp_Dest = test[test.loc[:, 'Destination'].isnull()].index\n",
        "for i in temp_Dest:\n",
        "    test.loc[i,'Destination']  = 'TRAPPIST-1e'"
      ],
      "metadata": {
        "id": "nQsb5XmDpsN4"
      },
      "execution_count": 215,
      "outputs": []
    },
    {
      "cell_type": "code",
      "source": [
        "#age group 에 대한 결측치 채우기 \n",
        "#id_2 의 경우 한 그룹의 숫자이기에 숫자가 높을수록 어린 아이라고 생각을 해봤다. 봤을떄 실제로 1번에 나이가 높은 그룹이 있고, \n",
        "# 반대로 높은 그룹에는 A그룹이 많은 것을 볼수 있다. \n",
        "sns.histplot(data = X ,x ='id_2', hue = 'Age_group' )\n"
      ],
      "metadata": {
        "colab": {
          "base_uri": "https://localhost:8080/",
          "height": 298
        },
        "id": "Y5NJkxJRoncI",
        "outputId": "b7aff810-6f15-4af9-e7fe-a5d5e1636ab3"
      },
      "execution_count": null,
      "outputs": [
        {
          "output_type": "execute_result",
          "data": {
            "text/plain": [
              "<matplotlib.axes._subplots.AxesSubplot at 0x7fdfd18faca0>"
            ]
          },
          "metadata": {},
          "execution_count": 73
        },
        {
          "output_type": "display_data",
          "data": {
            "text/plain": [
              "<Figure size 432x288 with 1 Axes>"
            ],
            "image/png": "[encoded data removed]"
          },
          "metadata": {
            "needs_background": "light"
          }
        }
      ]
    },
    {
      "cell_type": "code",
      "source": [
        "X.groupby('id_2')['Age_group'].agg(pd.Series.mode)\n",
        "\n",
        "#각각의 id_2에 맞는 age_group의 최빈값 구해서 넣어준다. "
      ],
      "metadata": {
        "colab": {
          "base_uri": "https://localhost:8080/"
        },
        "id": "ulmrHV76s63I",
        "outputId": "b067ecb9-2691-441c-b1d5-62c1a65559c4"
      },
      "execution_count": null,
      "outputs": [
        {
          "output_type": "execute_result",
          "data": {
            "text/plain": [
              "id_2\n",
              "01    D\n",
              "02    D\n",
              "03    A\n",
              "04    A\n",
              "05    A\n",
              "06    A\n",
              "07    A\n",
              "08    A\n",
              "Name: Age_group, dtype: object"
            ]
          },
          "metadata": {},
          "execution_count": 37
        }
      ]
    },
    {
      "cell_type": "code",
      "source": [
        "#Age_group 과 뒤에 번호가 관련이 되어있다고 판단 \n",
        "X.loc[(X['id_2']== '01') & (X['Age_group'].isna()), 'Age_group'] = 'D'\n",
        "X.loc[(X['id_2']== '02') & (X['Age_group'].isna()), 'Age_group'] = 'D'\n",
        "X.loc[(X['id_2']== '03') & (X['Age_group'].isna()), 'Age_group'] = 'A'\n",
        "X.loc[(X['id_2']== '04') & (X['Age_group'].isna()), 'Age_group'] = 'A'\n",
        "X.loc[(X['id_2']== '05') & (X['Age_group'].isna()), 'Age_group'] = 'A'\n",
        "X.loc[(X['id_2']== '06') & (X['Age_group'].isna()), 'Age_group'] = 'A'\n",
        "X.loc[(X['id_2']== '07') & (X['Age_group'].isna()), 'Age_group'] = 'A'\n",
        "X.loc[(X['id_2']== '08') & (X['Age_group'].isna()), 'Age_group'] = 'A'"
      ],
      "metadata": {
        "id": "JU1SedvNtfIy"
      },
      "execution_count": 216,
      "outputs": []
    },
    {
      "cell_type": "code",
      "source": [
        "X.loc[:, 'Age_group'].isnull().sum()"
      ],
      "metadata": {
        "colab": {
          "base_uri": "https://localhost:8080/"
        },
        "id": "iIBzd_aduC_h",
        "outputId": "fbd4c45d-a362-4f90-96c9-0178297a0739"
      },
      "execution_count": 217,
      "outputs": [
        {
          "output_type": "execute_result",
          "data": {
            "text/plain": [
              "0"
            ]
          },
          "metadata": {},
          "execution_count": 217
        }
      ]
    },
    {
      "cell_type": "code",
      "source": [
        "test.loc[(test['id_2']== '01') & (test['Age_group'].isna()), 'Age_group'] = 'D'\n",
        "test.loc[(test['id_2']== '02') & (test['Age_group'].isna()), 'Age_group'] = 'D'\n",
        "test.loc[(test['id_2']== '03') & (test['Age_group'].isna()), 'Age_group'] = 'A'\n",
        "test.loc[(test['id_2']== '04') & (test['Age_group'].isna()), 'Age_group'] = 'A'\n",
        "test.loc[(test['id_2']== '05') & (test['Age_group'].isna()), 'Age_group'] = 'A'\n",
        "test.loc[(test['id_2']== '06') & (test['Age_group'].isna()), 'Age_group'] = 'A'\n",
        "test.loc[(test['id_2']== '07') & (test['Age_group'].isna()), 'Age_group'] = 'A'\n",
        "test.loc[(test['id_2']== '08') & (test['Age_group'].isna()), 'Age_group'] = 'A'"
      ],
      "metadata": {
        "id": "esdl_O0Wun2m"
      },
      "execution_count": 218,
      "outputs": []
    },
    {
      "cell_type": "code",
      "source": [
        "test.loc[:, 'Age_group'].isnull().sum()"
      ],
      "metadata": {
        "colab": {
          "base_uri": "https://localhost:8080/"
        },
        "id": "hWAUG8jYurFn",
        "outputId": "f1b75b79-2ddd-40f1-e737-ab13baebd51d"
      },
      "execution_count": 219,
      "outputs": [
        {
          "output_type": "execute_result",
          "data": {
            "text/plain": [
              "0"
            ]
          },
          "metadata": {},
          "execution_count": 219
        }
      ]
    },
    {
      "cell_type": "code",
      "source": [
        "X.loc[X['Cabin']== 'no']"
      ],
      "metadata": {
        "colab": {
          "base_uri": "https://localhost:8080/",
          "height": 487
        },
        "id": "a_Qkt1SvutFo",
        "outputId": "351a2725-c4bd-4b80-bfef-1eaeea14bea8"
      },
      "execution_count": 170,
      "outputs": [
        {
          "output_type": "execute_result",
          "data": {
            "text/plain": [
              "     PassengerId HomePlanet CryoSleep Cabin  Destination    VIP Age_group  \\\n",
              "15          0012      Earth     False    no  TRAPPIST-1e  False         D   \n",
              "93          0101       Mars      True    no  TRAPPIST-1e  False         D   \n",
              "103         0110     Europa     False    no  TRAPPIST-1e  False         D   \n",
              "222         0239       Mars     False    no  TRAPPIST-1e  False         D   \n",
              "227         0244       Mars      True    no  TRAPPIST-1e  False         E   \n",
              "...          ...        ...       ...   ...          ...    ...       ...   \n",
              "8209        8772     Europa     False    no  55 Cancri e  False         F   \n",
              "8475        9057     Europa     False    no  55 Cancri e   True         D   \n",
              "8485        9069     Europa      True    no  55 Cancri e  False         C   \n",
              "8509        9081      Earth      True    no  TRAPPIST-1e  False         A   \n",
              "8656        9233      Earth     False    no  TRAPPIST-1e  False         E   \n",
              "\n",
              "      Rich_spender  Normal_spender  No_spending Side id_2  \n",
              "15            32.0           876.0            0   no   01  \n",
              "93             0.0             0.0            1   no   01  \n",
              "103         4693.0           416.0            0   no   01  \n",
              "222         1048.0             0.0            0   no   01  \n",
              "227            0.0             0.0            1   no   01  \n",
              "...            ...             ...          ...  ...  ...  \n",
              "8209        3939.0          1127.0            0   no   02  \n",
              "8475        3918.0          3479.0            0   no   01  \n",
              "8485           0.0             0.0            1   no   03  \n",
              "8509           0.0             0.0            1   no   03  \n",
              "8656           3.0           668.0            0   no   01  \n",
              "\n",
              "[199 rows x 12 columns]"
            ],
            "text/html": [
              "\n",
              "  <div id=\"df-c98e3ca4-bd63-44d7-a8c8-6354f6c3bac3\">\n",
              "    <div class=\"colab-df-container\">\n",
              "      <div>\n",
              "<style scoped>\n",
              "    .dataframe tbody tr th:only-of-type {\n",
              "        vertical-align: middle;\n",
              "    }\n",
              "\n",
              "    .dataframe tbody tr th {\n",
              "        vertical-align: top;\n",
              "    }\n",
              "\n",
              "    .dataframe thead th {\n",
              "        text-align: right;\n",
              "    }\n",
              "</style>\n",
              "<table border=\"1\" class=\"dataframe\">\n",
              "  <thead>\n",
              "    <tr style=\"text-align: right;\">\n",
              "      <th></th>\n",
              "      <th>PassengerId</th>\n",
              "      <th>HomePlanet</th>\n",
              "      <th>CryoSleep</th>\n",
              "      <th>Cabin</th>\n",
              "      <th>Destination</th>\n",
              "      <th>VIP</th>\n",
              "      <th>Age_group</th>\n",
              "      <th>Rich_spender</th>\n",
              "      <th>Normal_spender</th>\n",
              "      <th>No_spending</th>\n",
              "      <th>Side</th>\n",
              "      <th>id_2</th>\n",
              "    </tr>\n",
              "  </thead>\n",
              "  <tbody>\n",
              "    <tr>\n",
              "      <th>15</th>\n",
              "      <td>0012</td>\n",
              "      <td>Earth</td>\n",
              "      <td>False</td>\n",
              "      <td>no</td>\n",
              "      <td>TRAPPIST-1e</td>\n",
              "      <td>False</td>\n",
              "      <td>D</td>\n",
              "      <td>32.0</td>\n",
              "      <td>876.0</td>\n",
              "      <td>0</td>\n",
              "      <td>no</td>\n",
              "      <td>01</td>\n",
              "    </tr>\n",
              "    <tr>\n",
              "      <th>93</th>\n",
              "      <td>0101</td>\n",
              "      <td>Mars</td>\n",
              "      <td>True</td>\n",
              "      <td>no</td>\n",
              "      <td>TRAPPIST-1e</td>\n",
              "      <td>False</td>\n",
              "      <td>D</td>\n",
              "      <td>0.0</td>\n",
              "      <td>0.0</td>\n",
              "      <td>1</td>\n",
              "      <td>no</td>\n",
              "      <td>01</td>\n",
              "    </tr>\n",
              "    <tr>\n",
              "      <th>103</th>\n",
              "      <td>0110</td>\n",
              "      <td>Europa</td>\n",
              "      <td>False</td>\n",
              "      <td>no</td>\n",
              "      <td>TRAPPIST-1e</td>\n",
              "      <td>False</td>\n",
              "      <td>D</td>\n",
              "      <td>4693.0</td>\n",
              "      <td>416.0</td>\n",
              "      <td>0</td>\n",
              "      <td>no</td>\n",
              "      <td>01</td>\n",
              "    </tr>\n",
              "    <tr>\n",
              "      <th>222</th>\n",
              "      <td>0239</td>\n",
              "      <td>Mars</td>\n",
              "      <td>False</td>\n",
              "      <td>no</td>\n",
              "      <td>TRAPPIST-1e</td>\n",
              "      <td>False</td>\n",
              "      <td>D</td>\n",
              "      <td>1048.0</td>\n",
              "      <td>0.0</td>\n",
              "      <td>0</td>\n",
              "      <td>no</td>\n",
              "      <td>01</td>\n",
              "    </tr>\n",
              "    <tr>\n",
              "      <th>227</th>\n",
              "      <td>0244</td>\n",
              "      <td>Mars</td>\n",
              "      <td>True</td>\n",
              "      <td>no</td>\n",
              "      <td>TRAPPIST-1e</td>\n",
              "      <td>False</td>\n",
              "      <td>E</td>\n",
              "      <td>0.0</td>\n",
              "      <td>0.0</td>\n",
              "      <td>1</td>\n",
              "      <td>no</td>\n",
              "      <td>01</td>\n",
              "    </tr>\n",
              "    <tr>\n",
              "      <th>...</th>\n",
              "      <td>...</td>\n",
              "      <td>...</td>\n",
              "      <td>...</td>\n",
              "      <td>...</td>\n",
              "      <td>...</td>\n",
              "      <td>...</td>\n",
              "      <td>...</td>\n",
              "      <td>...</td>\n",
              "      <td>...</td>\n",
              "      <td>...</td>\n",
              "      <td>...</td>\n",
              "      <td>...</td>\n",
              "    </tr>\n",
              "    <tr>\n",
              "      <th>8209</th>\n",
              "      <td>8772</td>\n",
              "      <td>Europa</td>\n",
              "      <td>False</td>\n",
              "      <td>no</td>\n",
              "      <td>55 Cancri e</td>\n",
              "      <td>False</td>\n",
              "      <td>F</td>\n",
              "      <td>3939.0</td>\n",
              "      <td>1127.0</td>\n",
              "      <td>0</td>\n",
              "      <td>no</td>\n",
              "      <td>02</td>\n",
              "    </tr>\n",
              "    <tr>\n",
              "      <th>8475</th>\n",
              "      <td>9057</td>\n",
              "      <td>Europa</td>\n",
              "      <td>False</td>\n",
              "      <td>no</td>\n",
              "      <td>55 Cancri e</td>\n",
              "      <td>True</td>\n",
              "      <td>D</td>\n",
              "      <td>3918.0</td>\n",
              "      <td>3479.0</td>\n",
              "      <td>0</td>\n",
              "      <td>no</td>\n",
              "      <td>01</td>\n",
              "    </tr>\n",
              "    <tr>\n",
              "      <th>8485</th>\n",
              "      <td>9069</td>\n",
              "      <td>Europa</td>\n",
              "      <td>True</td>\n",
              "      <td>no</td>\n",
              "      <td>55 Cancri e</td>\n",
              "      <td>False</td>\n",
              "      <td>C</td>\n",
              "      <td>0.0</td>\n",
              "      <td>0.0</td>\n",
              "      <td>1</td>\n",
              "      <td>no</td>\n",
              "      <td>03</td>\n",
              "    </tr>\n",
              "    <tr>\n",
              "      <th>8509</th>\n",
              "      <td>9081</td>\n",
              "      <td>Earth</td>\n",
              "      <td>True</td>\n",
              "      <td>no</td>\n",
              "      <td>TRAPPIST-1e</td>\n",
              "      <td>False</td>\n",
              "      <td>A</td>\n",
              "      <td>0.0</td>\n",
              "      <td>0.0</td>\n",
              "      <td>1</td>\n",
              "      <td>no</td>\n",
              "      <td>03</td>\n",
              "    </tr>\n",
              "    <tr>\n",
              "      <th>8656</th>\n",
              "      <td>9233</td>\n",
              "      <td>Earth</td>\n",
              "      <td>False</td>\n",
              "      <td>no</td>\n",
              "      <td>TRAPPIST-1e</td>\n",
              "      <td>False</td>\n",
              "      <td>E</td>\n",
              "      <td>3.0</td>\n",
              "      <td>668.0</td>\n",
              "      <td>0</td>\n",
              "      <td>no</td>\n",
              "      <td>01</td>\n",
              "    </tr>\n",
              "  </tbody>\n",
              "</table>\n",
              "<p>199 rows × 12 columns</p>\n",
              "</div>\n",
              "      <button class=\"colab-df-convert\" onclick=\"convertToInteractive('df-c98e3ca4-bd63-44d7-a8c8-6354f6c3bac3')\"\n",
              "              title=\"Convert this dataframe to an interactive table.\"\n",
              "              style=\"display:none;\">\n",
              "        \n",
              "  <svg xmlns=\"http://www.w3.org/2000/svg\" height=\"24px\"viewBox=\"0 0 24 24\"\n",
              "       width=\"24px\">\n",
              "    <path d=\"M0 0h24v24H0V0z\" fill=\"none\"/>\n",
              "    <path d=\"M18.56 5.44l.94 2.06.94-2.06 2.06-.94-2.06-.94-.94-2.06-.94 2.06-2.06.94zm-11 1L8.5 8.5l.94-2.06 2.06-.94-2.06-.94L8.5 2.5l-.94 2.06-2.06.94zm10 10l.94 2.06.94-2.06 2.06-.94-2.06-.94-.94-2.06-.94 2.06-2.06.94z\"/><path d=\"M17.41 7.96l-1.37-1.37c-.4-.4-.92-.59-1.43-.59-.52 0-1.04.2-1.43.59L10.3 9.45l-7.72 7.72c-.78.78-.78 2.05 0 2.83L4 21.41c.39.39.9.59 1.41.59.51 0 1.02-.2 1.41-.59l7.78-7.78 2.81-2.81c.8-.78.8-2.07 0-2.86zM5.41 20L4 18.59l7.72-7.72 1.47 1.35L5.41 20z\"/>\n",
              "  </svg>\n",
              "      </button>\n",
              "      \n",
              "  <style>\n",
              "    .colab-df-container {\n",
              "      display:flex;\n",
              "      flex-wrap:wrap;\n",
              "      gap: 12px;\n",
              "    }\n",
              "\n",
              "    .colab-df-convert {\n",
              "      background-color: #E8F0FE;\n",
              "      border: none;\n",
              "      border-radius: 50%;\n",
              "      cursor: pointer;\n",
              "      display: none;\n",
              "      fill: #1967D2;\n",
              "      height: 32px;\n",
              "      padding: 0 0 0 0;\n",
              "      width: 32px;\n",
              "    }\n",
              "\n",
              "    .colab-df-convert:hover {\n",
              "      background-color: #E2EBFA;\n",
              "      box-shadow: 0px 1px 2px rgba(60, 64, 67, 0.3), 0px 1px 3px 1px rgba(60, 64, 67, 0.15);\n",
              "      fill: #174EA6;\n",
              "    }\n",
              "\n",
              "    [theme=dark] .colab-df-convert {\n",
              "      background-color: #3B4455;\n",
              "      fill: #D2E3FC;\n",
              "    }\n",
              "\n",
              "    [theme=dark] .colab-df-convert:hover {\n",
              "      background-color: #434B5C;\n",
              "      box-shadow: 0px 1px 3px 1px rgba(0, 0, 0, 0.15);\n",
              "      filter: drop-shadow(0px 1px 2px rgba(0, 0, 0, 0.3));\n",
              "      fill: #FFFFFF;\n",
              "    }\n",
              "  </style>\n",
              "\n",
              "      <script>\n",
              "        const buttonEl =\n",
              "          document.querySelector('#df-c98e3ca4-bd63-44d7-a8c8-6354f6c3bac3 button.colab-df-convert');\n",
              "        buttonEl.style.display =\n",
              "          google.colab.kernel.accessAllowed ? 'block' : 'none';\n",
              "\n",
              "        async function convertToInteractive(key) {\n",
              "          const element = document.querySelector('#df-c98e3ca4-bd63-44d7-a8c8-6354f6c3bac3');\n",
              "          const dataTable =\n",
              "            await google.colab.kernel.invokeFunction('convertToInteractive',\n",
              "                                                     [key], {});\n",
              "          if (!dataTable) return;\n",
              "\n",
              "          const docLinkHtml = 'Like what you see? Visit the ' +\n",
              "            '<a target=\"_blank\" href=https://colab.research.google.com/notebooks/data_table.ipynb>data table notebook</a>'\n",
              "            + ' to learn more about interactive tables.';\n",
              "          element.innerHTML = '';\n",
              "          dataTable['output_type'] = 'display_data';\n",
              "          await google.colab.output.renderOutput(dataTable, element);\n",
              "          const docLink = document.createElement('div');\n",
              "          docLink.innerHTML = docLinkHtml;\n",
              "          element.appendChild(docLink);\n",
              "        }\n",
              "      </script>\n",
              "    </div>\n",
              "  </div>\n",
              "  "
            ]
          },
          "metadata": {},
          "execution_count": 170
        }
      ]
    },
    {
      "cell_type": "code",
      "source": [
        "sns.countplot(data =X, x = 'Cabin', hue = 'HomePlanet')\n",
        "# 고향을 기준으로 동을 봤을때 특정 동에 특정 고향인들이 몰려있는 것을 확인 할수 있다. \n",
        "# 결측치에 고향별 최빈값으로 넣는다. \n",
        "# Europa 는 B, Earth 는 G Mars 는 F"
      ],
      "metadata": {
        "colab": {
          "base_uri": "https://localhost:8080/",
          "height": 297
        },
        "id": "WJpNTyPJvPuY",
        "outputId": "7f747943-ae8e-4f5d-874b-9834b6dbea4b"
      },
      "execution_count": null,
      "outputs": [
        {
          "output_type": "execute_result",
          "data": {
            "text/plain": [
              "<matplotlib.axes._subplots.AxesSubplot at 0x7fdfd0ea2910>"
            ]
          },
          "metadata": {},
          "execution_count": 80
        },
        {
          "output_type": "display_data",
          "data": {
            "text/plain": [
              "<Figure size 432x288 with 1 Axes>"
            ],
            "image/png": "[encoded data removed]"
          },
          "metadata": {
            "needs_background": "light"
          }
        }
      ]
    },
    {
      "cell_type": "code",
      "source": [
        "sns.countplot(data =X, x = 'Cabin', hue = 'Age_group')\n",
        "#나이는 별로 상관이 없다고 판단. "
      ],
      "metadata": {
        "colab": {
          "base_uri": "https://localhost:8080/",
          "height": 297
        },
        "id": "ZH-L_i7fvRMT",
        "outputId": "bf155006-0dbd-4989-dfb6-0f3fd228d115"
      },
      "execution_count": null,
      "outputs": [
        {
          "output_type": "execute_result",
          "data": {
            "text/plain": [
              "<matplotlib.axes._subplots.AxesSubplot at 0x7fdfd0e39160>"
            ]
          },
          "metadata": {},
          "execution_count": 81
        },
        {
          "output_type": "display_data",
          "data": {
            "text/plain": [
              "<Figure size 432x288 with 1 Axes>"
            ],
            "image/png": "[encoded data removed]"
          },
          "metadata": {
            "needs_background": "light"
          }
        }
      ]
    },
    {
      "cell_type": "code",
      "source": [
        "X.loc[(X['HomePlanet']== 'Europa') & (X['Cabin']== 'no'), 'Cabin'] = 'B'\n",
        "X.loc[(X['HomePlanet']== 'Mars') & (X['Cabin']== 'no'), 'Cabin'] = 'F'\n",
        "X.loc[(X['HomePlanet']== 'Earth') & (X['Cabin']== 'no'), 'Cabin'] = 'G'"
      ],
      "metadata": {
        "id": "TkGiVmTmwHnd"
      },
      "execution_count": 220,
      "outputs": []
    },
    {
      "cell_type": "code",
      "source": [
        "test.loc[(test['HomePlanet']== 'Europa') & (test['Cabin']== 'no'), 'Cabin'] = 'B'\n",
        "test.loc[(test['HomePlanet']== 'Mars') & (test['Cabin']== 'no'), 'Cabin'] = 'F'\n",
        "test.loc[(test['HomePlanet']== 'Earth') & (test['Cabin']== 'no'), 'Cabin'] = 'G'"
      ],
      "metadata": {
        "id": "Zdi8vc70wiON"
      },
      "execution_count": 221,
      "outputs": []
    },
    {
      "cell_type": "code",
      "source": [
        "sns.countplot(data = train, x= 'Cabin', hue = 'Side')"
      ],
      "metadata": {
        "id": "ATcvu7lS2Yae",
        "colab": {
          "base_uri": "https://localhost:8080/",
          "height": 297
        },
        "outputId": "0a9068fb-ae9f-42ee-be69-c442e8ff3d02"
      },
      "execution_count": null,
      "outputs": [
        {
          "output_type": "execute_result",
          "data": {
            "text/plain": [
              "<matplotlib.axes._subplots.AxesSubplot at 0x7fdfb625ae80>"
            ]
          },
          "metadata": {},
          "execution_count": 194
        },
        {
          "output_type": "display_data",
          "data": {
            "text/plain": [
              "<Figure size 432x288 with 1 Axes>"
            ],
            "image/png": "[encoded data removed]"
          },
          "metadata": {
            "needs_background": "light"
          }
        }
      ]
    },
    {
      "cell_type": "code",
      "source": [
        "#사이드는 반반이니까 랜덤으로 넣는다 \n",
        "import random\n",
        "\n",
        "pocket = ['S', 'P']\n"
      ],
      "metadata": {
        "id": "JtdKOpsYw22f"
      },
      "execution_count": 222,
      "outputs": []
    },
    {
      "cell_type": "code",
      "source": [
        "X.loc[X['Side']=='no', 'Side'] = random.choice(pocket)\n",
        "\n",
        "test.loc[test['Side']=='no', 'Side'] = random.choice(pocket)"
      ],
      "metadata": {
        "id": "RgpfEMUFw8S4"
      },
      "execution_count": 223,
      "outputs": []
    },
    {
      "cell_type": "code",
      "source": [
        "#결측치 제거 완료\n",
        "X.info(),  test.info()"
      ],
      "metadata": {
        "colab": {
          "base_uri": "https://localhost:8080/"
        },
        "id": "7JemXQ6TxEIN",
        "outputId": "91285983-1248-40ce-8566-93933759d3d9"
      },
      "execution_count": 79,
      "outputs": [
        {
          "output_type": "stream",
          "name": "stdout",
          "text": [
            "<class 'pandas.core.frame.DataFrame'>\n",
            "RangeIndex: 8693 entries, 0 to 8692\n",
            "Data columns (total 12 columns):\n",
            " #   Column          Non-Null Count  Dtype  \n",
            "---  ------          --------------  -----  \n",
            " 0   PassengerId     8693 non-null   object \n",
            " 1   HomePlanet      8693 non-null   object \n",
            " 2   CryoSleep       8693 non-null   object \n",
            " 3   Cabin           8693 non-null   object \n",
            " 4   Destination     8693 non-null   object \n",
            " 5   VIP             8693 non-null   object \n",
            " 6   Age_group       8693 non-null   object \n",
            " 7   Rich_spender    8693 non-null   float64\n",
            " 8   Normal_spender  8693 non-null   float64\n",
            " 9   No_spending     8693 non-null   int64  \n",
            " 10  Side            8693 non-null   object \n",
            " 11  id_2            8693 non-null   object \n",
            "dtypes: float64(2), int64(1), object(9)\n",
            "memory usage: 815.1+ KB\n",
            "<class 'pandas.core.frame.DataFrame'>\n",
            "RangeIndex: 4277 entries, 0 to 4276\n",
            "Data columns (total 12 columns):\n",
            " #   Column          Non-Null Count  Dtype  \n",
            "---  ------          --------------  -----  \n",
            " 0   PassengerId     4277 non-null   object \n",
            " 1   HomePlanet      4277 non-null   object \n",
            " 2   CryoSleep       4277 non-null   object \n",
            " 3   Cabin           4277 non-null   object \n",
            " 4   Destination     4277 non-null   object \n",
            " 5   VIP             4184 non-null   object \n",
            " 6   Age_group       4277 non-null   object \n",
            " 7   Rich_spender    4277 non-null   float64\n",
            " 8   Normal_spender  4277 non-null   float64\n",
            " 9   No_spending     4277 non-null   int64  \n",
            " 10  Side            4277 non-null   object \n",
            " 11  id_2            4277 non-null   object \n",
            "dtypes: float64(2), int64(1), object(9)\n",
            "memory usage: 401.1+ KB\n"
          ]
        },
        {
          "output_type": "execute_result",
          "data": {
            "text/plain": [
              "(None, None)"
            ]
          },
          "metadata": {},
          "execution_count": 79
        }
      ]
    },
    {
      "cell_type": "code",
      "source": [
        "del test['PassengerId']\n",
        "del X['PassengerId']"
      ],
      "metadata": {
        "id": "UmYWBncqzWee"
      },
      "execution_count": 224,
      "outputs": []
    },
    {
      "cell_type": "code",
      "source": [
        "X"
      ],
      "metadata": {
        "colab": {
          "base_uri": "https://localhost:8080/",
          "height": 423
        },
        "id": "zQ-JvwNhzhrd",
        "outputId": "42cc737f-2345-4b31-d846-33141bbbf562"
      },
      "execution_count": null,
      "outputs": [
        {
          "output_type": "execute_result",
          "data": {
            "text/plain": [
              "     HomePlanet CryoSleep Cabin    Destination Age_group  Rich_spender  \\\n",
              "0        Europa     False     B    TRAPPIST-1e         D           0.0   \n",
              "1         Earth     False     F    TRAPPIST-1e         C         702.0   \n",
              "2        Europa     False     A    TRAPPIST-1e         F        6807.0   \n",
              "3        Europa     False     A    TRAPPIST-1e         D        3522.0   \n",
              "4         Earth     False     F    TRAPPIST-1e         A         870.0   \n",
              "...         ...       ...   ...            ...       ...           ...   \n",
              "8688     Europa     False     A    55 Cancri e         E        1717.0   \n",
              "8689      Earth      True     G  PSO J318.5-22         B           0.0   \n",
              "8690      Earth     False     G    TRAPPIST-1e         C           1.0   \n",
              "8691     Europa     False     E    55 Cancri e         D        3588.0   \n",
              "8692     Europa     False     E    TRAPPIST-1e         E         138.0   \n",
              "\n",
              "      Normal_spender  No_spending Side id_2  \n",
              "0                0.0            1    P   01  \n",
              "1               34.0            0    S   01  \n",
              "2             3576.0            0    S   01  \n",
              "3             1654.0            0    S   02  \n",
              "4              221.0            0    S   01  \n",
              "...              ...          ...  ...  ...  \n",
              "8688          6819.0            0    P   01  \n",
              "8689             0.0            1    S   01  \n",
              "8690          1872.0            0    S   01  \n",
              "8691          1049.0            0    S   01  \n",
              "8692          4688.0            0    S   02  \n",
              "\n",
              "[8693 rows x 10 columns]"
            ],
            "text/html": [
              "\n",
              "  <div id=\"df-163ca52e-2fb6-4475-9143-9b7251a5c1ce\">\n",
              "    <div class=\"colab-df-container\">\n",
              "      <div>\n",
              "<style scoped>\n",
              "    .dataframe tbody tr th:only-of-type {\n",
              "        vertical-align: middle;\n",
              "    }\n",
              "\n",
              "    .dataframe tbody tr th {\n",
              "        vertical-align: top;\n",
              "    }\n",
              "\n",
              "    .dataframe thead th {\n",
              "        text-align: right;\n",
              "    }\n",
              "</style>\n",
              "<table border=\"1\" class=\"dataframe\">\n",
              "  <thead>\n",
              "    <tr style=\"text-align: right;\">\n",
              "      <th></th>\n",
              "      <th>HomePlanet</th>\n",
              "      <th>CryoSleep</th>\n",
              "      <th>Cabin</th>\n",
              "      <th>Destination</th>\n",
              "      <th>Age_group</th>\n",
              "      <th>Rich_spender</th>\n",
              "      <th>Normal_spender</th>\n",
              "      <th>No_spending</th>\n",
              "      <th>Side</th>\n",
              "      <th>id_2</th>\n",
              "    </tr>\n",
              "  </thead>\n",
              "  <tbody>\n",
              "    <tr>\n",
              "      <th>0</th>\n",
              "      <td>Europa</td>\n",
              "      <td>False</td>\n",
              "      <td>B</td>\n",
              "      <td>TRAPPIST-1e</td>\n",
              "      <td>D</td>\n",
              "      <td>0.0</td>\n",
              "      <td>0.0</td>\n",
              "      <td>1</td>\n",
              "      <td>P</td>\n",
              "      <td>01</td>\n",
              "    </tr>\n",
              "    <tr>\n",
              "      <th>1</th>\n",
              "      <td>Earth</td>\n",
              "      <td>False</td>\n",
              "      <td>F</td>\n",
              "      <td>TRAPPIST-1e</td>\n",
              "      <td>C</td>\n",
              "      <td>702.0</td>\n",
              "      <td>34.0</td>\n",
              "      <td>0</td>\n",
              "      <td>S</td>\n",
              "      <td>01</td>\n",
              "    </tr>\n",
              "    <tr>\n",
              "      <th>2</th>\n",
              "      <td>Europa</td>\n",
              "      <td>False</td>\n",
              "      <td>A</td>\n",
              "      <td>TRAPPIST-1e</td>\n",
              "      <td>F</td>\n",
              "      <td>6807.0</td>\n",
              "      <td>3576.0</td>\n",
              "      <td>0</td>\n",
              "      <td>S</td>\n",
              "      <td>01</td>\n",
              "    </tr>\n",
              "    <tr>\n",
              "      <th>3</th>\n",
              "      <td>Europa</td>\n",
              "      <td>False</td>\n",
              "      <td>A</td>\n",
              "      <td>TRAPPIST-1e</td>\n",
              "      <td>D</td>\n",
              "      <td>3522.0</td>\n",
              "      <td>1654.0</td>\n",
              "      <td>0</td>\n",
              "      <td>S</td>\n",
              "      <td>02</td>\n",
              "    </tr>\n",
              "    <tr>\n",
              "      <th>4</th>\n",
              "      <td>Earth</td>\n",
              "      <td>False</td>\n",
              "      <td>F</td>\n",
              "      <td>TRAPPIST-1e</td>\n",
              "      <td>A</td>\n",
              "      <td>870.0</td>\n",
              "      <td>221.0</td>\n",
              "      <td>0</td>\n",
              "      <td>S</td>\n",
              "      <td>01</td>\n",
              "    </tr>\n",
              "    <tr>\n",
              "      <th>...</th>\n",
              "      <td>...</td>\n",
              "      <td>...</td>\n",
              "      <td>...</td>\n",
              "      <td>...</td>\n",
              "      <td>...</td>\n",
              "      <td>...</td>\n",
              "      <td>...</td>\n",
              "      <td>...</td>\n",
              "      <td>...</td>\n",
              "      <td>...</td>\n",
              "    </tr>\n",
              "    <tr>\n",
              "      <th>8688</th>\n",
              "      <td>Europa</td>\n",
              "      <td>False</td>\n",
              "      <td>A</td>\n",
              "      <td>55 Cancri e</td>\n",
              "      <td>E</td>\n",
              "      <td>1717.0</td>\n",
              "      <td>6819.0</td>\n",
              "      <td>0</td>\n",
              "      <td>P</td>\n",
              "      <td>01</td>\n",
              "    </tr>\n",
              "    <tr>\n",
              "      <th>8689</th>\n",
              "      <td>Earth</td>\n",
              "      <td>True</td>\n",
              "      <td>G</td>\n",
              "      <td>PSO J318.5-22</td>\n",
              "      <td>B</td>\n",
              "      <td>0.0</td>\n",
              "      <td>0.0</td>\n",
              "      <td>1</td>\n",
              "      <td>S</td>\n",
              "      <td>01</td>\n",
              "    </tr>\n",
              "    <tr>\n",
              "      <th>8690</th>\n",
              "      <td>Earth</td>\n",
              "      <td>False</td>\n",
              "      <td>G</td>\n",
              "      <td>TRAPPIST-1e</td>\n",
              "      <td>C</td>\n",
              "      <td>1.0</td>\n",
              "      <td>1872.0</td>\n",
              "      <td>0</td>\n",
              "      <td>S</td>\n",
              "      <td>01</td>\n",
              "    </tr>\n",
              "    <tr>\n",
              "      <th>8691</th>\n",
              "      <td>Europa</td>\n",
              "      <td>False</td>\n",
              "      <td>E</td>\n",
              "      <td>55 Cancri e</td>\n",
              "      <td>D</td>\n",
              "      <td>3588.0</td>\n",
              "      <td>1049.0</td>\n",
              "      <td>0</td>\n",
              "      <td>S</td>\n",
              "      <td>01</td>\n",
              "    </tr>\n",
              "    <tr>\n",
              "      <th>8692</th>\n",
              "      <td>Europa</td>\n",
              "      <td>False</td>\n",
              "      <td>E</td>\n",
              "      <td>TRAPPIST-1e</td>\n",
              "      <td>E</td>\n",
              "      <td>138.0</td>\n",
              "      <td>4688.0</td>\n",
              "      <td>0</td>\n",
              "      <td>S</td>\n",
              "      <td>02</td>\n",
              "    </tr>\n",
              "  </tbody>\n",
              "</table>\n",
              "<p>8693 rows × 10 columns</p>\n",
              "</div>\n",
              "      <button class=\"colab-df-convert\" onclick=\"convertToInteractive('df-163ca52e-2fb6-4475-9143-9b7251a5c1ce')\"\n",
              "              title=\"Convert this dataframe to an interactive table.\"\n",
              "              style=\"display:none;\">\n",
              "        \n",
              "  <svg xmlns=\"http://www.w3.org/2000/svg\" height=\"24px\"viewBox=\"0 0 24 24\"\n",
              "       width=\"24px\">\n",
              "    <path d=\"M0 0h24v24H0V0z\" fill=\"none\"/>\n",
              "    <path d=\"M18.56 5.44l.94 2.06.94-2.06 2.06-.94-2.06-.94-.94-2.06-.94 2.06-2.06.94zm-11 1L8.5 8.5l.94-2.06 2.06-.94-2.06-.94L8.5 2.5l-.94 2.06-2.06.94zm10 10l.94 2.06.94-2.06 2.06-.94-2.06-.94-.94-2.06-.94 2.06-2.06.94z\"/><path d=\"M17.41 7.96l-1.37-1.37c-.4-.4-.92-.59-1.43-.59-.52 0-1.04.2-1.43.59L10.3 9.45l-7.72 7.72c-.78.78-.78 2.05 0 2.83L4 21.41c.39.39.9.59 1.41.59.51 0 1.02-.2 1.41-.59l7.78-7.78 2.81-2.81c.8-.78.8-2.07 0-2.86zM5.41 20L4 18.59l7.72-7.72 1.47 1.35L5.41 20z\"/>\n",
              "  </svg>\n",
              "      </button>\n",
              "      \n",
              "  <style>\n",
              "    .colab-df-container {\n",
              "      display:flex;\n",
              "      flex-wrap:wrap;\n",
              "      gap: 12px;\n",
              "    }\n",
              "\n",
              "    .colab-df-convert {\n",
              "      background-color: #E8F0FE;\n",
              "      border: none;\n",
              "      border-radius: 50%;\n",
              "      cursor: pointer;\n",
              "      display: none;\n",
              "      fill: #1967D2;\n",
              "      height: 32px;\n",
              "      padding: 0 0 0 0;\n",
              "      width: 32px;\n",
              "    }\n",
              "\n",
              "    .colab-df-convert:hover {\n",
              "      background-color: #E2EBFA;\n",
              "      box-shadow: 0px 1px 2px rgba(60, 64, 67, 0.3), 0px 1px 3px 1px rgba(60, 64, 67, 0.15);\n",
              "      fill: #174EA6;\n",
              "    }\n",
              "\n",
              "    [theme=dark] .colab-df-convert {\n",
              "      background-color: #3B4455;\n",
              "      fill: #D2E3FC;\n",
              "    }\n",
              "\n",
              "    [theme=dark] .colab-df-convert:hover {\n",
              "      background-color: #434B5C;\n",
              "      box-shadow: 0px 1px 3px 1px rgba(0, 0, 0, 0.15);\n",
              "      filter: drop-shadow(0px 1px 2px rgba(0, 0, 0, 0.3));\n",
              "      fill: #FFFFFF;\n",
              "    }\n",
              "  </style>\n",
              "\n",
              "      <script>\n",
              "        const buttonEl =\n",
              "          document.querySelector('#df-163ca52e-2fb6-4475-9143-9b7251a5c1ce button.colab-df-convert');\n",
              "        buttonEl.style.display =\n",
              "          google.colab.kernel.accessAllowed ? 'block' : 'none';\n",
              "\n",
              "        async function convertToInteractive(key) {\n",
              "          const element = document.querySelector('#df-163ca52e-2fb6-4475-9143-9b7251a5c1ce');\n",
              "          const dataTable =\n",
              "            await google.colab.kernel.invokeFunction('convertToInteractive',\n",
              "                                                     [key], {});\n",
              "          if (!dataTable) return;\n",
              "\n",
              "          const docLinkHtml = 'Like what you see? Visit the ' +\n",
              "            '<a target=\"_blank\" href=https://colab.research.google.com/notebooks/data_table.ipynb>data table notebook</a>'\n",
              "            + ' to learn more about interactive tables.';\n",
              "          element.innerHTML = '';\n",
              "          dataTable['output_type'] = 'display_data';\n",
              "          await google.colab.output.renderOutput(dataTable, element);\n",
              "          const docLink = document.createElement('div');\n",
              "          docLink.innerHTML = docLinkHtml;\n",
              "          element.appendChild(docLink);\n",
              "        }\n",
              "      </script>\n",
              "    </div>\n",
              "  </div>\n",
              "  "
            ]
          },
          "metadata": {},
          "execution_count": 88
        }
      ]
    },
    {
      "cell_type": "code",
      "source": [
        "X['CryoSleep'].astype('str')\n",
        "X['HomePlanet'].astype('str')"
      ],
      "metadata": {
        "colab": {
          "base_uri": "https://localhost:8080/"
        },
        "id": "jnirjCsxz2b9",
        "outputId": "1a812716-b85c-435b-f0b9-c5c970783e78"
      },
      "execution_count": 225,
      "outputs": [
        {
          "output_type": "execute_result",
          "data": {
            "text/plain": [
              "0       Europa\n",
              "1        Earth\n",
              "2       Europa\n",
              "3       Europa\n",
              "4        Earth\n",
              "         ...  \n",
              "8688    Europa\n",
              "8689     Earth\n",
              "8690     Earth\n",
              "8691    Europa\n",
              "8692    Europa\n",
              "Name: HomePlanet, Length: 8693, dtype: object"
            ]
          },
          "metadata": {},
          "execution_count": 225
        }
      ]
    },
    {
      "cell_type": "code",
      "source": [
        "test = test.astype({\"CryoSleep\" : 'str'})\n",
        "X = X.astype({\"CryoSleep\" : 'str'})\n"
      ],
      "metadata": {
        "id": "BQvoVXSL4uUu"
      },
      "execution_count": 226,
      "outputs": []
    },
    {
      "cell_type": "markdown",
      "source": [
        "> ## 데이터 인코딩 "
      ],
      "metadata": {
        "id": "TpyP9aVdU38n"
      }
    },
    {
      "cell_type": "code",
      "source": [
        "\n",
        "from sklearn.preprocessing import LabelEncoder\n",
        "lb_enc1 = LabelEncoder()\n",
        "\n",
        "X['HomePlanet'] = lb_enc1.fit_transform(X['HomePlanet'])\n",
        "test['HomePlanet'] = lb_enc1.transform(test['HomePlanet'])\n",
        "\n",
        "X['CryoSleep'] = lb_enc1.fit_transform(X['CryoSleep'])\n",
        "test['CryoSleep'] = lb_enc1.transform(test['CryoSleep'])\n",
        "\n",
        "X['Cabin'] = lb_enc1.fit_transform(X['Cabin'])\n",
        "test['Cabin'] = lb_enc1.transform(test['Cabin'])\n",
        "\n",
        "X['Destination'] = lb_enc1.fit_transform(X['Destination'])\n",
        "test['Destination'] = lb_enc1.transform(test['Destination'])\n",
        "\n",
        "X['Age_group'] = lb_enc1.fit_transform(X['Age_group'])\n",
        "test['Age_group'] = lb_enc1.transform(test['Age_group'])\n",
        "\n",
        "X['Side'] = lb_enc1.fit_transform(X['Side'])\n",
        "test['Side'] = lb_enc1.transform(test['Side'])\n",
        "\n",
        "X['id_2'] = lb_enc1.fit_transform(X['id_2'])\n",
        "test['id_2'] = lb_enc1.transform(test['id_2'])\n",
        "\n",
        "\n"
      ],
      "metadata": {
        "id": "1s2OiDk1x4h8"
      },
      "execution_count": 227,
      "outputs": []
    },
    {
      "cell_type": "code",
      "source": [
        "X.info()"
      ],
      "metadata": {
        "colab": {
          "base_uri": "https://localhost:8080/"
        },
        "id": "61Hqk1WL5rKt",
        "outputId": "1d3b891f-2974-4bea-f552-5f1212f4ee97"
      },
      "execution_count": null,
      "outputs": [
        {
          "output_type": "stream",
          "name": "stdout",
          "text": [
            "<class 'pandas.core.frame.DataFrame'>\n",
            "RangeIndex: 8693 entries, 0 to 8692\n",
            "Data columns (total 10 columns):\n",
            " #   Column          Non-Null Count  Dtype  \n",
            "---  ------          --------------  -----  \n",
            " 0   HomePlanet      8693 non-null   int64  \n",
            " 1   CryoSleep       8693 non-null   int64  \n",
            " 2   Cabin           8693 non-null   int64  \n",
            " 3   Destination     8693 non-null   int64  \n",
            " 4   Age_group       8693 non-null   int64  \n",
            " 5   Rich_spender    8693 non-null   float64\n",
            " 6   Normal_spender  8693 non-null   float64\n",
            " 7   No_spending     8693 non-null   int64  \n",
            " 8   Side            8693 non-null   int64  \n",
            " 9   id_2            8693 non-null   int64  \n",
            "dtypes: float64(2), int64(8)\n",
            "memory usage: 679.3 KB\n"
          ]
        }
      ]
    },
    {
      "cell_type": "markdown",
      "source": [
        "> ## 모델확인 "
      ],
      "metadata": {
        "id": "9kSe7qqVU_h0"
      }
    },
    {
      "cell_type": "code",
      "source": [
        "# 모델 선정  + 각각의 그리 서치 진행하기 .\n",
        "\n",
        "from sklearn.model_selection import GridSearchCV\n",
        "from sklearn.linear_model import LogisticRegression\n",
        "from sklearn.svm import SVC\n",
        "from sklearn.tree import DecisionTreeClassifier\n",
        "from sklearn.ensemble import RandomForestClassifier"
      ],
      "metadata": {
        "id": "-n6UGjLD5t3h"
      },
      "execution_count": 228,
      "outputs": []
    },
    {
      "cell_type": "code",
      "source": [
        "lg_model = LogisticRegression(random_state =0)\n",
        "svc_model = SVC(random_state = 0, probability= True)\n",
        "dt_model = DecisionTreeClassifier(random_state =0)\n",
        "rf_model = RandomForestClassifier(random_state =0)\n",
        "\n",
        "\n",
        "lg_param ={\n",
        "           'penalty': ['l1','l2'],\n",
        "           'C': [0.1, 1, 5],\n",
        "\n",
        "}\n",
        "\n",
        "svc_param = {\n",
        "            'C': [0.5, 1, 1.5],\n",
        "            'kernel': ['linear', 'rbf'],\n",
        "            'gamma': ['scale', 'auto']\n",
        "}\n",
        "\n",
        "dt_param = {\n",
        "            \"criterion\" : [\"gini\", \"entropy\"],\n",
        "            \"max_depth\" :   [2, 5, 8],\n",
        "            \"min_samples_leaf\" : [1, 3, 5, 7]\n",
        "}\n",
        "\n",
        "rf_param = {\n",
        "        'n_estimators': [100, 200,  300],  \n",
        "        'max_depth': [4, 6, 8]\n",
        "}"
      ],
      "metadata": {
        "id": "lFRMus796Rd2"
      },
      "execution_count": null,
      "outputs": []
    },
    {
      "cell_type": "code",
      "source": [
        "clf_lg = GridSearchCV(lg_model, param_grid = lg_param, cv = 3)\n"
      ],
      "metadata": {
        "id": "jeLV0VZABJRy"
      },
      "execution_count": null,
      "outputs": []
    },
    {
      "cell_type": "code",
      "source": [
        "clf_lg.fit(X, y)\n"
      ],
      "metadata": {
        "id": "DgK22ve0BJT_",
        "colab": {
          "base_uri": "https://localhost:8080/"
        },
        "outputId": "2f37f0bb-3886-453e-b48d-022e453fc3c6"
      },
      "execution_count": null,
      "outputs": [
        {
          "output_type": "stream",
          "name": "stderr",
          "text": [
            "/usr/local/lib/python3.8/dist-packages/sklearn/linear_model/_logistic.py:814: ConvergenceWarning: lbfgs failed to converge (status=1):\n",
            "STOP: TOTAL NO. of ITERATIONS REACHED LIMIT.\n",
            "\n",
            "Increase the number of iterations (max_iter) or scale the data as shown in:\n",
            "    https://scikit-learn.org/stable/modules/preprocessing.html\n",
            "Please also refer to the documentation for alternative solver options:\n",
            "    https://scikit-learn.org/stable/modules/linear_model.html#logistic-regression\n",
            "  n_iter_i = _check_optimize_result(\n",
            "/usr/local/lib/python3.8/dist-packages/sklearn/linear_model/_logistic.py:814: ConvergenceWarning: lbfgs failed to converge (status=1):\n",
            "STOP: TOTAL NO. of ITERATIONS REACHED LIMIT.\n",
            "\n",
            "Increase the number of iterations (max_iter) or scale the data as shown in:\n",
            "    https://scikit-learn.org/stable/modules/preprocessing.html\n",
            "Please also refer to the documentation for alternative solver options:\n",
            "    https://scikit-learn.org/stable/modules/linear_model.html#logistic-regression\n",
            "  n_iter_i = _check_optimize_result(\n",
            "/usr/local/lib/python3.8/dist-packages/sklearn/linear_model/_logistic.py:814: ConvergenceWarning: lbfgs failed to converge (status=1):\n",
            "STOP: TOTAL NO. of ITERATIONS REACHED LIMIT.\n",
            "\n",
            "Increase the number of iterations (max_iter) or scale the data as shown in:\n",
            "    https://scikit-learn.org/stable/modules/preprocessing.html\n",
            "Please also refer to the documentation for alternative solver options:\n",
            "    https://scikit-learn.org/stable/modules/linear_model.html#logistic-regression\n",
            "  n_iter_i = _check_optimize_result(\n",
            "/usr/local/lib/python3.8/dist-packages/sklearn/linear_model/_logistic.py:814: ConvergenceWarning: lbfgs failed to converge (status=1):\n",
            "STOP: TOTAL NO. of ITERATIONS REACHED LIMIT.\n",
            "\n",
            "Increase the number of iterations (max_iter) or scale the data as shown in:\n",
            "    https://scikit-learn.org/stable/modules/preprocessing.html\n",
            "Please also refer to the documentation for alternative solver options:\n",
            "    https://scikit-learn.org/stable/modules/linear_model.html#logistic-regression\n",
            "  n_iter_i = _check_optimize_result(\n",
            "/usr/local/lib/python3.8/dist-packages/sklearn/linear_model/_logistic.py:814: ConvergenceWarning: lbfgs failed to converge (status=1):\n",
            "STOP: TOTAL NO. of ITERATIONS REACHED LIMIT.\n",
            "\n",
            "Increase the number of iterations (max_iter) or scale the data as shown in:\n",
            "    https://scikit-learn.org/stable/modules/preprocessing.html\n",
            "Please also refer to the documentation for alternative solver options:\n",
            "    https://scikit-learn.org/stable/modules/linear_model.html#logistic-regression\n",
            "  n_iter_i = _check_optimize_result(\n",
            "/usr/local/lib/python3.8/dist-packages/sklearn/linear_model/_logistic.py:814: ConvergenceWarning: lbfgs failed to converge (status=1):\n",
            "STOP: TOTAL NO. of ITERATIONS REACHED LIMIT.\n",
            "\n",
            "Increase the number of iterations (max_iter) or scale the data as shown in:\n",
            "    https://scikit-learn.org/stable/modules/preprocessing.html\n",
            "Please also refer to the documentation for alternative solver options:\n",
            "    https://scikit-learn.org/stable/modules/linear_model.html#logistic-regression\n",
            "  n_iter_i = _check_optimize_result(\n",
            "/usr/local/lib/python3.8/dist-packages/sklearn/linear_model/_logistic.py:814: ConvergenceWarning: lbfgs failed to converge (status=1):\n",
            "STOP: TOTAL NO. of ITERATIONS REACHED LIMIT.\n",
            "\n",
            "Increase the number of iterations (max_iter) or scale the data as shown in:\n",
            "    https://scikit-learn.org/stable/modules/preprocessing.html\n",
            "Please also refer to the documentation for alternative solver options:\n",
            "    https://scikit-learn.org/stable/modules/linear_model.html#logistic-regression\n",
            "  n_iter_i = _check_optimize_result(\n",
            "/usr/local/lib/python3.8/dist-packages/sklearn/linear_model/_logistic.py:814: ConvergenceWarning: lbfgs failed to converge (status=1):\n",
            "STOP: TOTAL NO. of ITERATIONS REACHED LIMIT.\n",
            "\n",
            "Increase the number of iterations (max_iter) or scale the data as shown in:\n",
            "    https://scikit-learn.org/stable/modules/preprocessing.html\n",
            "Please also refer to the documentation for alternative solver options:\n",
            "    https://scikit-learn.org/stable/modules/linear_model.html#logistic-regression\n",
            "  n_iter_i = _check_optimize_result(\n",
            "/usr/local/lib/python3.8/dist-packages/sklearn/linear_model/_logistic.py:814: ConvergenceWarning: lbfgs failed to converge (status=1):\n",
            "STOP: TOTAL NO. of ITERATIONS REACHED LIMIT.\n",
            "\n",
            "Increase the number of iterations (max_iter) or scale the data as shown in:\n",
            "    https://scikit-learn.org/stable/modules/preprocessing.html\n",
            "Please also refer to the documentation for alternative solver options:\n",
            "    https://scikit-learn.org/stable/modules/linear_model.html#logistic-regression\n",
            "  n_iter_i = _check_optimize_result(\n",
            "/usr/local/lib/python3.8/dist-packages/sklearn/model_selection/_validation.py:372: FitFailedWarning: \n",
            "9 fits failed out of a total of 18.\n",
            "The score on these train-test partitions for these parameters will be set to nan.\n",
            "If these failures are not expected, you can try to debug them by setting error_score='raise'.\n",
            "\n",
            "Below are more details about the failures:\n",
            "--------------------------------------------------------------------------------\n",
            "9 fits failed with the following error:\n",
            "Traceback (most recent call last):\n",
            "  File \"/usr/local/lib/python3.8/dist-packages/sklearn/model_selection/_validation.py\", line 680, in _fit_and_score\n",
            "    estimator.fit(X_train, y_train, **fit_params)\n",
            "  File \"/usr/local/lib/python3.8/dist-packages/sklearn/linear_model/_logistic.py\", line 1461, in fit\n",
            "    solver = _check_solver(self.solver, self.penalty, self.dual)\n",
            "  File \"/usr/local/lib/python3.8/dist-packages/sklearn/linear_model/_logistic.py\", line 447, in _check_solver\n",
            "    raise ValueError(\n",
            "ValueError: Solver lbfgs supports only 'l2' or 'none' penalties, got l1 penalty.\n",
            "\n",
            "  warnings.warn(some_fits_failed_message, FitFailedWarning)\n",
            "/usr/local/lib/python3.8/dist-packages/sklearn/model_selection/_search.py:969: UserWarning: One or more of the test scores are non-finite: [       nan 0.78557635        nan 0.78523137        nan 0.78431056]\n",
            "  warnings.warn(\n",
            "/usr/local/lib/python3.8/dist-packages/sklearn/linear_model/_logistic.py:814: ConvergenceWarning: lbfgs failed to converge (status=1):\n",
            "STOP: TOTAL NO. of ITERATIONS REACHED LIMIT.\n",
            "\n",
            "Increase the number of iterations (max_iter) or scale the data as shown in:\n",
            "    https://scikit-learn.org/stable/modules/preprocessing.html\n",
            "Please also refer to the documentation for alternative solver options:\n",
            "    https://scikit-learn.org/stable/modules/linear_model.html#logistic-regression\n",
            "  n_iter_i = _check_optimize_result(\n"
          ]
        },
        {
          "output_type": "execute_result",
          "data": {
            "text/plain": [
              "GridSearchCV(cv=3, estimator=LogisticRegression(random_state=0),\n",
              "             param_grid={'C': [0.1, 1, 5], 'penalty': ['l1', 'l2']})"
            ]
          },
          "metadata": {},
          "execution_count": 205
        }
      ]
    },
    {
      "cell_type": "code",
      "source": [
        "clf_lg.score(X,y), clf_lg.best_params_"
      ],
      "metadata": {
        "id": "76XUm47yBJW8",
        "colab": {
          "base_uri": "https://localhost:8080/"
        },
        "outputId": "f168a38a-b789-4c73-91b8-e727b0b4fa76"
      },
      "execution_count": null,
      "outputs": [
        {
          "output_type": "execute_result",
          "data": {
            "text/plain": [
              "(0.7878753019671, {'C': 0.1, 'penalty': 'l2'})"
            ]
          },
          "metadata": {},
          "execution_count": 206
        }
      ]
    },
    {
      "cell_type": "code",
      "source": [
        "xgb_model = XGBClassifier(random_state = 0)\n",
        "\n",
        "xgb_param = {\n",
        "    \"booster\" : [\"gbtree\", \"dart\"],\n",
        "    \"eta\" : [0.1, 0.3, 0.5, 0.7],\n",
        "    \"max_depth\" : [3,5,7]\n",
        "}\n",
        "\n",
        "\n",
        "\n",
        "clf_xgb = GridSearchCV(xgb_model, param_grid = xgb_param, cv = 3)\n"
      ],
      "metadata": {
        "id": "GubYH-ptAUHr"
      },
      "execution_count": 234,
      "outputs": []
    },
    {
      "cell_type": "code",
      "source": [
        "clf_xgb.fit(X,y)"
      ],
      "metadata": {
        "colab": {
          "base_uri": "https://localhost:8080/"
        },
        "id": "89lmAso2tZ2h",
        "outputId": "55235d6e-f14e-4029-bff0-90f609a9ec7c"
      },
      "execution_count": 235,
      "outputs": [
        {
          "output_type": "execute_result",
          "data": {
            "text/plain": [
              "GridSearchCV(cv=3, estimator=XGBClassifier(),\n",
              "             param_grid={'booster': ['gbtree', 'dart'],\n",
              "                         'eta': [0.1, 0.3, 0.5, 0.7], 'max_depth': [3, 5, 7]})"
            ]
          },
          "metadata": {},
          "execution_count": 235
        }
      ]
    },
    {
      "cell_type": "code",
      "source": [
        "clf_xgb.score(X, y), clf_xgb.best_params_"
      ],
      "metadata": {
        "colab": {
          "base_uri": "https://localhost:8080/"
        },
        "id": "4EI7uovtslQ1",
        "outputId": "fdd9a31c-54ff-4ba9-c23a-6a7df32a7d94"
      },
      "execution_count": 236,
      "outputs": [
        {
          "output_type": "execute_result",
          "data": {
            "text/plain": [
              "(0.8296330380766134, {'booster': 'gbtree', 'eta': 0.1, 'max_depth': 5})"
            ]
          },
          "metadata": {},
          "execution_count": 236
        }
      ]
    },
    {
      "cell_type": "code",
      "source": [
        "pred2 = clf_xgb.predict(test)\n",
        "\n",
        "df11 = pd.read_csv(\"test.csv\")\n",
        "id = df11[['PassengerId']]\n",
        "pred2 = pd.DataFrame(pred2, columns = ['Transported'])\n",
        "answer = pd.concat([id, pred2],axis = 1)\n",
        "answer.to_csv(\"answer_onlyxgboost.csv\", index = False)\n"
      ],
      "metadata": {
        "id": "uWxHg9qJxw6j"
      },
      "execution_count": 268,
      "outputs": []
    },
    {
      "cell_type": "code",
      "source": [
        "cb_model = CatBoostClassifier(verbose=False, random_state=0)\n",
        "cb_model.fit(X,y)"
      ],
      "metadata": {
        "colab": {
          "base_uri": "https://localhost:8080/"
        },
        "id": "zTWdwV1NtYQY",
        "outputId": "241bbf82-76d9-4d95-a642-fccb81fcd90e"
      },
      "execution_count": 258,
      "outputs": [
        {
          "output_type": "execute_result",
          "data": {
            "text/plain": [
              "<catboost.core.CatBoostClassifier at 0x7f667cef9c70>"
            ]
          },
          "metadata": {},
          "execution_count": 258
        }
      ]
    },
    {
      "cell_type": "code",
      "source": [],
      "metadata": {
        "id": "yOKOn5KExOQp"
      },
      "execution_count": null,
      "outputs": []
    },
    {
      "cell_type": "code",
      "source": [
        "cb_model.score(X, y)"
      ],
      "metadata": {
        "colab": {
          "base_uri": "https://localhost:8080/"
        },
        "id": "6XnTWe_Gwe3h",
        "outputId": "769781df-846b-4da0-e064-935cbb7c6ef0"
      },
      "execution_count": 259,
      "outputs": [
        {
          "output_type": "execute_result",
          "data": {
            "text/plain": [
              "0.8466582307603819"
            ]
          },
          "metadata": {},
          "execution_count": 259
        }
      ]
    },
    {
      "cell_type": "code",
      "source": [
        "pred1 = cb_model.predict(test)"
      ],
      "metadata": {
        "id": "K3_N-DSSwmxN"
      },
      "execution_count": 262,
      "outputs": []
    },
    {
      "cell_type": "code",
      "source": [
        "pred1"
      ],
      "metadata": {
        "colab": {
          "base_uri": "https://localhost:8080/"
        },
        "id": "J-lDEdzbx-HJ",
        "outputId": "d545c8d2-b3f2-421c-e951-d6eca21dd7bb"
      },
      "execution_count": 265,
      "outputs": [
        {
          "output_type": "execute_result",
          "data": {
            "text/plain": [
              "array(['True', 'False', 'True', ..., 'True', 'True', 'True'], dtype=object)"
            ]
          },
          "metadata": {},
          "execution_count": 265
        }
      ]
    },
    {
      "cell_type": "code",
      "source": [
        "df11 = pd.read_csv(\"test.csv\")\n",
        "id = df11[['PassengerId']]\n",
        "pred1 = pd.DataFrame(pred1, columns = ['Transported'])\n",
        "answer = pd.concat([id, pred1],axis = 1)\n",
        "answer.to_csv(\"answer_only_catboost.csv\", index = False)\n"
      ],
      "metadata": {
        "id": "HGeisZDmxmGk"
      },
      "execution_count": 269,
      "outputs": []
    },
    {
      "cell_type": "code",
      "source": [
        "!pip install catboost"
      ],
      "metadata": {
        "colab": {
          "base_uri": "https://localhost:8080/"
        },
        "id": "SkcL-Bi7e1V1",
        "outputId": "03f548f8-b89d-4a39-939c-075f4b8904f6"
      },
      "execution_count": 180,
      "outputs": [
        {
          "output_type": "stream",
          "name": "stdout",
          "text": [
            "Looking in indexes: https://pypi.org/simple, https://us-python.pkg.dev/colab-wheels/public/simple/\n",
            "Collecting catboost\n",
            "  Downloading catboost-1.1.1-cp38-none-manylinux1_x86_64.whl (76.6 MB)\n",
            "\u001b[2K     \u001b[90m━━━━━━━━━━━━━━━━━━━━━━━━━━━━━━━━━━━━━━━━\u001b[0m \u001b[32m76.6/76.6 MB\u001b[0m \u001b[31m7.5 MB/s\u001b[0m eta \u001b[36m0:00:00\u001b[0m\n",
            "\u001b[?25hRequirement already satisfied: matplotlib in /usr/local/lib/python3.8/dist-packages (from catboost) (3.2.2)\n",
            "Requirement already satisfied: scipy in /usr/local/lib/python3.8/dist-packages (from catboost) (1.7.3)\n",
            "Requirement already satisfied: plotly in /usr/local/lib/python3.8/dist-packages (from catboost) (5.5.0)\n",
            "Requirement already satisfied: six in /usr/local/lib/python3.8/dist-packages (from catboost) (1.15.0)\n",
            "Requirement already satisfied: pandas>=0.24.0 in /usr/local/lib/python3.8/dist-packages (from catboost) (1.3.5)\n",
            "Requirement already satisfied: graphviz in /usr/local/lib/python3.8/dist-packages (from catboost) (0.10.1)\n",
            "Requirement already satisfied: numpy>=1.16.0 in /usr/local/lib/python3.8/dist-packages (from catboost) (1.21.6)\n",
            "Requirement already satisfied: python-dateutil>=2.7.3 in /usr/local/lib/python3.8/dist-packages (from pandas>=0.24.0->catboost) (2.8.2)\n",
            "Requirement already satisfied: pytz>=2017.3 in /usr/local/lib/python3.8/dist-packages (from pandas>=0.24.0->catboost) (2022.7)\n",
            "Requirement already satisfied: pyparsing!=2.0.4,!=2.1.2,!=2.1.6,>=2.0.1 in /usr/local/lib/python3.8/dist-packages (from matplotlib->catboost) (3.0.9)\n",
            "Requirement already satisfied: kiwisolver>=1.0.1 in /usr/local/lib/python3.8/dist-packages (from matplotlib->catboost) (1.4.4)\n",
            "Requirement already satisfied: cycler>=0.10 in /usr/local/lib/python3.8/dist-packages (from matplotlib->catboost) (0.11.0)\n",
            "Requirement already satisfied: tenacity>=6.2.0 in /usr/local/lib/python3.8/dist-packages (from plotly->catboost) (8.1.0)\n",
            "Installing collected packages: catboost\n",
            "Successfully installed catboost-1.1.1\n"
          ]
        }
      ]
    },
    {
      "cell_type": "code",
      "source": [
        "from catboost import CatBoostClassifier\n",
        "from xgboost import XGBClassifier\n",
        "from lightgbm import LGBMClassifier"
      ],
      "metadata": {
        "id": "yoz-7VbmVGJU"
      },
      "execution_count": 229,
      "outputs": []
    },
    {
      "cell_type": "code",
      "source": [
        "from sklearn.ensemble import VotingClassifier\n",
        "lg_model = LogisticRegression(C = 0.1, penalty = 'l2')\n",
        "svc_model = SVC(probability= True)\n",
        "dt_model = DecisionTreeClassifier()\n",
        "rf_model = RandomForestClassifier()\n",
        "ct_model = CatBoostClassifier(random_state=0, verbose=False)\n",
        "lgb_model = LGBMClassifier(random_state =0)\n",
        "cb_model = CatBoostClassifier(verbose=False, random_state=0)\n",
        "vo_clf = VotingClassifier( estimators=[('LR',lg_model),('SVC',svc_model),('Dt',dt_model),('RF', rf_model),('CT', ct_model), ('LGB', lgb_model), ('CB', cb_model) ] , voting='hard' )"
      ],
      "metadata": {
        "id": "uV6a5YV59yj6"
      },
      "execution_count": 243,
      "outputs": []
    },
    {
      "cell_type": "code",
      "source": [
        "vo_clf.fit(X , y)\n",
        "pred = vo_clf.predict(test)\n",
        "\n",
        "df11 = pd.read_csv(\"test.csv\")\n",
        "id = df11[['PassengerId']]\n",
        "pred = pd.DataFrame(pred, columns = ['Transported'])\n",
        "answer = pd.concat([id, pred],axis = 1)\n",
        "answer.to_csv(\"answer.csv\", index = False)\n"
      ],
      "metadata": {
        "id": "2vGDaABy9ymR",
        "colab": {
          "base_uri": "https://localhost:8080/"
        },
        "outputId": "dadde0b0-af92-4974-dfbe-fc2dbe058829"
      },
      "execution_count": 244,
      "outputs": [
        {
          "output_type": "stream",
          "name": "stderr",
          "text": [
            "/usr/local/lib/python3.8/dist-packages/sklearn/linear_model/_logistic.py:814: ConvergenceWarning: lbfgs failed to converge (status=1):\n",
            "STOP: TOTAL NO. of ITERATIONS REACHED LIMIT.\n",
            "\n",
            "Increase the number of iterations (max_iter) or scale the data as shown in:\n",
            "    https://scikit-learn.org/stable/modules/preprocessing.html\n",
            "Please also refer to the documentation for alternative solver options:\n",
            "    https://scikit-learn.org/stable/modules/linear_model.html#logistic-regression\n",
            "  n_iter_i = _check_optimize_result(\n"
          ]
        }
      ]
    },
    {
      "cell_type": "code",
      "source": [
        "from sklearn.ensemble import VotingClassifier\n",
        "ct_model = CatBoostClassifier(random_state=0, verbose=False)\n",
        "lgb_model = LGBMClassifier(random_state =0)\n",
        "xgb_model = XGBClassifier(random_state = 0)\n",
        "vo_clf = VotingClassifier( estimators=[('CT', ct_model), ('LGB', lgb_model), ('XGB', xgb_model) ] , voting='soft' )\n",
        "\n",
        "vo_clf.fit(X , y)\n",
        "pred = vo_clf.predict(test)\n",
        "\n",
        "df11 = pd.read_csv(\"test.csv\")\n",
        "id = df11[['PassengerId']]\n",
        "pred = pd.DataFrame(pred, columns = ['Transported'])\n",
        "answer = pd.concat([id, pred],axis = 1)\n",
        "answer.to_csv(\"answer_only_highest.csv\", index = False)\n"
      ],
      "metadata": {
        "id": "yLAlGtnNx648"
      },
      "execution_count": 270,
      "outputs": []
    },
    {
      "cell_type": "code",
      "source": [],
      "metadata": {
        "id": "whHOM6bK0NIu"
      },
      "execution_count": null,
      "outputs": []
    }
  ]
}